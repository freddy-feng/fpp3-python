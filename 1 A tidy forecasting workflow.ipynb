{
 "cells": [
  {
   "cell_type": "markdown",
   "metadata": {},
   "source": [
    "## 1. A tidy forecasting workflow\n",
    "***\n",
    "\n",
    "The process of producing forecasts for time series data can be broken down into a few steps.\n",
    "\n",
    "![workflow-1](https://raw.githubusercontent.com/Nixtla/fpp3/main/Assets/workflow-1.png)\n",
    "\n",
    "<img src=\"https://raw.githubusercontent.com/Nixtla/fpp3/main/Assets/workflow-1.png\" alt=\"workflow\" />\n",
    "\n",
    "\n",
    "To illustrate the process, we will fit a ETS model to national GDP data stored in `global_economy`\n",
    "\n",
    "## Data preparation (tidy)\n",
    "\n",
    "The first step in forecasting is to prepare data in the correct format. This process may involve loading in data, identifying missing values, filtering the time series, and other pre-processing tasks. *Multiple pandas functions can be useful for this stage*\n",
    "\n",
    "Many models have different data requirements; some require the series to be in time order, others require no missing values. Checking your data is an essential step to understanding its features and should always be done before models are estimated.\n",
    "\n",
    "We will model GDP per capita over time; so first, we must compute the relevant variable."
   ]
  },
  {
   "cell_type": "code",
   "execution_count": 1,
   "metadata": {},
   "outputs": [],
   "source": [
    "# Import the libraries that we are going to use for the analysis:\n",
    "import pandas as pd\n",
    "import numpy as np\n",
    "import statsforecast\n",
    "import matplotlib.pyplot as plt"
   ]
  },
  {
   "cell_type": "code",
   "execution_count": 2,
   "metadata": {},
   "outputs": [
    {
     "data": {
      "application/vnd.microsoft.datawrangler.viewer.v0+json": {
       "columns": [
        {
         "name": "index",
         "rawType": "int64",
         "type": "integer"
        },
        {
         "name": "Year",
         "rawType": "int64",
         "type": "integer"
        },
        {
         "name": "Afghanistan_gdp",
         "rawType": "float64",
         "type": "float"
        },
        {
         "name": "Albania_gdp",
         "rawType": "float64",
         "type": "float"
        },
        {
         "name": "Algeria_gdp",
         "rawType": "float64",
         "type": "float"
        },
        {
         "name": "American Samoa_gdp",
         "rawType": "float64",
         "type": "float"
        },
        {
         "name": "Andorra_gdp",
         "rawType": "float64",
         "type": "float"
        },
        {
         "name": "Angola_gdp",
         "rawType": "float64",
         "type": "float"
        },
        {
         "name": "Antigua and Barbuda_gdp",
         "rawType": "float64",
         "type": "float"
        },
        {
         "name": "Argentina_gdp",
         "rawType": "float64",
         "type": "float"
        },
        {
         "name": "Armenia_gdp",
         "rawType": "float64",
         "type": "float"
        },
        {
         "name": "Aruba_gdp",
         "rawType": "float64",
         "type": "float"
        },
        {
         "name": "Australia_gdp",
         "rawType": "float64",
         "type": "float"
        },
        {
         "name": "Austria_gdp",
         "rawType": "float64",
         "type": "float"
        },
        {
         "name": "Azerbaijan_gdp",
         "rawType": "float64",
         "type": "float"
        },
        {
         "name": "Bahamas, The_gdp",
         "rawType": "float64",
         "type": "float"
        },
        {
         "name": "Bahrain_gdp",
         "rawType": "float64",
         "type": "float"
        },
        {
         "name": "Bangladesh_gdp",
         "rawType": "float64",
         "type": "float"
        },
        {
         "name": "Barbados_gdp",
         "rawType": "float64",
         "type": "float"
        },
        {
         "name": "Belarus_gdp",
         "rawType": "float64",
         "type": "float"
        },
        {
         "name": "Belgium_gdp",
         "rawType": "float64",
         "type": "float"
        },
        {
         "name": "Belize_gdp",
         "rawType": "float64",
         "type": "float"
        },
        {
         "name": "Benin_gdp",
         "rawType": "float64",
         "type": "float"
        },
        {
         "name": "Bermuda_gdp",
         "rawType": "float64",
         "type": "float"
        },
        {
         "name": "Bhutan_gdp",
         "rawType": "float64",
         "type": "float"
        },
        {
         "name": "Bolivia_gdp",
         "rawType": "float64",
         "type": "float"
        },
        {
         "name": "Bosnia and Herzegovina_gdp",
         "rawType": "float64",
         "type": "float"
        },
        {
         "name": "Botswana_gdp",
         "rawType": "float64",
         "type": "float"
        },
        {
         "name": "Brazil_gdp",
         "rawType": "float64",
         "type": "float"
        },
        {
         "name": "British Virgin Islands_gdp",
         "rawType": "float64",
         "type": "float"
        },
        {
         "name": "Brunei Darussalam_gdp",
         "rawType": "float64",
         "type": "float"
        },
        {
         "name": "Bulgaria_gdp",
         "rawType": "float64",
         "type": "float"
        },
        {
         "name": "Burkina Faso_gdp",
         "rawType": "float64",
         "type": "float"
        },
        {
         "name": "Burundi_gdp",
         "rawType": "float64",
         "type": "float"
        },
        {
         "name": "Cabo Verde_gdp",
         "rawType": "float64",
         "type": "float"
        },
        {
         "name": "Cambodia_gdp",
         "rawType": "float64",
         "type": "float"
        },
        {
         "name": "Cameroon_gdp",
         "rawType": "float64",
         "type": "float"
        },
        {
         "name": "Canada_gdp",
         "rawType": "float64",
         "type": "float"
        },
        {
         "name": "Cayman Islands_gdp",
         "rawType": "float64",
         "type": "float"
        },
        {
         "name": "Central African Republic_gdp",
         "rawType": "float64",
         "type": "float"
        },
        {
         "name": "Chad_gdp",
         "rawType": "float64",
         "type": "float"
        },
        {
         "name": "Channel Islands_gdp",
         "rawType": "float64",
         "type": "float"
        },
        {
         "name": "Chile_gdp",
         "rawType": "float64",
         "type": "float"
        },
        {
         "name": "China_gdp",
         "rawType": "float64",
         "type": "float"
        },
        {
         "name": "Colombia_gdp",
         "rawType": "float64",
         "type": "float"
        },
        {
         "name": "Comoros_gdp",
         "rawType": "float64",
         "type": "float"
        },
        {
         "name": "Congo, Dem. Rep._gdp",
         "rawType": "int64",
         "type": "integer"
        },
        {
         "name": "Congo, Rep._gdp",
         "rawType": "float64",
         "type": "float"
        },
        {
         "name": "Costa Rica_gdp",
         "rawType": "float64",
         "type": "float"
        },
        {
         "name": "Cote d'Ivoire_gdp",
         "rawType": "float64",
         "type": "float"
        },
        {
         "name": "Croatia_gdp",
         "rawType": "float64",
         "type": "float"
        },
        {
         "name": "Cuba_gdp",
         "rawType": "float64",
         "type": "float"
        },
        {
         "name": "Curacao_gdp",
         "rawType": "float64",
         "type": "float"
        },
        {
         "name": "Cyprus_gdp",
         "rawType": "float64",
         "type": "float"
        },
        {
         "name": "Czech Republic_gdp",
         "rawType": "float64",
         "type": "float"
        },
        {
         "name": "Denmark_gdp",
         "rawType": "float64",
         "type": "float"
        },
        {
         "name": "Djibouti_gdp",
         "rawType": "float64",
         "type": "float"
        },
        {
         "name": "Dominica_gdp",
         "rawType": "float64",
         "type": "float"
        },
        {
         "name": "Dominican Republic_gdp",
         "rawType": "int64",
         "type": "integer"
        },
        {
         "name": "Ecuador_gdp",
         "rawType": "float64",
         "type": "float"
        },
        {
         "name": "Egypt, Arab Rep._gdp",
         "rawType": "float64",
         "type": "float"
        },
        {
         "name": "El Salvador_gdp",
         "rawType": "float64",
         "type": "float"
        },
        {
         "name": "Equatorial Guinea_gdp",
         "rawType": "float64",
         "type": "float"
        },
        {
         "name": "Eritrea_gdp",
         "rawType": "float64",
         "type": "float"
        },
        {
         "name": "Estonia_gdp",
         "rawType": "float64",
         "type": "float"
        },
        {
         "name": "Eswatini_gdp",
         "rawType": "float64",
         "type": "float"
        },
        {
         "name": "Ethiopia_gdp",
         "rawType": "float64",
         "type": "float"
        },
        {
         "name": "Faroe Islands_gdp",
         "rawType": "float64",
         "type": "float"
        },
        {
         "name": "Fiji_gdp",
         "rawType": "float64",
         "type": "float"
        },
        {
         "name": "Finland_gdp",
         "rawType": "float64",
         "type": "float"
        },
        {
         "name": "France_gdp",
         "rawType": "float64",
         "type": "float"
        },
        {
         "name": "French Polynesia_gdp",
         "rawType": "float64",
         "type": "float"
        },
        {
         "name": "Gabon_gdp",
         "rawType": "float64",
         "type": "float"
        },
        {
         "name": "Gambia, The_gdp",
         "rawType": "float64",
         "type": "float"
        },
        {
         "name": "Georgia_gdp",
         "rawType": "float64",
         "type": "float"
        },
        {
         "name": "Germany_gdp",
         "rawType": "float64",
         "type": "float"
        },
        {
         "name": "Ghana_gdp",
         "rawType": "int64",
         "type": "integer"
        },
        {
         "name": "Gibraltar_gdp",
         "rawType": "float64",
         "type": "float"
        },
        {
         "name": "Greece_gdp",
         "rawType": "float64",
         "type": "float"
        },
        {
         "name": "Greenland_gdp",
         "rawType": "float64",
         "type": "float"
        },
        {
         "name": "Grenada_gdp",
         "rawType": "float64",
         "type": "float"
        },
        {
         "name": "Guam_gdp",
         "rawType": "float64",
         "type": "float"
        },
        {
         "name": "Guatemala_gdp",
         "rawType": "int64",
         "type": "integer"
        },
        {
         "name": "Guinea_gdp",
         "rawType": "float64",
         "type": "float"
        },
        {
         "name": "Guinea-Bissau_gdp",
         "rawType": "float64",
         "type": "float"
        },
        {
         "name": "Guyana_gdp",
         "rawType": "float64",
         "type": "float"
        },
        {
         "name": "Haiti_gdp",
         "rawType": "int64",
         "type": "integer"
        },
        {
         "name": "Honduras_gdp",
         "rawType": "int64",
         "type": "integer"
        },
        {
         "name": "Hong Kong SAR, China_gdp",
         "rawType": "float64",
         "type": "float"
        },
        {
         "name": "Hungary_gdp",
         "rawType": "float64",
         "type": "float"
        },
        {
         "name": "Iceland_gdp",
         "rawType": "float64",
         "type": "float"
        },
        {
         "name": "India_gdp",
         "rawType": "float64",
         "type": "float"
        },
        {
         "name": "Indonesia_gdp",
         "rawType": "float64",
         "type": "float"
        },
        {
         "name": "Iran, Islamic Rep._gdp",
         "rawType": "float64",
         "type": "float"
        },
        {
         "name": "Iraq_gdp",
         "rawType": "float64",
         "type": "float"
        },
        {
         "name": "Ireland_gdp",
         "rawType": "float64",
         "type": "float"
        },
        {
         "name": "Isle of Man_gdp",
         "rawType": "float64",
         "type": "float"
        },
        {
         "name": "Israel_gdp",
         "rawType": "float64",
         "type": "float"
        },
        {
         "name": "Italy_gdp",
         "rawType": "float64",
         "type": "float"
        },
        {
         "name": "Jamaica_gdp",
         "rawType": "float64",
         "type": "float"
        },
        {
         "name": "Japan_gdp",
         "rawType": "float64",
         "type": "float"
        },
        {
         "name": "Jordan_gdp",
         "rawType": "float64",
         "type": "float"
        },
        {
         "name": "Kazakhstan_gdp",
         "rawType": "float64",
         "type": "float"
        },
        {
         "name": "Kenya_gdp",
         "rawType": "float64",
         "type": "float"
        },
        {
         "name": "Kiribati_gdp",
         "rawType": "float64",
         "type": "float"
        },
        {
         "name": "Korea, Dem. People's Rep._gdp",
         "rawType": "float64",
         "type": "float"
        },
        {
         "name": "Korea, Rep._gdp",
         "rawType": "float64",
         "type": "float"
        },
        {
         "name": "Kosovo_gdp",
         "rawType": "float64",
         "type": "float"
        },
        {
         "name": "Kuwait_gdp",
         "rawType": "float64",
         "type": "float"
        },
        {
         "name": "Kyrgyz Republic_gdp",
         "rawType": "float64",
         "type": "float"
        },
        {
         "name": "Lao PDR_gdp",
         "rawType": "float64",
         "type": "float"
        },
        {
         "name": "Latvia_gdp",
         "rawType": "float64",
         "type": "float"
        },
        {
         "name": "Lebanon_gdp",
         "rawType": "float64",
         "type": "float"
        },
        {
         "name": "Lesotho_gdp",
         "rawType": "float64",
         "type": "float"
        },
        {
         "name": "Liberia_gdp",
         "rawType": "float64",
         "type": "float"
        },
        {
         "name": "Libya_gdp",
         "rawType": "float64",
         "type": "float"
        },
        {
         "name": "Liechtenstein_gdp",
         "rawType": "float64",
         "type": "float"
        },
        {
         "name": "Lithuania_gdp",
         "rawType": "float64",
         "type": "float"
        },
        {
         "name": "Luxembourg_gdp",
         "rawType": "float64",
         "type": "float"
        },
        {
         "name": "Macao SAR, China_gdp",
         "rawType": "float64",
         "type": "float"
        },
        {
         "name": "Madagascar_gdp",
         "rawType": "float64",
         "type": "float"
        },
        {
         "name": "Malawi_gdp",
         "rawType": "float64",
         "type": "float"
        },
        {
         "name": "Malaysia_gdp",
         "rawType": "float64",
         "type": "float"
        },
        {
         "name": "Maldives_gdp",
         "rawType": "float64",
         "type": "float"
        },
        {
         "name": "Mali_gdp",
         "rawType": "float64",
         "type": "float"
        },
        {
         "name": "Malta_gdp",
         "rawType": "float64",
         "type": "float"
        },
        {
         "name": "Marshall Islands_gdp",
         "rawType": "float64",
         "type": "float"
        },
        {
         "name": "Mauritania_gdp",
         "rawType": "float64",
         "type": "float"
        },
        {
         "name": "Mauritius_gdp",
         "rawType": "float64",
         "type": "float"
        },
        {
         "name": "Mexico_gdp",
         "rawType": "float64",
         "type": "float"
        },
        {
         "name": "Micronesia, Fed. Sts._gdp",
         "rawType": "float64",
         "type": "float"
        },
        {
         "name": "Moldova_gdp",
         "rawType": "float64",
         "type": "float"
        },
        {
         "name": "Monaco_gdp",
         "rawType": "float64",
         "type": "float"
        },
        {
         "name": "Mongolia_gdp",
         "rawType": "float64",
         "type": "float"
        },
        {
         "name": "Montenegro_gdp",
         "rawType": "float64",
         "type": "float"
        },
        {
         "name": "Morocco_gdp",
         "rawType": "float64",
         "type": "float"
        },
        {
         "name": "Mozambique_gdp",
         "rawType": "float64",
         "type": "float"
        },
        {
         "name": "Myanmar_gdp",
         "rawType": "float64",
         "type": "float"
        },
        {
         "name": "Namibia_gdp",
         "rawType": "float64",
         "type": "float"
        },
        {
         "name": "Nauru_gdp",
         "rawType": "float64",
         "type": "float"
        },
        {
         "name": "Nepal_gdp",
         "rawType": "float64",
         "type": "float"
        },
        {
         "name": "Netherlands_gdp",
         "rawType": "float64",
         "type": "float"
        },
        {
         "name": "New Caledonia_gdp",
         "rawType": "float64",
         "type": "float"
        },
        {
         "name": "New Zealand_gdp",
         "rawType": "float64",
         "type": "float"
        },
        {
         "name": "Nicaragua_gdp",
         "rawType": "float64",
         "type": "float"
        },
        {
         "name": "Niger_gdp",
         "rawType": "float64",
         "type": "float"
        },
        {
         "name": "Nigeria_gdp",
         "rawType": "float64",
         "type": "float"
        },
        {
         "name": "North Macedonia_gdp",
         "rawType": "float64",
         "type": "float"
        },
        {
         "name": "Northern Mariana Islands_gdp",
         "rawType": "float64",
         "type": "float"
        },
        {
         "name": "Norway_gdp",
         "rawType": "float64",
         "type": "float"
        },
        {
         "name": "Oman_gdp",
         "rawType": "float64",
         "type": "float"
        },
        {
         "name": "Pakistan_gdp",
         "rawType": "float64",
         "type": "float"
        },
        {
         "name": "Palau_gdp",
         "rawType": "float64",
         "type": "float"
        },
        {
         "name": "Panama_gdp",
         "rawType": "int64",
         "type": "integer"
        },
        {
         "name": "Papua New Guinea_gdp",
         "rawType": "float64",
         "type": "float"
        },
        {
         "name": "Paraguay_gdp",
         "rawType": "float64",
         "type": "float"
        },
        {
         "name": "Peru_gdp",
         "rawType": "float64",
         "type": "float"
        },
        {
         "name": "Philippines_gdp",
         "rawType": "float64",
         "type": "float"
        },
        {
         "name": "Poland_gdp",
         "rawType": "float64",
         "type": "float"
        },
        {
         "name": "Portugal_gdp",
         "rawType": "float64",
         "type": "float"
        },
        {
         "name": "Puerto Rico_gdp",
         "rawType": "float64",
         "type": "float"
        },
        {
         "name": "Qatar_gdp",
         "rawType": "float64",
         "type": "float"
        },
        {
         "name": "Romania_gdp",
         "rawType": "float64",
         "type": "float"
        },
        {
         "name": "Russian Federation_gdp",
         "rawType": "float64",
         "type": "float"
        },
        {
         "name": "Rwanda_gdp",
         "rawType": "float64",
         "type": "float"
        },
        {
         "name": "Samoa_gdp",
         "rawType": "float64",
         "type": "float"
        },
        {
         "name": "San Marino_gdp",
         "rawType": "float64",
         "type": "float"
        },
        {
         "name": "Sao Tome and Principe_gdp",
         "rawType": "float64",
         "type": "float"
        },
        {
         "name": "Saudi Arabia_gdp",
         "rawType": "float64",
         "type": "float"
        },
        {
         "name": "Senegal_gdp",
         "rawType": "int64",
         "type": "integer"
        },
        {
         "name": "Serbia_gdp",
         "rawType": "float64",
         "type": "float"
        },
        {
         "name": "Seychelles_gdp",
         "rawType": "float64",
         "type": "float"
        },
        {
         "name": "Sierra Leone_gdp",
         "rawType": "float64",
         "type": "float"
        },
        {
         "name": "Singapore_gdp",
         "rawType": "float64",
         "type": "float"
        },
        {
         "name": "Sint Maarten (Dutch part)_gdp",
         "rawType": "float64",
         "type": "float"
        },
        {
         "name": "Slovak Republic_gdp",
         "rawType": "float64",
         "type": "float"
        },
        {
         "name": "Slovenia_gdp",
         "rawType": "float64",
         "type": "float"
        },
        {
         "name": "Solomon Islands_gdp",
         "rawType": "float64",
         "type": "float"
        },
        {
         "name": "Somalia_gdp",
         "rawType": "float64",
         "type": "float"
        },
        {
         "name": "South Africa_gdp",
         "rawType": "float64",
         "type": "float"
        },
        {
         "name": "South Sudan_gdp",
         "rawType": "float64",
         "type": "float"
        },
        {
         "name": "Spain_gdp",
         "rawType": "float64",
         "type": "float"
        },
        {
         "name": "Sri Lanka_gdp",
         "rawType": "int64",
         "type": "integer"
        },
        {
         "name": "St. Kitts and Nevis_gdp",
         "rawType": "float64",
         "type": "float"
        },
        {
         "name": "St. Lucia_gdp",
         "rawType": "float64",
         "type": "float"
        },
        {
         "name": "St. Martin (French part)_gdp",
         "rawType": "float64",
         "type": "float"
        },
        {
         "name": "St. Vincent and the Grenadines_gdp",
         "rawType": "float64",
         "type": "float"
        },
        {
         "name": "Sudan_gdp",
         "rawType": "float64",
         "type": "float"
        },
        {
         "name": "Suriname_gdp",
         "rawType": "float64",
         "type": "float"
        },
        {
         "name": "Sweden_gdp",
         "rawType": "float64",
         "type": "float"
        },
        {
         "name": "Switzerland_gdp",
         "rawType": "float64",
         "type": "float"
        },
        {
         "name": "Syrian Arab Republic_gdp",
         "rawType": "float64",
         "type": "float"
        },
        {
         "name": "Tajikistan_gdp",
         "rawType": "float64",
         "type": "float"
        },
        {
         "name": "Tanzania_gdp",
         "rawType": "float64",
         "type": "float"
        },
        {
         "name": "Thailand_gdp",
         "rawType": "float64",
         "type": "float"
        },
        {
         "name": "Timor-Leste_gdp",
         "rawType": "float64",
         "type": "float"
        },
        {
         "name": "Togo_gdp",
         "rawType": "float64",
         "type": "float"
        },
        {
         "name": "Tonga_gdp",
         "rawType": "float64",
         "type": "float"
        },
        {
         "name": "Trinidad and Tobago_gdp",
         "rawType": "float64",
         "type": "float"
        },
        {
         "name": "Tunisia_gdp",
         "rawType": "float64",
         "type": "float"
        },
        {
         "name": "Turkiye_gdp",
         "rawType": "float64",
         "type": "float"
        },
        {
         "name": "Turkmenistan_gdp",
         "rawType": "float64",
         "type": "float"
        },
        {
         "name": "Turks and Caicos Islands_gdp",
         "rawType": "float64",
         "type": "float"
        },
        {
         "name": "Tuvalu_gdp",
         "rawType": "float64",
         "type": "float"
        },
        {
         "name": "Uganda_gdp",
         "rawType": "float64",
         "type": "float"
        },
        {
         "name": "Ukraine_gdp",
         "rawType": "float64",
         "type": "float"
        },
        {
         "name": "United Arab Emirates_gdp",
         "rawType": "float64",
         "type": "float"
        },
        {
         "name": "United Kingdom_gdp",
         "rawType": "float64",
         "type": "float"
        },
        {
         "name": "United States_gdp",
         "rawType": "float64",
         "type": "float"
        },
        {
         "name": "Uruguay_gdp",
         "rawType": "int64",
         "type": "integer"
        },
        {
         "name": "Uzbekistan_gdp",
         "rawType": "float64",
         "type": "float"
        },
        {
         "name": "Vanuatu_gdp",
         "rawType": "float64",
         "type": "float"
        },
        {
         "name": "Venezuela, RB_gdp",
         "rawType": "float64",
         "type": "float"
        },
        {
         "name": "Vietnam_gdp",
         "rawType": "float64",
         "type": "float"
        },
        {
         "name": "Virgin Islands (U.S.)_gdp",
         "rawType": "float64",
         "type": "float"
        },
        {
         "name": "West Bank and Gaza_gdp",
         "rawType": "float64",
         "type": "float"
        },
        {
         "name": "Yemen, Rep._gdp",
         "rawType": "float64",
         "type": "float"
        },
        {
         "name": "Zambia_gdp",
         "rawType": "float64",
         "type": "float"
        },
        {
         "name": "Zimbabwe_gdp",
         "rawType": "int64",
         "type": "integer"
        },
        {
         "name": "Afghanistan_pop",
         "rawType": "int64",
         "type": "integer"
        },
        {
         "name": "Albania_pop",
         "rawType": "int64",
         "type": "integer"
        },
        {
         "name": "Algeria_pop",
         "rawType": "int64",
         "type": "integer"
        },
        {
         "name": "American Samoa_pop",
         "rawType": "int64",
         "type": "integer"
        },
        {
         "name": "Andorra_pop",
         "rawType": "int64",
         "type": "integer"
        },
        {
         "name": "Angola_pop",
         "rawType": "int64",
         "type": "integer"
        },
        {
         "name": "Antigua and Barbuda_pop",
         "rawType": "int64",
         "type": "integer"
        },
        {
         "name": "Argentina_pop",
         "rawType": "int64",
         "type": "integer"
        },
        {
         "name": "Armenia_pop",
         "rawType": "int64",
         "type": "integer"
        },
        {
         "name": "Aruba_pop",
         "rawType": "int64",
         "type": "integer"
        },
        {
         "name": "Australia_pop",
         "rawType": "int64",
         "type": "integer"
        },
        {
         "name": "Austria_pop",
         "rawType": "int64",
         "type": "integer"
        },
        {
         "name": "Azerbaijan_pop",
         "rawType": "int64",
         "type": "integer"
        },
        {
         "name": "Bahamas, The_pop",
         "rawType": "int64",
         "type": "integer"
        },
        {
         "name": "Bahrain_pop",
         "rawType": "int64",
         "type": "integer"
        },
        {
         "name": "Bangladesh_pop",
         "rawType": "int64",
         "type": "integer"
        },
        {
         "name": "Barbados_pop",
         "rawType": "int64",
         "type": "integer"
        },
        {
         "name": "Belarus_pop",
         "rawType": "int64",
         "type": "integer"
        },
        {
         "name": "Belgium_pop",
         "rawType": "int64",
         "type": "integer"
        },
        {
         "name": "Belize_pop",
         "rawType": "int64",
         "type": "integer"
        },
        {
         "name": "Benin_pop",
         "rawType": "int64",
         "type": "integer"
        },
        {
         "name": "Bermuda_pop",
         "rawType": "int64",
         "type": "integer"
        },
        {
         "name": "Bhutan_pop",
         "rawType": "int64",
         "type": "integer"
        },
        {
         "name": "Bolivia_pop",
         "rawType": "int64",
         "type": "integer"
        },
        {
         "name": "Bosnia and Herzegovina_pop",
         "rawType": "int64",
         "type": "integer"
        },
        {
         "name": "Botswana_pop",
         "rawType": "int64",
         "type": "integer"
        },
        {
         "name": "Brazil_pop",
         "rawType": "int64",
         "type": "integer"
        },
        {
         "name": "British Virgin Islands_pop",
         "rawType": "int64",
         "type": "integer"
        },
        {
         "name": "Brunei Darussalam_pop",
         "rawType": "int64",
         "type": "integer"
        },
        {
         "name": "Bulgaria_pop",
         "rawType": "int64",
         "type": "integer"
        },
        {
         "name": "Burkina Faso_pop",
         "rawType": "int64",
         "type": "integer"
        },
        {
         "name": "Burundi_pop",
         "rawType": "int64",
         "type": "integer"
        },
        {
         "name": "Cabo Verde_pop",
         "rawType": "int64",
         "type": "integer"
        },
        {
         "name": "Cambodia_pop",
         "rawType": "int64",
         "type": "integer"
        },
        {
         "name": "Cameroon_pop",
         "rawType": "int64",
         "type": "integer"
        },
        {
         "name": "Canada_pop",
         "rawType": "int64",
         "type": "integer"
        },
        {
         "name": "Cayman Islands_pop",
         "rawType": "int64",
         "type": "integer"
        },
        {
         "name": "Central African Republic_pop",
         "rawType": "int64",
         "type": "integer"
        },
        {
         "name": "Chad_pop",
         "rawType": "int64",
         "type": "integer"
        },
        {
         "name": "Channel Islands_pop",
         "rawType": "int64",
         "type": "integer"
        },
        {
         "name": "Chile_pop",
         "rawType": "int64",
         "type": "integer"
        },
        {
         "name": "China_pop",
         "rawType": "int64",
         "type": "integer"
        },
        {
         "name": "Colombia_pop",
         "rawType": "int64",
         "type": "integer"
        },
        {
         "name": "Comoros_pop",
         "rawType": "int64",
         "type": "integer"
        },
        {
         "name": "Congo, Dem. Rep._pop",
         "rawType": "int64",
         "type": "integer"
        },
        {
         "name": "Congo, Rep._pop",
         "rawType": "int64",
         "type": "integer"
        },
        {
         "name": "Costa Rica_pop",
         "rawType": "int64",
         "type": "integer"
        },
        {
         "name": "Cote d'Ivoire_pop",
         "rawType": "int64",
         "type": "integer"
        },
        {
         "name": "Croatia_pop",
         "rawType": "int64",
         "type": "integer"
        },
        {
         "name": "Cuba_pop",
         "rawType": "int64",
         "type": "integer"
        },
        {
         "name": "Curacao_pop",
         "rawType": "int64",
         "type": "integer"
        },
        {
         "name": "Cyprus_pop",
         "rawType": "int64",
         "type": "integer"
        },
        {
         "name": "Czech Republic_pop",
         "rawType": "int64",
         "type": "integer"
        },
        {
         "name": "Denmark_pop",
         "rawType": "int64",
         "type": "integer"
        },
        {
         "name": "Djibouti_pop",
         "rawType": "int64",
         "type": "integer"
        },
        {
         "name": "Dominica_pop",
         "rawType": "int64",
         "type": "integer"
        },
        {
         "name": "Dominican Republic_pop",
         "rawType": "int64",
         "type": "integer"
        },
        {
         "name": "Ecuador_pop",
         "rawType": "int64",
         "type": "integer"
        },
        {
         "name": "Egypt, Arab Rep._pop",
         "rawType": "int64",
         "type": "integer"
        },
        {
         "name": "El Salvador_pop",
         "rawType": "int64",
         "type": "integer"
        },
        {
         "name": "Equatorial Guinea_pop",
         "rawType": "int64",
         "type": "integer"
        },
        {
         "name": "Eritrea_pop",
         "rawType": "float64",
         "type": "float"
        },
        {
         "name": "Estonia_pop",
         "rawType": "int64",
         "type": "integer"
        },
        {
         "name": "Eswatini_pop",
         "rawType": "int64",
         "type": "integer"
        },
        {
         "name": "Ethiopia_pop",
         "rawType": "int64",
         "type": "integer"
        },
        {
         "name": "Faroe Islands_pop",
         "rawType": "int64",
         "type": "integer"
        },
        {
         "name": "Fiji_pop",
         "rawType": "int64",
         "type": "integer"
        },
        {
         "name": "Finland_pop",
         "rawType": "int64",
         "type": "integer"
        },
        {
         "name": "France_pop",
         "rawType": "int64",
         "type": "integer"
        },
        {
         "name": "French Polynesia_pop",
         "rawType": "int64",
         "type": "integer"
        },
        {
         "name": "Gabon_pop",
         "rawType": "int64",
         "type": "integer"
        },
        {
         "name": "Gambia, The_pop",
         "rawType": "int64",
         "type": "integer"
        },
        {
         "name": "Georgia_pop",
         "rawType": "int64",
         "type": "integer"
        },
        {
         "name": "Germany_pop",
         "rawType": "int64",
         "type": "integer"
        },
        {
         "name": "Ghana_pop",
         "rawType": "int64",
         "type": "integer"
        },
        {
         "name": "Gibraltar_pop",
         "rawType": "int64",
         "type": "integer"
        },
        {
         "name": "Greece_pop",
         "rawType": "int64",
         "type": "integer"
        },
        {
         "name": "Greenland_pop",
         "rawType": "int64",
         "type": "integer"
        },
        {
         "name": "Grenada_pop",
         "rawType": "int64",
         "type": "integer"
        },
        {
         "name": "Guam_pop",
         "rawType": "int64",
         "type": "integer"
        },
        {
         "name": "Guatemala_pop",
         "rawType": "int64",
         "type": "integer"
        },
        {
         "name": "Guinea_pop",
         "rawType": "int64",
         "type": "integer"
        },
        {
         "name": "Guinea-Bissau_pop",
         "rawType": "int64",
         "type": "integer"
        },
        {
         "name": "Guyana_pop",
         "rawType": "int64",
         "type": "integer"
        },
        {
         "name": "Haiti_pop",
         "rawType": "int64",
         "type": "integer"
        },
        {
         "name": "Honduras_pop",
         "rawType": "int64",
         "type": "integer"
        },
        {
         "name": "Hong Kong SAR, China_pop",
         "rawType": "int64",
         "type": "integer"
        },
        {
         "name": "Hungary_pop",
         "rawType": "int64",
         "type": "integer"
        },
        {
         "name": "Iceland_pop",
         "rawType": "int64",
         "type": "integer"
        },
        {
         "name": "India_pop",
         "rawType": "int64",
         "type": "integer"
        },
        {
         "name": "Indonesia_pop",
         "rawType": "int64",
         "type": "integer"
        },
        {
         "name": "Iran, Islamic Rep._pop",
         "rawType": "int64",
         "type": "integer"
        },
        {
         "name": "Iraq_pop",
         "rawType": "int64",
         "type": "integer"
        },
        {
         "name": "Ireland_pop",
         "rawType": "int64",
         "type": "integer"
        },
        {
         "name": "Isle of Man_pop",
         "rawType": "int64",
         "type": "integer"
        },
        {
         "name": "Israel_pop",
         "rawType": "int64",
         "type": "integer"
        },
        {
         "name": "Italy_pop",
         "rawType": "int64",
         "type": "integer"
        },
        {
         "name": "Jamaica_pop",
         "rawType": "int64",
         "type": "integer"
        },
        {
         "name": "Japan_pop",
         "rawType": "int64",
         "type": "integer"
        },
        {
         "name": "Jordan_pop",
         "rawType": "int64",
         "type": "integer"
        },
        {
         "name": "Kazakhstan_pop",
         "rawType": "int64",
         "type": "integer"
        },
        {
         "name": "Kenya_pop",
         "rawType": "int64",
         "type": "integer"
        },
        {
         "name": "Kiribati_pop",
         "rawType": "int64",
         "type": "integer"
        },
        {
         "name": "Korea, Dem. People's Rep._pop",
         "rawType": "int64",
         "type": "integer"
        },
        {
         "name": "Korea, Rep._pop",
         "rawType": "int64",
         "type": "integer"
        },
        {
         "name": "Kosovo_pop",
         "rawType": "int64",
         "type": "integer"
        },
        {
         "name": "Kuwait_pop",
         "rawType": "float64",
         "type": "float"
        },
        {
         "name": "Kyrgyz Republic_pop",
         "rawType": "int64",
         "type": "integer"
        },
        {
         "name": "Lao PDR_pop",
         "rawType": "int64",
         "type": "integer"
        },
        {
         "name": "Latvia_pop",
         "rawType": "int64",
         "type": "integer"
        },
        {
         "name": "Lebanon_pop",
         "rawType": "int64",
         "type": "integer"
        },
        {
         "name": "Lesotho_pop",
         "rawType": "int64",
         "type": "integer"
        },
        {
         "name": "Liberia_pop",
         "rawType": "int64",
         "type": "integer"
        },
        {
         "name": "Libya_pop",
         "rawType": "int64",
         "type": "integer"
        },
        {
         "name": "Liechtenstein_pop",
         "rawType": "int64",
         "type": "integer"
        },
        {
         "name": "Lithuania_pop",
         "rawType": "int64",
         "type": "integer"
        },
        {
         "name": "Luxembourg_pop",
         "rawType": "int64",
         "type": "integer"
        },
        {
         "name": "Macao SAR, China_pop",
         "rawType": "int64",
         "type": "integer"
        },
        {
         "name": "Madagascar_pop",
         "rawType": "int64",
         "type": "integer"
        },
        {
         "name": "Malawi_pop",
         "rawType": "int64",
         "type": "integer"
        },
        {
         "name": "Malaysia_pop",
         "rawType": "int64",
         "type": "integer"
        },
        {
         "name": "Maldives_pop",
         "rawType": "int64",
         "type": "integer"
        },
        {
         "name": "Mali_pop",
         "rawType": "int64",
         "type": "integer"
        },
        {
         "name": "Malta_pop",
         "rawType": "int64",
         "type": "integer"
        },
        {
         "name": "Marshall Islands_pop",
         "rawType": "int64",
         "type": "integer"
        },
        {
         "name": "Mauritania_pop",
         "rawType": "int64",
         "type": "integer"
        },
        {
         "name": "Mauritius_pop",
         "rawType": "int64",
         "type": "integer"
        },
        {
         "name": "Mexico_pop",
         "rawType": "int64",
         "type": "integer"
        },
        {
         "name": "Micronesia, Fed. Sts._pop",
         "rawType": "int64",
         "type": "integer"
        },
        {
         "name": "Moldova_pop",
         "rawType": "int64",
         "type": "integer"
        },
        {
         "name": "Monaco_pop",
         "rawType": "int64",
         "type": "integer"
        },
        {
         "name": "Mongolia_pop",
         "rawType": "int64",
         "type": "integer"
        },
        {
         "name": "Montenegro_pop",
         "rawType": "int64",
         "type": "integer"
        },
        {
         "name": "Morocco_pop",
         "rawType": "int64",
         "type": "integer"
        },
        {
         "name": "Mozambique_pop",
         "rawType": "int64",
         "type": "integer"
        },
        {
         "name": "Myanmar_pop",
         "rawType": "int64",
         "type": "integer"
        },
        {
         "name": "Namibia_pop",
         "rawType": "int64",
         "type": "integer"
        },
        {
         "name": "Nauru_pop",
         "rawType": "int64",
         "type": "integer"
        },
        {
         "name": "Nepal_pop",
         "rawType": "int64",
         "type": "integer"
        },
        {
         "name": "Netherlands_pop",
         "rawType": "int64",
         "type": "integer"
        },
        {
         "name": "New Caledonia_pop",
         "rawType": "int64",
         "type": "integer"
        },
        {
         "name": "New Zealand_pop",
         "rawType": "int64",
         "type": "integer"
        },
        {
         "name": "Nicaragua_pop",
         "rawType": "int64",
         "type": "integer"
        },
        {
         "name": "Niger_pop",
         "rawType": "int64",
         "type": "integer"
        },
        {
         "name": "Nigeria_pop",
         "rawType": "int64",
         "type": "integer"
        },
        {
         "name": "North Macedonia_pop",
         "rawType": "int64",
         "type": "integer"
        },
        {
         "name": "Northern Mariana Islands_pop",
         "rawType": "int64",
         "type": "integer"
        },
        {
         "name": "Norway_pop",
         "rawType": "int64",
         "type": "integer"
        },
        {
         "name": "Oman_pop",
         "rawType": "int64",
         "type": "integer"
        },
        {
         "name": "Pakistan_pop",
         "rawType": "int64",
         "type": "integer"
        },
        {
         "name": "Palau_pop",
         "rawType": "int64",
         "type": "integer"
        },
        {
         "name": "Panama_pop",
         "rawType": "int64",
         "type": "integer"
        },
        {
         "name": "Papua New Guinea_pop",
         "rawType": "int64",
         "type": "integer"
        },
        {
         "name": "Paraguay_pop",
         "rawType": "int64",
         "type": "integer"
        },
        {
         "name": "Peru_pop",
         "rawType": "int64",
         "type": "integer"
        },
        {
         "name": "Philippines_pop",
         "rawType": "int64",
         "type": "integer"
        },
        {
         "name": "Poland_pop",
         "rawType": "int64",
         "type": "integer"
        },
        {
         "name": "Portugal_pop",
         "rawType": "int64",
         "type": "integer"
        },
        {
         "name": "Puerto Rico_pop",
         "rawType": "int64",
         "type": "integer"
        },
        {
         "name": "Qatar_pop",
         "rawType": "int64",
         "type": "integer"
        },
        {
         "name": "Romania_pop",
         "rawType": "int64",
         "type": "integer"
        },
        {
         "name": "Russian Federation_pop",
         "rawType": "int64",
         "type": "integer"
        },
        {
         "name": "Rwanda_pop",
         "rawType": "int64",
         "type": "integer"
        },
        {
         "name": "Samoa_pop",
         "rawType": "int64",
         "type": "integer"
        },
        {
         "name": "San Marino_pop",
         "rawType": "int64",
         "type": "integer"
        },
        {
         "name": "Sao Tome and Principe_pop",
         "rawType": "int64",
         "type": "integer"
        },
        {
         "name": "Saudi Arabia_pop",
         "rawType": "int64",
         "type": "integer"
        },
        {
         "name": "Senegal_pop",
         "rawType": "int64",
         "type": "integer"
        },
        {
         "name": "Serbia_pop",
         "rawType": "int64",
         "type": "integer"
        },
        {
         "name": "Seychelles_pop",
         "rawType": "int64",
         "type": "integer"
        },
        {
         "name": "Sierra Leone_pop",
         "rawType": "int64",
         "type": "integer"
        },
        {
         "name": "Singapore_pop",
         "rawType": "int64",
         "type": "integer"
        },
        {
         "name": "Sint Maarten (Dutch part)_pop",
         "rawType": "int64",
         "type": "integer"
        },
        {
         "name": "Slovak Republic_pop",
         "rawType": "int64",
         "type": "integer"
        },
        {
         "name": "Slovenia_pop",
         "rawType": "int64",
         "type": "integer"
        },
        {
         "name": "Solomon Islands_pop",
         "rawType": "int64",
         "type": "integer"
        },
        {
         "name": "Somalia_pop",
         "rawType": "int64",
         "type": "integer"
        },
        {
         "name": "South Africa_pop",
         "rawType": "int64",
         "type": "integer"
        },
        {
         "name": "South Sudan_pop",
         "rawType": "int64",
         "type": "integer"
        },
        {
         "name": "Spain_pop",
         "rawType": "int64",
         "type": "integer"
        },
        {
         "name": "Sri Lanka_pop",
         "rawType": "int64",
         "type": "integer"
        },
        {
         "name": "St. Kitts and Nevis_pop",
         "rawType": "int64",
         "type": "integer"
        },
        {
         "name": "St. Lucia_pop",
         "rawType": "int64",
         "type": "integer"
        },
        {
         "name": "St. Martin (French part)_pop",
         "rawType": "int64",
         "type": "integer"
        },
        {
         "name": "St. Vincent and the Grenadines_pop",
         "rawType": "int64",
         "type": "integer"
        },
        {
         "name": "Sudan_pop",
         "rawType": "int64",
         "type": "integer"
        },
        {
         "name": "Suriname_pop",
         "rawType": "int64",
         "type": "integer"
        },
        {
         "name": "Sweden_pop",
         "rawType": "int64",
         "type": "integer"
        },
        {
         "name": "Switzerland_pop",
         "rawType": "int64",
         "type": "integer"
        },
        {
         "name": "Syrian Arab Republic_pop",
         "rawType": "int64",
         "type": "integer"
        },
        {
         "name": "Tajikistan_pop",
         "rawType": "int64",
         "type": "integer"
        },
        {
         "name": "Tanzania_pop",
         "rawType": "int64",
         "type": "integer"
        },
        {
         "name": "Thailand_pop",
         "rawType": "int64",
         "type": "integer"
        },
        {
         "name": "Timor-Leste_pop",
         "rawType": "int64",
         "type": "integer"
        },
        {
         "name": "Togo_pop",
         "rawType": "int64",
         "type": "integer"
        },
        {
         "name": "Tonga_pop",
         "rawType": "int64",
         "type": "integer"
        },
        {
         "name": "Trinidad and Tobago_pop",
         "rawType": "int64",
         "type": "integer"
        },
        {
         "name": "Tunisia_pop",
         "rawType": "int64",
         "type": "integer"
        },
        {
         "name": "Turkiye_pop",
         "rawType": "int64",
         "type": "integer"
        },
        {
         "name": "Turkmenistan_pop",
         "rawType": "int64",
         "type": "integer"
        },
        {
         "name": "Turks and Caicos Islands_pop",
         "rawType": "int64",
         "type": "integer"
        },
        {
         "name": "Tuvalu_pop",
         "rawType": "int64",
         "type": "integer"
        },
        {
         "name": "Uganda_pop",
         "rawType": "int64",
         "type": "integer"
        },
        {
         "name": "Ukraine_pop",
         "rawType": "int64",
         "type": "integer"
        },
        {
         "name": "United Arab Emirates_pop",
         "rawType": "int64",
         "type": "integer"
        },
        {
         "name": "United Kingdom_pop",
         "rawType": "int64",
         "type": "integer"
        },
        {
         "name": "United States_pop",
         "rawType": "int64",
         "type": "integer"
        },
        {
         "name": "Uruguay_pop",
         "rawType": "int64",
         "type": "integer"
        },
        {
         "name": "Uzbekistan_pop",
         "rawType": "int64",
         "type": "integer"
        },
        {
         "name": "Vanuatu_pop",
         "rawType": "int64",
         "type": "integer"
        },
        {
         "name": "Venezuela, RB_pop",
         "rawType": "int64",
         "type": "integer"
        },
        {
         "name": "Vietnam_pop",
         "rawType": "int64",
         "type": "integer"
        },
        {
         "name": "Virgin Islands (U.S.)_pop",
         "rawType": "int64",
         "type": "integer"
        },
        {
         "name": "West Bank and Gaza_pop",
         "rawType": "float64",
         "type": "float"
        },
        {
         "name": "Yemen, Rep._pop",
         "rawType": "int64",
         "type": "integer"
        },
        {
         "name": "Zambia_pop",
         "rawType": "int64",
         "type": "integer"
        },
        {
         "name": "Zimbabwe_pop",
         "rawType": "int64",
         "type": "integer"
        },
        {
         "name": "Afghanistan_exp",
         "rawType": "float64",
         "type": "float"
        },
        {
         "name": "Albania_exp",
         "rawType": "float64",
         "type": "float"
        },
        {
         "name": "Algeria_exp",
         "rawType": "float64",
         "type": "float"
        },
        {
         "name": "American Samoa_exp",
         "rawType": "float64",
         "type": "float"
        },
        {
         "name": "Andorra_exp",
         "rawType": "float64",
         "type": "float"
        },
        {
         "name": "Angola_exp",
         "rawType": "float64",
         "type": "float"
        },
        {
         "name": "Antigua and Barbuda_exp",
         "rawType": "float64",
         "type": "float"
        },
        {
         "name": "Argentina_exp",
         "rawType": "float64",
         "type": "float"
        },
        {
         "name": "Armenia_exp",
         "rawType": "float64",
         "type": "float"
        },
        {
         "name": "Aruba_exp",
         "rawType": "float64",
         "type": "float"
        },
        {
         "name": "Australia_exp",
         "rawType": "float64",
         "type": "float"
        },
        {
         "name": "Austria_exp",
         "rawType": "float64",
         "type": "float"
        },
        {
         "name": "Azerbaijan_exp",
         "rawType": "float64",
         "type": "float"
        },
        {
         "name": "Bahamas, The_exp",
         "rawType": "float64",
         "type": "float"
        },
        {
         "name": "Bahrain_exp",
         "rawType": "float64",
         "type": "float"
        },
        {
         "name": "Bangladesh_exp",
         "rawType": "float64",
         "type": "float"
        },
        {
         "name": "Barbados_exp",
         "rawType": "float64",
         "type": "float"
        },
        {
         "name": "Belarus_exp",
         "rawType": "float64",
         "type": "float"
        },
        {
         "name": "Belgium_exp",
         "rawType": "float64",
         "type": "float"
        },
        {
         "name": "Belize_exp",
         "rawType": "float64",
         "type": "float"
        },
        {
         "name": "Benin_exp",
         "rawType": "float64",
         "type": "float"
        },
        {
         "name": "Bermuda_exp",
         "rawType": "float64",
         "type": "float"
        },
        {
         "name": "Bhutan_exp",
         "rawType": "float64",
         "type": "float"
        },
        {
         "name": "Bolivia_exp",
         "rawType": "float64",
         "type": "float"
        },
        {
         "name": "Bosnia and Herzegovina_exp",
         "rawType": "float64",
         "type": "float"
        },
        {
         "name": "Botswana_exp",
         "rawType": "float64",
         "type": "float"
        },
        {
         "name": "Brazil_exp",
         "rawType": "float64",
         "type": "float"
        },
        {
         "name": "British Virgin Islands_exp",
         "rawType": "float64",
         "type": "float"
        },
        {
         "name": "Brunei Darussalam_exp",
         "rawType": "float64",
         "type": "float"
        },
        {
         "name": "Bulgaria_exp",
         "rawType": "float64",
         "type": "float"
        },
        {
         "name": "Burkina Faso_exp",
         "rawType": "float64",
         "type": "float"
        },
        {
         "name": "Burundi_exp",
         "rawType": "float64",
         "type": "float"
        },
        {
         "name": "Cabo Verde_exp",
         "rawType": "float64",
         "type": "float"
        },
        {
         "name": "Cambodia_exp",
         "rawType": "float64",
         "type": "float"
        },
        {
         "name": "Cameroon_exp",
         "rawType": "float64",
         "type": "float"
        },
        {
         "name": "Canada_exp",
         "rawType": "float64",
         "type": "float"
        },
        {
         "name": "Cayman Islands_exp",
         "rawType": "float64",
         "type": "float"
        },
        {
         "name": "Central African Republic_exp",
         "rawType": "float64",
         "type": "float"
        },
        {
         "name": "Chad_exp",
         "rawType": "float64",
         "type": "float"
        },
        {
         "name": "Channel Islands_exp",
         "rawType": "float64",
         "type": "float"
        },
        {
         "name": "Chile_exp",
         "rawType": "float64",
         "type": "float"
        },
        {
         "name": "China_exp",
         "rawType": "float64",
         "type": "float"
        },
        {
         "name": "Colombia_exp",
         "rawType": "float64",
         "type": "float"
        },
        {
         "name": "Comoros_exp",
         "rawType": "float64",
         "type": "float"
        },
        {
         "name": "Congo, Dem. Rep._exp",
         "rawType": "float64",
         "type": "float"
        },
        {
         "name": "Congo, Rep._exp",
         "rawType": "float64",
         "type": "float"
        },
        {
         "name": "Costa Rica_exp",
         "rawType": "float64",
         "type": "float"
        },
        {
         "name": "Cote d'Ivoire_exp",
         "rawType": "float64",
         "type": "float"
        },
        {
         "name": "Croatia_exp",
         "rawType": "float64",
         "type": "float"
        },
        {
         "name": "Cuba_exp",
         "rawType": "float64",
         "type": "float"
        },
        {
         "name": "Curacao_exp",
         "rawType": "float64",
         "type": "float"
        },
        {
         "name": "Cyprus_exp",
         "rawType": "float64",
         "type": "float"
        },
        {
         "name": "Czech Republic_exp",
         "rawType": "float64",
         "type": "float"
        },
        {
         "name": "Denmark_exp",
         "rawType": "float64",
         "type": "float"
        },
        {
         "name": "Djibouti_exp",
         "rawType": "float64",
         "type": "float"
        },
        {
         "name": "Dominica_exp",
         "rawType": "float64",
         "type": "float"
        },
        {
         "name": "Dominican Republic_exp",
         "rawType": "float64",
         "type": "float"
        },
        {
         "name": "Ecuador_exp",
         "rawType": "float64",
         "type": "float"
        },
        {
         "name": "Egypt, Arab Rep._exp",
         "rawType": "float64",
         "type": "float"
        },
        {
         "name": "El Salvador_exp",
         "rawType": "float64",
         "type": "float"
        },
        {
         "name": "Equatorial Guinea_exp",
         "rawType": "float64",
         "type": "float"
        },
        {
         "name": "Eritrea_exp",
         "rawType": "float64",
         "type": "float"
        },
        {
         "name": "Estonia_exp",
         "rawType": "float64",
         "type": "float"
        },
        {
         "name": "Eswatini_exp",
         "rawType": "float64",
         "type": "float"
        },
        {
         "name": "Ethiopia_exp",
         "rawType": "float64",
         "type": "float"
        },
        {
         "name": "Faroe Islands_exp",
         "rawType": "float64",
         "type": "float"
        },
        {
         "name": "Fiji_exp",
         "rawType": "float64",
         "type": "float"
        },
        {
         "name": "Finland_exp",
         "rawType": "float64",
         "type": "float"
        },
        {
         "name": "France_exp",
         "rawType": "float64",
         "type": "float"
        },
        {
         "name": "French Polynesia_exp",
         "rawType": "float64",
         "type": "float"
        },
        {
         "name": "Gabon_exp",
         "rawType": "float64",
         "type": "float"
        },
        {
         "name": "Gambia, The_exp",
         "rawType": "float64",
         "type": "float"
        },
        {
         "name": "Georgia_exp",
         "rawType": "float64",
         "type": "float"
        },
        {
         "name": "Germany_exp",
         "rawType": "float64",
         "type": "float"
        },
        {
         "name": "Ghana_exp",
         "rawType": "float64",
         "type": "float"
        },
        {
         "name": "Gibraltar_exp",
         "rawType": "float64",
         "type": "float"
        },
        {
         "name": "Greece_exp",
         "rawType": "float64",
         "type": "float"
        },
        {
         "name": "Greenland_exp",
         "rawType": "float64",
         "type": "float"
        },
        {
         "name": "Grenada_exp",
         "rawType": "float64",
         "type": "float"
        },
        {
         "name": "Guam_exp",
         "rawType": "float64",
         "type": "float"
        },
        {
         "name": "Guatemala_exp",
         "rawType": "int64",
         "type": "integer"
        },
        {
         "name": "Guinea_exp",
         "rawType": "float64",
         "type": "float"
        },
        {
         "name": "Guinea-Bissau_exp",
         "rawType": "float64",
         "type": "float"
        },
        {
         "name": "Guyana_exp",
         "rawType": "float64",
         "type": "float"
        },
        {
         "name": "Haiti_exp",
         "rawType": "float64",
         "type": "float"
        },
        {
         "name": "Honduras_exp",
         "rawType": "float64",
         "type": "float"
        },
        {
         "name": "Hong Kong SAR, China_exp",
         "rawType": "float64",
         "type": "float"
        },
        {
         "name": "Hungary_exp",
         "rawType": "float64",
         "type": "float"
        },
        {
         "name": "Iceland_exp",
         "rawType": "float64",
         "type": "float"
        },
        {
         "name": "India_exp",
         "rawType": "float64",
         "type": "float"
        },
        {
         "name": "Indonesia_exp",
         "rawType": "float64",
         "type": "float"
        },
        {
         "name": "Iran, Islamic Rep._exp",
         "rawType": "float64",
         "type": "float"
        },
        {
         "name": "Iraq_exp",
         "rawType": "float64",
         "type": "float"
        },
        {
         "name": "Ireland_exp",
         "rawType": "float64",
         "type": "float"
        },
        {
         "name": "Isle of Man_exp",
         "rawType": "float64",
         "type": "float"
        },
        {
         "name": "Israel_exp",
         "rawType": "float64",
         "type": "float"
        },
        {
         "name": "Italy_exp",
         "rawType": "float64",
         "type": "float"
        },
        {
         "name": "Jamaica_exp",
         "rawType": "float64",
         "type": "float"
        },
        {
         "name": "Japan_exp",
         "rawType": "float64",
         "type": "float"
        },
        {
         "name": "Jordan_exp",
         "rawType": "float64",
         "type": "float"
        },
        {
         "name": "Kazakhstan_exp",
         "rawType": "float64",
         "type": "float"
        },
        {
         "name": "Kenya_exp",
         "rawType": "float64",
         "type": "float"
        },
        {
         "name": "Kiribati_exp",
         "rawType": "float64",
         "type": "float"
        },
        {
         "name": "Korea, Dem. People's Rep._exp",
         "rawType": "float64",
         "type": "float"
        },
        {
         "name": "Korea, Rep._exp",
         "rawType": "float64",
         "type": "float"
        },
        {
         "name": "Kosovo_exp",
         "rawType": "float64",
         "type": "float"
        },
        {
         "name": "Kuwait_exp",
         "rawType": "float64",
         "type": "float"
        },
        {
         "name": "Kyrgyz Republic_exp",
         "rawType": "float64",
         "type": "float"
        },
        {
         "name": "Lao PDR_exp",
         "rawType": "float64",
         "type": "float"
        },
        {
         "name": "Latvia_exp",
         "rawType": "float64",
         "type": "float"
        },
        {
         "name": "Lebanon_exp",
         "rawType": "float64",
         "type": "float"
        },
        {
         "name": "Lesotho_exp",
         "rawType": "float64",
         "type": "float"
        },
        {
         "name": "Liberia_exp",
         "rawType": "float64",
         "type": "float"
        },
        {
         "name": "Libya_exp",
         "rawType": "float64",
         "type": "float"
        },
        {
         "name": "Liechtenstein_exp",
         "rawType": "float64",
         "type": "float"
        },
        {
         "name": "Lithuania_exp",
         "rawType": "float64",
         "type": "float"
        },
        {
         "name": "Luxembourg_exp",
         "rawType": "float64",
         "type": "float"
        },
        {
         "name": "Macao SAR, China_exp",
         "rawType": "float64",
         "type": "float"
        },
        {
         "name": "Madagascar_exp",
         "rawType": "float64",
         "type": "float"
        },
        {
         "name": "Malawi_exp",
         "rawType": "float64",
         "type": "float"
        },
        {
         "name": "Malaysia_exp",
         "rawType": "float64",
         "type": "float"
        },
        {
         "name": "Maldives_exp",
         "rawType": "float64",
         "type": "float"
        },
        {
         "name": "Mali_exp",
         "rawType": "float64",
         "type": "float"
        },
        {
         "name": "Malta_exp",
         "rawType": "float64",
         "type": "float"
        },
        {
         "name": "Marshall Islands_exp",
         "rawType": "float64",
         "type": "float"
        },
        {
         "name": "Mauritania_exp",
         "rawType": "float64",
         "type": "float"
        },
        {
         "name": "Mauritius_exp",
         "rawType": "float64",
         "type": "float"
        },
        {
         "name": "Mexico_exp",
         "rawType": "float64",
         "type": "float"
        },
        {
         "name": "Micronesia, Fed. Sts._exp",
         "rawType": "float64",
         "type": "float"
        },
        {
         "name": "Moldova_exp",
         "rawType": "float64",
         "type": "float"
        },
        {
         "name": "Monaco_exp",
         "rawType": "float64",
         "type": "float"
        },
        {
         "name": "Mongolia_exp",
         "rawType": "float64",
         "type": "float"
        },
        {
         "name": "Montenegro_exp",
         "rawType": "float64",
         "type": "float"
        },
        {
         "name": "Morocco_exp",
         "rawType": "float64",
         "type": "float"
        },
        {
         "name": "Mozambique_exp",
         "rawType": "float64",
         "type": "float"
        },
        {
         "name": "Myanmar_exp",
         "rawType": "float64",
         "type": "float"
        },
        {
         "name": "Namibia_exp",
         "rawType": "float64",
         "type": "float"
        },
        {
         "name": "Nauru_exp",
         "rawType": "float64",
         "type": "float"
        },
        {
         "name": "Nepal_exp",
         "rawType": "float64",
         "type": "float"
        },
        {
         "name": "Netherlands_exp",
         "rawType": "float64",
         "type": "float"
        },
        {
         "name": "New Caledonia_exp",
         "rawType": "float64",
         "type": "float"
        },
        {
         "name": "New Zealand_exp",
         "rawType": "float64",
         "type": "float"
        },
        {
         "name": "Nicaragua_exp",
         "rawType": "float64",
         "type": "float"
        },
        {
         "name": "Niger_exp",
         "rawType": "float64",
         "type": "float"
        },
        {
         "name": "Nigeria_exp",
         "rawType": "float64",
         "type": "float"
        },
        {
         "name": "North Macedonia_exp",
         "rawType": "float64",
         "type": "float"
        },
        {
         "name": "Northern Mariana Islands_exp",
         "rawType": "float64",
         "type": "float"
        },
        {
         "name": "Norway_exp",
         "rawType": "float64",
         "type": "float"
        },
        {
         "name": "Oman_exp",
         "rawType": "float64",
         "type": "float"
        },
        {
         "name": "Pakistan_exp",
         "rawType": "float64",
         "type": "float"
        },
        {
         "name": "Palau_exp",
         "rawType": "float64",
         "type": "float"
        },
        {
         "name": "Panama_exp",
         "rawType": "int64",
         "type": "integer"
        },
        {
         "name": "Papua New Guinea_exp",
         "rawType": "float64",
         "type": "float"
        },
        {
         "name": "Paraguay_exp",
         "rawType": "float64",
         "type": "float"
        },
        {
         "name": "Peru_exp",
         "rawType": "float64",
         "type": "float"
        },
        {
         "name": "Philippines_exp",
         "rawType": "float64",
         "type": "float"
        },
        {
         "name": "Poland_exp",
         "rawType": "float64",
         "type": "float"
        },
        {
         "name": "Portugal_exp",
         "rawType": "float64",
         "type": "float"
        },
        {
         "name": "Puerto Rico_exp",
         "rawType": "float64",
         "type": "float"
        },
        {
         "name": "Qatar_exp",
         "rawType": "float64",
         "type": "float"
        },
        {
         "name": "Romania_exp",
         "rawType": "float64",
         "type": "float"
        },
        {
         "name": "Russian Federation_exp",
         "rawType": "float64",
         "type": "float"
        },
        {
         "name": "Rwanda_exp",
         "rawType": "float64",
         "type": "float"
        },
        {
         "name": "Samoa_exp",
         "rawType": "float64",
         "type": "float"
        },
        {
         "name": "San Marino_exp",
         "rawType": "float64",
         "type": "float"
        },
        {
         "name": "Sao Tome and Principe_exp",
         "rawType": "float64",
         "type": "float"
        },
        {
         "name": "Saudi Arabia_exp",
         "rawType": "float64",
         "type": "float"
        },
        {
         "name": "Senegal_exp",
         "rawType": "float64",
         "type": "float"
        },
        {
         "name": "Serbia_exp",
         "rawType": "float64",
         "type": "float"
        },
        {
         "name": "Seychelles_exp",
         "rawType": "float64",
         "type": "float"
        },
        {
         "name": "Sierra Leone_exp",
         "rawType": "float64",
         "type": "float"
        },
        {
         "name": "Singapore_exp",
         "rawType": "float64",
         "type": "float"
        },
        {
         "name": "Sint Maarten (Dutch part)_exp",
         "rawType": "float64",
         "type": "float"
        },
        {
         "name": "Slovak Republic_exp",
         "rawType": "float64",
         "type": "float"
        },
        {
         "name": "Slovenia_exp",
         "rawType": "float64",
         "type": "float"
        },
        {
         "name": "Solomon Islands_exp",
         "rawType": "float64",
         "type": "float"
        },
        {
         "name": "Somalia_exp",
         "rawType": "float64",
         "type": "float"
        },
        {
         "name": "South Africa_exp",
         "rawType": "float64",
         "type": "float"
        },
        {
         "name": "South Sudan_exp",
         "rawType": "float64",
         "type": "float"
        },
        {
         "name": "Spain_exp",
         "rawType": "float64",
         "type": "float"
        },
        {
         "name": "Sri Lanka_exp",
         "rawType": "float64",
         "type": "float"
        },
        {
         "name": "St. Kitts and Nevis_exp",
         "rawType": "float64",
         "type": "float"
        },
        {
         "name": "St. Lucia_exp",
         "rawType": "float64",
         "type": "float"
        },
        {
         "name": "St. Martin (French part)_exp",
         "rawType": "float64",
         "type": "float"
        },
        {
         "name": "St. Vincent and the Grenadines_exp",
         "rawType": "float64",
         "type": "float"
        },
        {
         "name": "Sudan_exp",
         "rawType": "float64",
         "type": "float"
        },
        {
         "name": "Suriname_exp",
         "rawType": "float64",
         "type": "float"
        },
        {
         "name": "Sweden_exp",
         "rawType": "float64",
         "type": "float"
        },
        {
         "name": "Switzerland_exp",
         "rawType": "float64",
         "type": "float"
        },
        {
         "name": "Syrian Arab Republic_exp",
         "rawType": "float64",
         "type": "float"
        },
        {
         "name": "Tajikistan_exp",
         "rawType": "float64",
         "type": "float"
        },
        {
         "name": "Tanzania_exp",
         "rawType": "float64",
         "type": "float"
        },
        {
         "name": "Thailand_exp",
         "rawType": "float64",
         "type": "float"
        },
        {
         "name": "Timor-Leste_exp",
         "rawType": "float64",
         "type": "float"
        },
        {
         "name": "Togo_exp",
         "rawType": "float64",
         "type": "float"
        },
        {
         "name": "Tonga_exp",
         "rawType": "float64",
         "type": "float"
        },
        {
         "name": "Trinidad and Tobago_exp",
         "rawType": "float64",
         "type": "float"
        },
        {
         "name": "Tunisia_exp",
         "rawType": "float64",
         "type": "float"
        },
        {
         "name": "Turkiye_exp",
         "rawType": "float64",
         "type": "float"
        },
        {
         "name": "Turkmenistan_exp",
         "rawType": "float64",
         "type": "float"
        },
        {
         "name": "Turks and Caicos Islands_exp",
         "rawType": "float64",
         "type": "float"
        },
        {
         "name": "Tuvalu_exp",
         "rawType": "float64",
         "type": "float"
        },
        {
         "name": "Uganda_exp",
         "rawType": "float64",
         "type": "float"
        },
        {
         "name": "Ukraine_exp",
         "rawType": "float64",
         "type": "float"
        },
        {
         "name": "United Arab Emirates_exp",
         "rawType": "float64",
         "type": "float"
        },
        {
         "name": "United Kingdom_exp",
         "rawType": "float64",
         "type": "float"
        },
        {
         "name": "United States_exp",
         "rawType": "float64",
         "type": "float"
        },
        {
         "name": "Uruguay_exp",
         "rawType": "float64",
         "type": "float"
        },
        {
         "name": "Uzbekistan_exp",
         "rawType": "float64",
         "type": "float"
        },
        {
         "name": "Vanuatu_exp",
         "rawType": "float64",
         "type": "float"
        },
        {
         "name": "Venezuela, RB_exp",
         "rawType": "float64",
         "type": "float"
        },
        {
         "name": "Vietnam_exp",
         "rawType": "float64",
         "type": "float"
        },
        {
         "name": "Virgin Islands (U.S.)_exp",
         "rawType": "float64",
         "type": "float"
        },
        {
         "name": "West Bank and Gaza_exp",
         "rawType": "float64",
         "type": "float"
        },
        {
         "name": "Yemen, Rep._exp",
         "rawType": "float64",
         "type": "float"
        },
        {
         "name": "Zambia_exp",
         "rawType": "float64",
         "type": "float"
        },
        {
         "name": "Zimbabwe_imp",
         "rawType": "float64",
         "type": "float"
        },
        {
         "name": "Afghanistan_imp",
         "rawType": "float64",
         "type": "float"
        },
        {
         "name": "Albania_imp",
         "rawType": "float64",
         "type": "float"
        },
        {
         "name": "Algeria_imp",
         "rawType": "float64",
         "type": "float"
        },
        {
         "name": "American Samoa_imp",
         "rawType": "float64",
         "type": "float"
        },
        {
         "name": "Andorra_imp",
         "rawType": "float64",
         "type": "float"
        },
        {
         "name": "Angola_imp",
         "rawType": "float64",
         "type": "float"
        },
        {
         "name": "Antigua and Barbuda_imp",
         "rawType": "float64",
         "type": "float"
        },
        {
         "name": "Argentina_imp",
         "rawType": "float64",
         "type": "float"
        },
        {
         "name": "Armenia_imp",
         "rawType": "float64",
         "type": "float"
        },
        {
         "name": "Aruba_imp",
         "rawType": "float64",
         "type": "float"
        },
        {
         "name": "Australia_imp",
         "rawType": "float64",
         "type": "float"
        },
        {
         "name": "Austria_imp",
         "rawType": "float64",
         "type": "float"
        },
        {
         "name": "Azerbaijan_imp",
         "rawType": "float64",
         "type": "float"
        },
        {
         "name": "Bahamas, The_imp",
         "rawType": "float64",
         "type": "float"
        },
        {
         "name": "Bahrain_imp",
         "rawType": "float64",
         "type": "float"
        },
        {
         "name": "Bangladesh_imp",
         "rawType": "float64",
         "type": "float"
        },
        {
         "name": "Barbados_imp",
         "rawType": "float64",
         "type": "float"
        },
        {
         "name": "Belarus_imp",
         "rawType": "float64",
         "type": "float"
        },
        {
         "name": "Belgium_imp",
         "rawType": "float64",
         "type": "float"
        },
        {
         "name": "Belize_imp",
         "rawType": "float64",
         "type": "float"
        },
        {
         "name": "Benin_imp",
         "rawType": "float64",
         "type": "float"
        },
        {
         "name": "Bermuda_imp",
         "rawType": "float64",
         "type": "float"
        },
        {
         "name": "Bhutan_imp",
         "rawType": "float64",
         "type": "float"
        },
        {
         "name": "Bolivia_imp",
         "rawType": "float64",
         "type": "float"
        },
        {
         "name": "Bosnia and Herzegovina_imp",
         "rawType": "float64",
         "type": "float"
        },
        {
         "name": "Botswana_imp",
         "rawType": "float64",
         "type": "float"
        },
        {
         "name": "Brazil_imp",
         "rawType": "float64",
         "type": "float"
        },
        {
         "name": "British Virgin Islands_imp",
         "rawType": "float64",
         "type": "float"
        },
        {
         "name": "Brunei Darussalam_imp",
         "rawType": "float64",
         "type": "float"
        },
        {
         "name": "Bulgaria_imp",
         "rawType": "float64",
         "type": "float"
        },
        {
         "name": "Burkina Faso_imp",
         "rawType": "float64",
         "type": "float"
        },
        {
         "name": "Burundi_imp",
         "rawType": "float64",
         "type": "float"
        },
        {
         "name": "Cabo Verde_imp",
         "rawType": "float64",
         "type": "float"
        },
        {
         "name": "Cambodia_imp",
         "rawType": "float64",
         "type": "float"
        },
        {
         "name": "Cameroon_imp",
         "rawType": "float64",
         "type": "float"
        },
        {
         "name": "Canada_imp",
         "rawType": "float64",
         "type": "float"
        },
        {
         "name": "Cayman Islands_imp",
         "rawType": "float64",
         "type": "float"
        },
        {
         "name": "Central African Republic_imp",
         "rawType": "float64",
         "type": "float"
        },
        {
         "name": "Chad_imp",
         "rawType": "float64",
         "type": "float"
        },
        {
         "name": "Channel Islands_imp",
         "rawType": "float64",
         "type": "float"
        },
        {
         "name": "Chile_imp",
         "rawType": "float64",
         "type": "float"
        },
        {
         "name": "China_imp",
         "rawType": "float64",
         "type": "float"
        },
        {
         "name": "Colombia_imp",
         "rawType": "float64",
         "type": "float"
        },
        {
         "name": "Comoros_imp",
         "rawType": "float64",
         "type": "float"
        },
        {
         "name": "Congo, Dem. Rep._imp",
         "rawType": "float64",
         "type": "float"
        },
        {
         "name": "Congo, Rep._imp",
         "rawType": "float64",
         "type": "float"
        },
        {
         "name": "Costa Rica_imp",
         "rawType": "float64",
         "type": "float"
        },
        {
         "name": "Cote d'Ivoire_imp",
         "rawType": "float64",
         "type": "float"
        },
        {
         "name": "Croatia_imp",
         "rawType": "float64",
         "type": "float"
        },
        {
         "name": "Cuba_imp",
         "rawType": "float64",
         "type": "float"
        },
        {
         "name": "Curacao_imp",
         "rawType": "float64",
         "type": "float"
        },
        {
         "name": "Cyprus_imp",
         "rawType": "float64",
         "type": "float"
        },
        {
         "name": "Czech Republic_imp",
         "rawType": "float64",
         "type": "float"
        },
        {
         "name": "Denmark_imp",
         "rawType": "float64",
         "type": "float"
        },
        {
         "name": "Djibouti_imp",
         "rawType": "float64",
         "type": "float"
        },
        {
         "name": "Dominica_imp",
         "rawType": "float64",
         "type": "float"
        },
        {
         "name": "Dominican Republic_imp",
         "rawType": "int64",
         "type": "integer"
        },
        {
         "name": "Ecuador_imp",
         "rawType": "float64",
         "type": "float"
        },
        {
         "name": "Egypt, Arab Rep._imp",
         "rawType": "float64",
         "type": "float"
        },
        {
         "name": "El Salvador_imp",
         "rawType": "float64",
         "type": "float"
        },
        {
         "name": "Equatorial Guinea_imp",
         "rawType": "float64",
         "type": "float"
        },
        {
         "name": "Eritrea_imp",
         "rawType": "float64",
         "type": "float"
        },
        {
         "name": "Estonia_imp",
         "rawType": "float64",
         "type": "float"
        },
        {
         "name": "Eswatini_imp",
         "rawType": "float64",
         "type": "float"
        },
        {
         "name": "Ethiopia_imp",
         "rawType": "float64",
         "type": "float"
        },
        {
         "name": "Faroe Islands_imp",
         "rawType": "float64",
         "type": "float"
        },
        {
         "name": "Fiji_imp",
         "rawType": "float64",
         "type": "float"
        },
        {
         "name": "Finland_imp",
         "rawType": "float64",
         "type": "float"
        },
        {
         "name": "France_imp",
         "rawType": "float64",
         "type": "float"
        },
        {
         "name": "French Polynesia_imp",
         "rawType": "float64",
         "type": "float"
        },
        {
         "name": "Gabon_imp",
         "rawType": "float64",
         "type": "float"
        },
        {
         "name": "Gambia, The_imp",
         "rawType": "float64",
         "type": "float"
        },
        {
         "name": "Georgia_imp",
         "rawType": "float64",
         "type": "float"
        },
        {
         "name": "Germany_imp",
         "rawType": "float64",
         "type": "float"
        },
        {
         "name": "Ghana_imp",
         "rawType": "float64",
         "type": "float"
        },
        {
         "name": "Gibraltar_imp",
         "rawType": "float64",
         "type": "float"
        },
        {
         "name": "Greece_imp",
         "rawType": "float64",
         "type": "float"
        },
        {
         "name": "Greenland_imp",
         "rawType": "float64",
         "type": "float"
        },
        {
         "name": "Grenada_imp",
         "rawType": "float64",
         "type": "float"
        },
        {
         "name": "Guam_imp",
         "rawType": "float64",
         "type": "float"
        },
        {
         "name": "Guatemala_imp",
         "rawType": "int64",
         "type": "integer"
        },
        {
         "name": "Guinea_imp",
         "rawType": "float64",
         "type": "float"
        },
        {
         "name": "Guinea-Bissau_imp",
         "rawType": "float64",
         "type": "float"
        },
        {
         "name": "Guyana_imp",
         "rawType": "float64",
         "type": "float"
        },
        {
         "name": "Haiti_imp",
         "rawType": "float64",
         "type": "float"
        },
        {
         "name": "Honduras_imp",
         "rawType": "int64",
         "type": "integer"
        },
        {
         "name": "Hong Kong SAR, China_imp",
         "rawType": "float64",
         "type": "float"
        },
        {
         "name": "Hungary_imp",
         "rawType": "float64",
         "type": "float"
        },
        {
         "name": "Iceland_imp",
         "rawType": "float64",
         "type": "float"
        },
        {
         "name": "India_imp",
         "rawType": "float64",
         "type": "float"
        },
        {
         "name": "Indonesia_imp",
         "rawType": "float64",
         "type": "float"
        },
        {
         "name": "Iran, Islamic Rep._imp",
         "rawType": "float64",
         "type": "float"
        },
        {
         "name": "Iraq_imp",
         "rawType": "float64",
         "type": "float"
        },
        {
         "name": "Ireland_imp",
         "rawType": "float64",
         "type": "float"
        },
        {
         "name": "Isle of Man_imp",
         "rawType": "float64",
         "type": "float"
        },
        {
         "name": "Israel_imp",
         "rawType": "float64",
         "type": "float"
        },
        {
         "name": "Italy_imp",
         "rawType": "float64",
         "type": "float"
        },
        {
         "name": "Jamaica_imp",
         "rawType": "float64",
         "type": "float"
        },
        {
         "name": "Japan_imp",
         "rawType": "float64",
         "type": "float"
        },
        {
         "name": "Jordan_imp",
         "rawType": "float64",
         "type": "float"
        },
        {
         "name": "Kazakhstan_imp",
         "rawType": "float64",
         "type": "float"
        },
        {
         "name": "Kenya_imp",
         "rawType": "float64",
         "type": "float"
        },
        {
         "name": "Kiribati_imp",
         "rawType": "float64",
         "type": "float"
        },
        {
         "name": "Korea, Dem. People's Rep._imp",
         "rawType": "float64",
         "type": "float"
        },
        {
         "name": "Korea, Rep._imp",
         "rawType": "float64",
         "type": "float"
        },
        {
         "name": "Kosovo_imp",
         "rawType": "float64",
         "type": "float"
        },
        {
         "name": "Kuwait_imp",
         "rawType": "float64",
         "type": "float"
        },
        {
         "name": "Kyrgyz Republic_imp",
         "rawType": "float64",
         "type": "float"
        },
        {
         "name": "Lao PDR_imp",
         "rawType": "float64",
         "type": "float"
        },
        {
         "name": "Latvia_imp",
         "rawType": "float64",
         "type": "float"
        },
        {
         "name": "Lebanon_imp",
         "rawType": "float64",
         "type": "float"
        },
        {
         "name": "Lesotho_imp",
         "rawType": "float64",
         "type": "float"
        },
        {
         "name": "Liberia_imp",
         "rawType": "float64",
         "type": "float"
        },
        {
         "name": "Libya_imp",
         "rawType": "float64",
         "type": "float"
        },
        {
         "name": "Liechtenstein_imp",
         "rawType": "float64",
         "type": "float"
        },
        {
         "name": "Lithuania_imp",
         "rawType": "float64",
         "type": "float"
        },
        {
         "name": "Luxembourg_imp",
         "rawType": "float64",
         "type": "float"
        },
        {
         "name": "Macao SAR, China_imp",
         "rawType": "float64",
         "type": "float"
        },
        {
         "name": "Madagascar_imp",
         "rawType": "float64",
         "type": "float"
        },
        {
         "name": "Malawi_imp",
         "rawType": "float64",
         "type": "float"
        },
        {
         "name": "Malaysia_imp",
         "rawType": "float64",
         "type": "float"
        },
        {
         "name": "Maldives_imp",
         "rawType": "float64",
         "type": "float"
        },
        {
         "name": "Mali_imp",
         "rawType": "float64",
         "type": "float"
        },
        {
         "name": "Malta_imp",
         "rawType": "float64",
         "type": "float"
        },
        {
         "name": "Marshall Islands_imp",
         "rawType": "float64",
         "type": "float"
        },
        {
         "name": "Mauritania_imp",
         "rawType": "float64",
         "type": "float"
        },
        {
         "name": "Mauritius_imp",
         "rawType": "float64",
         "type": "float"
        },
        {
         "name": "Mexico_imp",
         "rawType": "float64",
         "type": "float"
        },
        {
         "name": "Micronesia, Fed. Sts._imp",
         "rawType": "float64",
         "type": "float"
        },
        {
         "name": "Moldova_imp",
         "rawType": "float64",
         "type": "float"
        },
        {
         "name": "Monaco_imp",
         "rawType": "float64",
         "type": "float"
        },
        {
         "name": "Mongolia_imp",
         "rawType": "float64",
         "type": "float"
        },
        {
         "name": "Montenegro_imp",
         "rawType": "float64",
         "type": "float"
        },
        {
         "name": "Morocco_imp",
         "rawType": "float64",
         "type": "float"
        },
        {
         "name": "Mozambique_imp",
         "rawType": "float64",
         "type": "float"
        },
        {
         "name": "Myanmar_imp",
         "rawType": "float64",
         "type": "float"
        },
        {
         "name": "Namibia_imp",
         "rawType": "float64",
         "type": "float"
        },
        {
         "name": "Nauru_imp",
         "rawType": "float64",
         "type": "float"
        },
        {
         "name": "Nepal_imp",
         "rawType": "float64",
         "type": "float"
        },
        {
         "name": "Netherlands_imp",
         "rawType": "float64",
         "type": "float"
        },
        {
         "name": "New Caledonia_imp",
         "rawType": "float64",
         "type": "float"
        },
        {
         "name": "New Zealand_imp",
         "rawType": "float64",
         "type": "float"
        },
        {
         "name": "Nicaragua_imp",
         "rawType": "float64",
         "type": "float"
        },
        {
         "name": "Niger_imp",
         "rawType": "float64",
         "type": "float"
        },
        {
         "name": "Nigeria_imp",
         "rawType": "float64",
         "type": "float"
        },
        {
         "name": "North Macedonia_imp",
         "rawType": "float64",
         "type": "float"
        },
        {
         "name": "Northern Mariana Islands_imp",
         "rawType": "float64",
         "type": "float"
        },
        {
         "name": "Norway_imp",
         "rawType": "float64",
         "type": "float"
        },
        {
         "name": "Oman_imp",
         "rawType": "float64",
         "type": "float"
        },
        {
         "name": "Pakistan_imp",
         "rawType": "float64",
         "type": "float"
        },
        {
         "name": "Palau_imp",
         "rawType": "float64",
         "type": "float"
        },
        {
         "name": "Panama_imp",
         "rawType": "int64",
         "type": "integer"
        },
        {
         "name": "Papua New Guinea_imp",
         "rawType": "float64",
         "type": "float"
        },
        {
         "name": "Paraguay_imp",
         "rawType": "float64",
         "type": "float"
        },
        {
         "name": "Peru_imp",
         "rawType": "float64",
         "type": "float"
        },
        {
         "name": "Philippines_imp",
         "rawType": "float64",
         "type": "float"
        },
        {
         "name": "Poland_imp",
         "rawType": "float64",
         "type": "float"
        },
        {
         "name": "Portugal_imp",
         "rawType": "float64",
         "type": "float"
        },
        {
         "name": "Puerto Rico_imp",
         "rawType": "float64",
         "type": "float"
        },
        {
         "name": "Qatar_imp",
         "rawType": "float64",
         "type": "float"
        },
        {
         "name": "Romania_imp",
         "rawType": "float64",
         "type": "float"
        },
        {
         "name": "Russian Federation_imp",
         "rawType": "float64",
         "type": "float"
        },
        {
         "name": "Rwanda_imp",
         "rawType": "float64",
         "type": "float"
        },
        {
         "name": "Samoa_imp",
         "rawType": "float64",
         "type": "float"
        },
        {
         "name": "San Marino_imp",
         "rawType": "float64",
         "type": "float"
        },
        {
         "name": "Sao Tome and Principe_imp",
         "rawType": "float64",
         "type": "float"
        },
        {
         "name": "Saudi Arabia_imp",
         "rawType": "float64",
         "type": "float"
        },
        {
         "name": "Senegal_imp",
         "rawType": "float64",
         "type": "float"
        },
        {
         "name": "Serbia_imp",
         "rawType": "float64",
         "type": "float"
        },
        {
         "name": "Seychelles_imp",
         "rawType": "float64",
         "type": "float"
        },
        {
         "name": "Sierra Leone_imp",
         "rawType": "float64",
         "type": "float"
        },
        {
         "name": "Singapore_imp",
         "rawType": "float64",
         "type": "float"
        },
        {
         "name": "Sint Maarten (Dutch part)_imp",
         "rawType": "float64",
         "type": "float"
        },
        {
         "name": "Slovak Republic_imp",
         "rawType": "float64",
         "type": "float"
        },
        {
         "name": "Slovenia_imp",
         "rawType": "float64",
         "type": "float"
        },
        {
         "name": "Solomon Islands_imp",
         "rawType": "float64",
         "type": "float"
        },
        {
         "name": "Somalia_imp",
         "rawType": "float64",
         "type": "float"
        },
        {
         "name": "South Africa_imp",
         "rawType": "float64",
         "type": "float"
        },
        {
         "name": "South Sudan_imp",
         "rawType": "float64",
         "type": "float"
        },
        {
         "name": "Spain_imp",
         "rawType": "float64",
         "type": "float"
        },
        {
         "name": "Sri Lanka_imp",
         "rawType": "float64",
         "type": "float"
        },
        {
         "name": "St. Kitts and Nevis_imp",
         "rawType": "float64",
         "type": "float"
        },
        {
         "name": "St. Lucia_imp",
         "rawType": "float64",
         "type": "float"
        },
        {
         "name": "St. Martin (French part)_imp",
         "rawType": "float64",
         "type": "float"
        },
        {
         "name": "St. Vincent and the Grenadines_imp",
         "rawType": "float64",
         "type": "float"
        },
        {
         "name": "Sudan_imp",
         "rawType": "float64",
         "type": "float"
        },
        {
         "name": "Suriname_imp",
         "rawType": "float64",
         "type": "float"
        },
        {
         "name": "Sweden_imp",
         "rawType": "float64",
         "type": "float"
        },
        {
         "name": "Switzerland_imp",
         "rawType": "float64",
         "type": "float"
        },
        {
         "name": "Syrian Arab Republic_imp",
         "rawType": "float64",
         "type": "float"
        },
        {
         "name": "Tajikistan_imp",
         "rawType": "float64",
         "type": "float"
        },
        {
         "name": "Tanzania_imp",
         "rawType": "float64",
         "type": "float"
        },
        {
         "name": "Thailand_imp",
         "rawType": "float64",
         "type": "float"
        },
        {
         "name": "Timor-Leste_imp",
         "rawType": "float64",
         "type": "float"
        },
        {
         "name": "Togo_imp",
         "rawType": "float64",
         "type": "float"
        },
        {
         "name": "Tonga_imp",
         "rawType": "float64",
         "type": "float"
        },
        {
         "name": "Trinidad and Tobago_imp",
         "rawType": "float64",
         "type": "float"
        },
        {
         "name": "Tunisia_imp",
         "rawType": "float64",
         "type": "float"
        },
        {
         "name": "Turkiye_imp",
         "rawType": "float64",
         "type": "float"
        },
        {
         "name": "Turkmenistan_imp",
         "rawType": "float64",
         "type": "float"
        },
        {
         "name": "Turks and Caicos Islands_imp",
         "rawType": "float64",
         "type": "float"
        },
        {
         "name": "Tuvalu_imp",
         "rawType": "float64",
         "type": "float"
        },
        {
         "name": "Uganda_imp",
         "rawType": "float64",
         "type": "float"
        },
        {
         "name": "Ukraine_imp",
         "rawType": "float64",
         "type": "float"
        },
        {
         "name": "United Arab Emirates_imp",
         "rawType": "float64",
         "type": "float"
        },
        {
         "name": "United Kingdom_imp",
         "rawType": "float64",
         "type": "float"
        },
        {
         "name": "United States_imp",
         "rawType": "float64",
         "type": "float"
        },
        {
         "name": "Uruguay_imp",
         "rawType": "float64",
         "type": "float"
        },
        {
         "name": "Uzbekistan_imp",
         "rawType": "float64",
         "type": "float"
        },
        {
         "name": "Vanuatu_imp",
         "rawType": "float64",
         "type": "float"
        },
        {
         "name": "Venezuela, RB_imp",
         "rawType": "float64",
         "type": "float"
        },
        {
         "name": "Vietnam_imp",
         "rawType": "float64",
         "type": "float"
        },
        {
         "name": "Virgin Islands (U.S.)_imp",
         "rawType": "float64",
         "type": "float"
        },
        {
         "name": "West Bank and Gaza_imp",
         "rawType": "float64",
         "type": "float"
        },
        {
         "name": "Yemen, Rep._imp",
         "rawType": "float64",
         "type": "float"
        },
        {
         "name": "Zambia_imp",
         "rawType": "float64",
         "type": "float"
        },
        {
         "name": "Zimbabwe_cpi",
         "rawType": "float64",
         "type": "float"
        },
        {
         "name": "Afghanistan_cpi",
         "rawType": "float64",
         "type": "float"
        },
        {
         "name": "Albania_cpi",
         "rawType": "float64",
         "type": "float"
        },
        {
         "name": "Algeria_cpi",
         "rawType": "float64",
         "type": "float"
        },
        {
         "name": "American Samoa_cpi",
         "rawType": "float64",
         "type": "float"
        },
        {
         "name": "Andorra_cpi",
         "rawType": "float64",
         "type": "float"
        },
        {
         "name": "Angola_cpi",
         "rawType": "float64",
         "type": "float"
        },
        {
         "name": "Antigua and Barbuda_cpi",
         "rawType": "float64",
         "type": "float"
        },
        {
         "name": "Argentina_cpi",
         "rawType": "float64",
         "type": "float"
        },
        {
         "name": "Armenia_cpi",
         "rawType": "float64",
         "type": "float"
        },
        {
         "name": "Aruba_cpi",
         "rawType": "float64",
         "type": "float"
        },
        {
         "name": "Australia_cpi",
         "rawType": "float64",
         "type": "float"
        },
        {
         "name": "Austria_cpi",
         "rawType": "float64",
         "type": "float"
        },
        {
         "name": "Azerbaijan_cpi",
         "rawType": "float64",
         "type": "float"
        },
        {
         "name": "Bahamas, The_cpi",
         "rawType": "float64",
         "type": "float"
        },
        {
         "name": "Bahrain_cpi",
         "rawType": "float64",
         "type": "float"
        },
        {
         "name": "Bangladesh_cpi",
         "rawType": "float64",
         "type": "float"
        },
        {
         "name": "Barbados_cpi",
         "rawType": "float64",
         "type": "float"
        },
        {
         "name": "Belarus_cpi",
         "rawType": "float64",
         "type": "float"
        },
        {
         "name": "Belgium_cpi",
         "rawType": "float64",
         "type": "float"
        },
        {
         "name": "Belize_cpi",
         "rawType": "float64",
         "type": "float"
        },
        {
         "name": "Benin_cpi",
         "rawType": "float64",
         "type": "float"
        },
        {
         "name": "Bermuda_cpi",
         "rawType": "float64",
         "type": "float"
        },
        {
         "name": "Bhutan_cpi",
         "rawType": "float64",
         "type": "float"
        },
        {
         "name": "Bolivia_cpi",
         "rawType": "float64",
         "type": "float"
        },
        {
         "name": "Bosnia and Herzegovina_cpi",
         "rawType": "float64",
         "type": "float"
        },
        {
         "name": "Botswana_cpi",
         "rawType": "float64",
         "type": "float"
        },
        {
         "name": "Brazil_cpi",
         "rawType": "float64",
         "type": "float"
        },
        {
         "name": "British Virgin Islands_cpi",
         "rawType": "float64",
         "type": "float"
        },
        {
         "name": "Brunei Darussalam_cpi",
         "rawType": "float64",
         "type": "float"
        },
        {
         "name": "Bulgaria_cpi",
         "rawType": "float64",
         "type": "float"
        },
        {
         "name": "Burkina Faso_cpi",
         "rawType": "float64",
         "type": "float"
        },
        {
         "name": "Burundi_cpi",
         "rawType": "float64",
         "type": "float"
        },
        {
         "name": "Cabo Verde_cpi",
         "rawType": "float64",
         "type": "float"
        },
        {
         "name": "Cambodia_cpi",
         "rawType": "float64",
         "type": "float"
        },
        {
         "name": "Cameroon_cpi",
         "rawType": "float64",
         "type": "float"
        },
        {
         "name": "Canada_cpi",
         "rawType": "float64",
         "type": "float"
        },
        {
         "name": "Cayman Islands_cpi",
         "rawType": "float64",
         "type": "float"
        },
        {
         "name": "Central African Republic_cpi",
         "rawType": "float64",
         "type": "float"
        },
        {
         "name": "Chad_cpi",
         "rawType": "float64",
         "type": "float"
        },
        {
         "name": "Channel Islands_cpi",
         "rawType": "float64",
         "type": "float"
        },
        {
         "name": "Chile_cpi",
         "rawType": "float64",
         "type": "float"
        },
        {
         "name": "China_cpi",
         "rawType": "float64",
         "type": "float"
        },
        {
         "name": "Colombia_cpi",
         "rawType": "float64",
         "type": "float"
        },
        {
         "name": "Comoros_cpi",
         "rawType": "float64",
         "type": "float"
        },
        {
         "name": "Congo, Dem. Rep._cpi",
         "rawType": "float64",
         "type": "float"
        },
        {
         "name": "Congo, Rep._cpi",
         "rawType": "float64",
         "type": "float"
        },
        {
         "name": "Costa Rica_cpi",
         "rawType": "float64",
         "type": "float"
        },
        {
         "name": "Cote d'Ivoire_cpi",
         "rawType": "float64",
         "type": "float"
        },
        {
         "name": "Croatia_cpi",
         "rawType": "float64",
         "type": "float"
        },
        {
         "name": "Cuba_cpi",
         "rawType": "float64",
         "type": "float"
        },
        {
         "name": "Curacao_cpi",
         "rawType": "float64",
         "type": "float"
        },
        {
         "name": "Cyprus_cpi",
         "rawType": "float64",
         "type": "float"
        },
        {
         "name": "Czech Republic_cpi",
         "rawType": "float64",
         "type": "float"
        },
        {
         "name": "Denmark_cpi",
         "rawType": "float64",
         "type": "float"
        },
        {
         "name": "Djibouti_cpi",
         "rawType": "float64",
         "type": "float"
        },
        {
         "name": "Dominica_cpi",
         "rawType": "float64",
         "type": "float"
        },
        {
         "name": "Dominican Republic_cpi",
         "rawType": "float64",
         "type": "float"
        },
        {
         "name": "Ecuador_cpi",
         "rawType": "float64",
         "type": "float"
        },
        {
         "name": "Egypt, Arab Rep._cpi",
         "rawType": "float64",
         "type": "float"
        },
        {
         "name": "El Salvador_cpi",
         "rawType": "float64",
         "type": "float"
        },
        {
         "name": "Equatorial Guinea_cpi",
         "rawType": "float64",
         "type": "float"
        },
        {
         "name": "Eritrea_cpi",
         "rawType": "float64",
         "type": "float"
        },
        {
         "name": "Estonia_cpi",
         "rawType": "float64",
         "type": "float"
        },
        {
         "name": "Eswatini_cpi",
         "rawType": "float64",
         "type": "float"
        },
        {
         "name": "Ethiopia_cpi",
         "rawType": "float64",
         "type": "float"
        },
        {
         "name": "Faroe Islands_cpi",
         "rawType": "float64",
         "type": "float"
        },
        {
         "name": "Fiji_cpi",
         "rawType": "float64",
         "type": "float"
        },
        {
         "name": "Finland_cpi",
         "rawType": "float64",
         "type": "float"
        },
        {
         "name": "France_cpi",
         "rawType": "float64",
         "type": "float"
        },
        {
         "name": "French Polynesia_cpi",
         "rawType": "float64",
         "type": "float"
        },
        {
         "name": "Gabon_cpi",
         "rawType": "float64",
         "type": "float"
        },
        {
         "name": "Gambia, The_cpi",
         "rawType": "float64",
         "type": "float"
        },
        {
         "name": "Georgia_cpi",
         "rawType": "float64",
         "type": "float"
        },
        {
         "name": "Germany_cpi",
         "rawType": "float64",
         "type": "float"
        },
        {
         "name": "Ghana_cpi",
         "rawType": "float64",
         "type": "float"
        },
        {
         "name": "Gibraltar_cpi",
         "rawType": "float64",
         "type": "float"
        },
        {
         "name": "Greece_cpi",
         "rawType": "float64",
         "type": "float"
        },
        {
         "name": "Greenland_cpi",
         "rawType": "float64",
         "type": "float"
        },
        {
         "name": "Grenada_cpi",
         "rawType": "float64",
         "type": "float"
        },
        {
         "name": "Guam_cpi",
         "rawType": "float64",
         "type": "float"
        },
        {
         "name": "Guatemala_cpi",
         "rawType": "float64",
         "type": "float"
        },
        {
         "name": "Guinea_cpi",
         "rawType": "float64",
         "type": "float"
        },
        {
         "name": "Guinea-Bissau_cpi",
         "rawType": "float64",
         "type": "float"
        },
        {
         "name": "Guyana_cpi",
         "rawType": "float64",
         "type": "float"
        },
        {
         "name": "Haiti_cpi",
         "rawType": "float64",
         "type": "float"
        },
        {
         "name": "Honduras_cpi",
         "rawType": "float64",
         "type": "float"
        },
        {
         "name": "Hong Kong SAR, China_cpi",
         "rawType": "float64",
         "type": "float"
        },
        {
         "name": "Hungary_cpi",
         "rawType": "float64",
         "type": "float"
        },
        {
         "name": "Iceland_cpi",
         "rawType": "float64",
         "type": "float"
        },
        {
         "name": "India_cpi",
         "rawType": "float64",
         "type": "float"
        },
        {
         "name": "Indonesia_cpi",
         "rawType": "float64",
         "type": "float"
        },
        {
         "name": "Iran, Islamic Rep._cpi",
         "rawType": "float64",
         "type": "float"
        },
        {
         "name": "Iraq_cpi",
         "rawType": "float64",
         "type": "float"
        },
        {
         "name": "Ireland_cpi",
         "rawType": "float64",
         "type": "float"
        },
        {
         "name": "Isle of Man_cpi",
         "rawType": "float64",
         "type": "float"
        },
        {
         "name": "Israel_cpi",
         "rawType": "float64",
         "type": "float"
        },
        {
         "name": "Italy_cpi",
         "rawType": "float64",
         "type": "float"
        },
        {
         "name": "Jamaica_cpi",
         "rawType": "float64",
         "type": "float"
        },
        {
         "name": "Japan_cpi",
         "rawType": "float64",
         "type": "float"
        },
        {
         "name": "Jordan_cpi",
         "rawType": "float64",
         "type": "float"
        },
        {
         "name": "Kazakhstan_cpi",
         "rawType": "float64",
         "type": "float"
        },
        {
         "name": "Kenya_cpi",
         "rawType": "float64",
         "type": "float"
        },
        {
         "name": "Kiribati_cpi",
         "rawType": "float64",
         "type": "float"
        },
        {
         "name": "Korea, Dem. People's Rep._cpi",
         "rawType": "float64",
         "type": "float"
        },
        {
         "name": "Korea, Rep._cpi",
         "rawType": "float64",
         "type": "float"
        },
        {
         "name": "Kosovo_cpi",
         "rawType": "float64",
         "type": "float"
        },
        {
         "name": "Kuwait_cpi",
         "rawType": "float64",
         "type": "float"
        },
        {
         "name": "Kyrgyz Republic_cpi",
         "rawType": "float64",
         "type": "float"
        },
        {
         "name": "Lao PDR_cpi",
         "rawType": "float64",
         "type": "float"
        },
        {
         "name": "Latvia_cpi",
         "rawType": "float64",
         "type": "float"
        },
        {
         "name": "Lebanon_cpi",
         "rawType": "float64",
         "type": "float"
        },
        {
         "name": "Lesotho_cpi",
         "rawType": "float64",
         "type": "float"
        },
        {
         "name": "Liberia_cpi",
         "rawType": "float64",
         "type": "float"
        },
        {
         "name": "Libya_cpi",
         "rawType": "float64",
         "type": "float"
        },
        {
         "name": "Liechtenstein_cpi",
         "rawType": "float64",
         "type": "float"
        },
        {
         "name": "Lithuania_cpi",
         "rawType": "float64",
         "type": "float"
        },
        {
         "name": "Luxembourg_cpi",
         "rawType": "float64",
         "type": "float"
        },
        {
         "name": "Macao SAR, China_cpi",
         "rawType": "float64",
         "type": "float"
        },
        {
         "name": "Madagascar_cpi",
         "rawType": "float64",
         "type": "float"
        },
        {
         "name": "Malawi_cpi",
         "rawType": "float64",
         "type": "float"
        },
        {
         "name": "Malaysia_cpi",
         "rawType": "float64",
         "type": "float"
        },
        {
         "name": "Maldives_cpi",
         "rawType": "float64",
         "type": "float"
        },
        {
         "name": "Mali_cpi",
         "rawType": "float64",
         "type": "float"
        },
        {
         "name": "Malta_cpi",
         "rawType": "float64",
         "type": "float"
        },
        {
         "name": "Marshall Islands_cpi",
         "rawType": "float64",
         "type": "float"
        },
        {
         "name": "Mauritania_cpi",
         "rawType": "float64",
         "type": "float"
        },
        {
         "name": "Mauritius_cpi",
         "rawType": "float64",
         "type": "float"
        },
        {
         "name": "Mexico_cpi",
         "rawType": "float64",
         "type": "float"
        },
        {
         "name": "Micronesia, Fed. Sts._cpi",
         "rawType": "float64",
         "type": "float"
        },
        {
         "name": "Moldova_cpi",
         "rawType": "float64",
         "type": "float"
        },
        {
         "name": "Monaco_cpi",
         "rawType": "float64",
         "type": "float"
        },
        {
         "name": "Mongolia_cpi",
         "rawType": "float64",
         "type": "float"
        },
        {
         "name": "Montenegro_cpi",
         "rawType": "float64",
         "type": "float"
        },
        {
         "name": "Morocco_cpi",
         "rawType": "float64",
         "type": "float"
        },
        {
         "name": "Mozambique_cpi",
         "rawType": "float64",
         "type": "float"
        },
        {
         "name": "Myanmar_cpi",
         "rawType": "float64",
         "type": "float"
        },
        {
         "name": "Namibia_cpi",
         "rawType": "float64",
         "type": "float"
        },
        {
         "name": "Nauru_cpi",
         "rawType": "float64",
         "type": "float"
        },
        {
         "name": "Nepal_cpi",
         "rawType": "float64",
         "type": "float"
        },
        {
         "name": "Netherlands_cpi",
         "rawType": "float64",
         "type": "float"
        },
        {
         "name": "New Caledonia_cpi",
         "rawType": "float64",
         "type": "float"
        },
        {
         "name": "New Zealand_cpi",
         "rawType": "float64",
         "type": "float"
        },
        {
         "name": "Nicaragua_cpi",
         "rawType": "float64",
         "type": "float"
        },
        {
         "name": "Niger_cpi",
         "rawType": "float64",
         "type": "float"
        },
        {
         "name": "Nigeria_cpi",
         "rawType": "float64",
         "type": "float"
        },
        {
         "name": "North Macedonia_cpi",
         "rawType": "float64",
         "type": "float"
        },
        {
         "name": "Northern Mariana Islands_cpi",
         "rawType": "float64",
         "type": "float"
        },
        {
         "name": "Norway_cpi",
         "rawType": "float64",
         "type": "float"
        },
        {
         "name": "Oman_cpi",
         "rawType": "float64",
         "type": "float"
        },
        {
         "name": "Pakistan_cpi",
         "rawType": "float64",
         "type": "float"
        },
        {
         "name": "Palau_cpi",
         "rawType": "float64",
         "type": "float"
        },
        {
         "name": "Panama_cpi",
         "rawType": "float64",
         "type": "float"
        },
        {
         "name": "Papua New Guinea_cpi",
         "rawType": "float64",
         "type": "float"
        },
        {
         "name": "Paraguay_cpi",
         "rawType": "float64",
         "type": "float"
        },
        {
         "name": "Peru_cpi",
         "rawType": "float64",
         "type": "float"
        },
        {
         "name": "Philippines_cpi",
         "rawType": "float64",
         "type": "float"
        },
        {
         "name": "Poland_cpi",
         "rawType": "float64",
         "type": "float"
        },
        {
         "name": "Portugal_cpi",
         "rawType": "float64",
         "type": "float"
        },
        {
         "name": "Puerto Rico_cpi",
         "rawType": "float64",
         "type": "float"
        },
        {
         "name": "Qatar_cpi",
         "rawType": "float64",
         "type": "float"
        },
        {
         "name": "Romania_cpi",
         "rawType": "float64",
         "type": "float"
        },
        {
         "name": "Russian Federation_cpi",
         "rawType": "float64",
         "type": "float"
        },
        {
         "name": "Rwanda_cpi",
         "rawType": "float64",
         "type": "float"
        },
        {
         "name": "Samoa_cpi",
         "rawType": "float64",
         "type": "float"
        },
        {
         "name": "San Marino_cpi",
         "rawType": "float64",
         "type": "float"
        },
        {
         "name": "Sao Tome and Principe_cpi",
         "rawType": "float64",
         "type": "float"
        },
        {
         "name": "Saudi Arabia_cpi",
         "rawType": "float64",
         "type": "float"
        },
        {
         "name": "Senegal_cpi",
         "rawType": "float64",
         "type": "float"
        },
        {
         "name": "Serbia_cpi",
         "rawType": "float64",
         "type": "float"
        },
        {
         "name": "Seychelles_cpi",
         "rawType": "float64",
         "type": "float"
        },
        {
         "name": "Sierra Leone_cpi",
         "rawType": "float64",
         "type": "float"
        },
        {
         "name": "Singapore_cpi",
         "rawType": "float64",
         "type": "float"
        },
        {
         "name": "Sint Maarten (Dutch part)_cpi",
         "rawType": "float64",
         "type": "float"
        },
        {
         "name": "Slovak Republic_cpi",
         "rawType": "float64",
         "type": "float"
        },
        {
         "name": "Slovenia_cpi",
         "rawType": "float64",
         "type": "float"
        },
        {
         "name": "Solomon Islands_cpi",
         "rawType": "float64",
         "type": "float"
        },
        {
         "name": "Somalia_cpi",
         "rawType": "float64",
         "type": "float"
        },
        {
         "name": "South Africa_cpi",
         "rawType": "float64",
         "type": "float"
        },
        {
         "name": "South Sudan_cpi",
         "rawType": "float64",
         "type": "float"
        },
        {
         "name": "Spain_cpi",
         "rawType": "float64",
         "type": "float"
        },
        {
         "name": "Sri Lanka_cpi",
         "rawType": "float64",
         "type": "float"
        },
        {
         "name": "St. Kitts and Nevis_cpi",
         "rawType": "float64",
         "type": "float"
        },
        {
         "name": "St. Lucia_cpi",
         "rawType": "float64",
         "type": "float"
        },
        {
         "name": "St. Martin (French part)_cpi",
         "rawType": "float64",
         "type": "float"
        },
        {
         "name": "St. Vincent and the Grenadines_cpi",
         "rawType": "float64",
         "type": "float"
        },
        {
         "name": "Sudan_cpi",
         "rawType": "float64",
         "type": "float"
        },
        {
         "name": "Suriname_cpi",
         "rawType": "float64",
         "type": "float"
        },
        {
         "name": "Sweden_cpi",
         "rawType": "float64",
         "type": "float"
        },
        {
         "name": "Switzerland_cpi",
         "rawType": "float64",
         "type": "float"
        },
        {
         "name": "Syrian Arab Republic_cpi",
         "rawType": "float64",
         "type": "float"
        },
        {
         "name": "Tajikistan_cpi",
         "rawType": "float64",
         "type": "float"
        },
        {
         "name": "Tanzania_cpi",
         "rawType": "float64",
         "type": "float"
        },
        {
         "name": "Thailand_cpi",
         "rawType": "float64",
         "type": "float"
        },
        {
         "name": "Timor-Leste_cpi",
         "rawType": "float64",
         "type": "float"
        },
        {
         "name": "Togo_cpi",
         "rawType": "float64",
         "type": "float"
        },
        {
         "name": "Tonga_cpi",
         "rawType": "float64",
         "type": "float"
        },
        {
         "name": "Trinidad and Tobago_cpi",
         "rawType": "float64",
         "type": "float"
        },
        {
         "name": "Tunisia_cpi",
         "rawType": "float64",
         "type": "float"
        },
        {
         "name": "Turkiye_cpi",
         "rawType": "float64",
         "type": "float"
        },
        {
         "name": "Turkmenistan_cpi",
         "rawType": "float64",
         "type": "float"
        },
        {
         "name": "Turks and Caicos Islands_cpi",
         "rawType": "float64",
         "type": "float"
        },
        {
         "name": "Tuvalu_cpi",
         "rawType": "float64",
         "type": "float"
        },
        {
         "name": "Uganda_cpi",
         "rawType": "float64",
         "type": "float"
        },
        {
         "name": "Ukraine_cpi",
         "rawType": "float64",
         "type": "float"
        },
        {
         "name": "United Arab Emirates_cpi",
         "rawType": "float64",
         "type": "float"
        },
        {
         "name": "United Kingdom_cpi",
         "rawType": "float64",
         "type": "float"
        },
        {
         "name": "United States_cpi",
         "rawType": "float64",
         "type": "float"
        },
        {
         "name": "Uruguay_cpi",
         "rawType": "float64",
         "type": "float"
        },
        {
         "name": "Uzbekistan_cpi",
         "rawType": "float64",
         "type": "float"
        },
        {
         "name": "Vanuatu_cpi",
         "rawType": "float64",
         "type": "float"
        },
        {
         "name": "Venezuela, RB_cpi",
         "rawType": "float64",
         "type": "float"
        },
        {
         "name": "Vietnam_cpi",
         "rawType": "float64",
         "type": "float"
        },
        {
         "name": "Virgin Islands (U.S.)_cpi",
         "rawType": "float64",
         "type": "float"
        },
        {
         "name": "West Bank and Gaza_cpi",
         "rawType": "float64",
         "type": "float"
        },
        {
         "name": "Yemen, Rep._cpi",
         "rawType": "float64",
         "type": "float"
        },
        {
         "name": "Zambia_cpi",
         "rawType": "float64",
         "type": "float"
        },
        {
         "name": "Zimbabwe_cpi.1",
         "rawType": "float64",
         "type": "float"
        },
        {
         "name": "Afghanistan_gdp_per_cap",
         "rawType": "float64",
         "type": "float"
        },
        {
         "name": "Albania_gdp_per_cap",
         "rawType": "float64",
         "type": "float"
        },
        {
         "name": "Algeria_gdp_per_cap",
         "rawType": "float64",
         "type": "float"
        },
        {
         "name": "American Samoa_gdp_per_cap",
         "rawType": "float64",
         "type": "float"
        },
        {
         "name": "Andorra_gdp_per_cap",
         "rawType": "float64",
         "type": "float"
        },
        {
         "name": "Angola_gdp_per_cap",
         "rawType": "float64",
         "type": "float"
        },
        {
         "name": "Antigua and Barbuda_gdp_per_cap",
         "rawType": "float64",
         "type": "float"
        },
        {
         "name": "Argentina_gdp_per_cap",
         "rawType": "float64",
         "type": "float"
        },
        {
         "name": "Armenia_gdp_per_cap",
         "rawType": "float64",
         "type": "float"
        },
        {
         "name": "Aruba_gdp_per_cap",
         "rawType": "float64",
         "type": "float"
        },
        {
         "name": "Australia_gdp_per_cap",
         "rawType": "float64",
         "type": "float"
        },
        {
         "name": "Austria_gdp_per_cap",
         "rawType": "float64",
         "type": "float"
        },
        {
         "name": "Azerbaijan_gdp_per_cap",
         "rawType": "float64",
         "type": "float"
        },
        {
         "name": "Bahamas, The_gdp_per_cap",
         "rawType": "float64",
         "type": "float"
        },
        {
         "name": "Bahrain_gdp_per_cap",
         "rawType": "float64",
         "type": "float"
        },
        {
         "name": "Bangladesh_gdp_per_cap",
         "rawType": "float64",
         "type": "float"
        },
        {
         "name": "Barbados_gdp_per_cap",
         "rawType": "float64",
         "type": "float"
        },
        {
         "name": "Belarus_gdp_per_cap",
         "rawType": "float64",
         "type": "float"
        },
        {
         "name": "Belgium_gdp_per_cap",
         "rawType": "float64",
         "type": "float"
        },
        {
         "name": "Belize_gdp_per_cap",
         "rawType": "float64",
         "type": "float"
        },
        {
         "name": "Benin_gdp_per_cap",
         "rawType": "float64",
         "type": "float"
        },
        {
         "name": "Bermuda_gdp_per_cap",
         "rawType": "float64",
         "type": "float"
        },
        {
         "name": "Bhutan_gdp_per_cap",
         "rawType": "float64",
         "type": "float"
        },
        {
         "name": "Bolivia_gdp_per_cap",
         "rawType": "float64",
         "type": "float"
        },
        {
         "name": "Bosnia and Herzegovina_gdp_per_cap",
         "rawType": "float64",
         "type": "float"
        },
        {
         "name": "Botswana_gdp_per_cap",
         "rawType": "float64",
         "type": "float"
        },
        {
         "name": "Brazil_gdp_per_cap",
         "rawType": "float64",
         "type": "float"
        },
        {
         "name": "British Virgin Islands_gdp_per_cap",
         "rawType": "int64",
         "type": "integer"
        },
        {
         "name": "Brunei Darussalam_gdp_per_cap",
         "rawType": "float64",
         "type": "float"
        },
        {
         "name": "Bulgaria_gdp_per_cap",
         "rawType": "float64",
         "type": "float"
        },
        {
         "name": "Burkina Faso_gdp_per_cap",
         "rawType": "float64",
         "type": "float"
        },
        {
         "name": "Burundi_gdp_per_cap",
         "rawType": "float64",
         "type": "float"
        },
        {
         "name": "Cabo Verde_gdp_per_cap",
         "rawType": "float64",
         "type": "float"
        },
        {
         "name": "Cambodia_gdp_per_cap",
         "rawType": "float64",
         "type": "float"
        },
        {
         "name": "Cameroon_gdp_per_cap",
         "rawType": "float64",
         "type": "float"
        },
        {
         "name": "Canada_gdp_per_cap",
         "rawType": "float64",
         "type": "float"
        },
        {
         "name": "Cayman Islands_gdp_per_cap",
         "rawType": "float64",
         "type": "float"
        },
        {
         "name": "Central African Republic_gdp_per_cap",
         "rawType": "float64",
         "type": "float"
        },
        {
         "name": "Chad_gdp_per_cap",
         "rawType": "float64",
         "type": "float"
        },
        {
         "name": "Channel Islands_gdp_per_cap",
         "rawType": "float64",
         "type": "float"
        },
        {
         "name": "Chile_gdp_per_cap",
         "rawType": "float64",
         "type": "float"
        },
        {
         "name": "China_gdp_per_cap",
         "rawType": "float64",
         "type": "float"
        },
        {
         "name": "Colombia_gdp_per_cap",
         "rawType": "float64",
         "type": "float"
        },
        {
         "name": "Comoros_gdp_per_cap",
         "rawType": "float64",
         "type": "float"
        },
        {
         "name": "Congo, Dem. Rep._gdp_per_cap",
         "rawType": "float64",
         "type": "float"
        },
        {
         "name": "Congo, Rep._gdp_per_cap",
         "rawType": "float64",
         "type": "float"
        },
        {
         "name": "Costa Rica_gdp_per_cap",
         "rawType": "float64",
         "type": "float"
        },
        {
         "name": "Cote d'Ivoire_gdp_per_cap",
         "rawType": "float64",
         "type": "float"
        },
        {
         "name": "Croatia_gdp_per_cap",
         "rawType": "float64",
         "type": "float"
        },
        {
         "name": "Cuba_gdp_per_cap",
         "rawType": "float64",
         "type": "float"
        },
        {
         "name": "Curacao_gdp_per_cap",
         "rawType": "float64",
         "type": "float"
        },
        {
         "name": "Cyprus_gdp_per_cap",
         "rawType": "float64",
         "type": "float"
        },
        {
         "name": "Czech Republic_gdp_per_cap",
         "rawType": "float64",
         "type": "float"
        },
        {
         "name": "Denmark_gdp_per_cap",
         "rawType": "float64",
         "type": "float"
        },
        {
         "name": "Djibouti_gdp_per_cap",
         "rawType": "float64",
         "type": "float"
        },
        {
         "name": "Dominica_gdp_per_cap",
         "rawType": "float64",
         "type": "float"
        },
        {
         "name": "Dominican Republic_gdp_per_cap",
         "rawType": "float64",
         "type": "float"
        },
        {
         "name": "Ecuador_gdp_per_cap",
         "rawType": "float64",
         "type": "float"
        },
        {
         "name": "Egypt, Arab Rep._gdp_per_cap",
         "rawType": "float64",
         "type": "float"
        },
        {
         "name": "El Salvador_gdp_per_cap",
         "rawType": "float64",
         "type": "float"
        },
        {
         "name": "Equatorial Guinea_gdp_per_cap",
         "rawType": "float64",
         "type": "float"
        },
        {
         "name": "Eritrea_gdp_per_cap",
         "rawType": "float64",
         "type": "float"
        },
        {
         "name": "Estonia_gdp_per_cap",
         "rawType": "float64",
         "type": "float"
        },
        {
         "name": "Eswatini_gdp_per_cap",
         "rawType": "float64",
         "type": "float"
        },
        {
         "name": "Ethiopia_gdp_per_cap",
         "rawType": "float64",
         "type": "float"
        },
        {
         "name": "Faroe Islands_gdp_per_cap",
         "rawType": "float64",
         "type": "float"
        },
        {
         "name": "Fiji_gdp_per_cap",
         "rawType": "float64",
         "type": "float"
        },
        {
         "name": "Finland_gdp_per_cap",
         "rawType": "float64",
         "type": "float"
        },
        {
         "name": "France_gdp_per_cap",
         "rawType": "float64",
         "type": "float"
        },
        {
         "name": "French Polynesia_gdp_per_cap",
         "rawType": "float64",
         "type": "float"
        },
        {
         "name": "Gabon_gdp_per_cap",
         "rawType": "float64",
         "type": "float"
        },
        {
         "name": "Gambia, The_gdp_per_cap",
         "rawType": "float64",
         "type": "float"
        },
        {
         "name": "Georgia_gdp_per_cap",
         "rawType": "float64",
         "type": "float"
        },
        {
         "name": "Germany_gdp_per_cap",
         "rawType": "float64",
         "type": "float"
        },
        {
         "name": "Ghana_gdp_per_cap",
         "rawType": "float64",
         "type": "float"
        },
        {
         "name": "Gibraltar_gdp_per_cap",
         "rawType": "int64",
         "type": "integer"
        },
        {
         "name": "Greece_gdp_per_cap",
         "rawType": "float64",
         "type": "float"
        },
        {
         "name": "Greenland_gdp_per_cap",
         "rawType": "float64",
         "type": "float"
        },
        {
         "name": "Grenada_gdp_per_cap",
         "rawType": "float64",
         "type": "float"
        },
        {
         "name": "Guam_gdp_per_cap",
         "rawType": "float64",
         "type": "float"
        },
        {
         "name": "Guatemala_gdp_per_cap",
         "rawType": "float64",
         "type": "float"
        },
        {
         "name": "Guinea_gdp_per_cap",
         "rawType": "float64",
         "type": "float"
        },
        {
         "name": "Guinea-Bissau_gdp_per_cap",
         "rawType": "float64",
         "type": "float"
        },
        {
         "name": "Guyana_gdp_per_cap",
         "rawType": "float64",
         "type": "float"
        },
        {
         "name": "Haiti_gdp_per_cap",
         "rawType": "float64",
         "type": "float"
        },
        {
         "name": "Honduras_gdp_per_cap",
         "rawType": "float64",
         "type": "float"
        },
        {
         "name": "Hong Kong SAR, China_gdp_per_cap",
         "rawType": "float64",
         "type": "float"
        },
        {
         "name": "Hungary_gdp_per_cap",
         "rawType": "float64",
         "type": "float"
        },
        {
         "name": "Iceland_gdp_per_cap",
         "rawType": "float64",
         "type": "float"
        },
        {
         "name": "India_gdp_per_cap",
         "rawType": "float64",
         "type": "float"
        },
        {
         "name": "Indonesia_gdp_per_cap",
         "rawType": "float64",
         "type": "float"
        },
        {
         "name": "Iran, Islamic Rep._gdp_per_cap",
         "rawType": "float64",
         "type": "float"
        },
        {
         "name": "Iraq_gdp_per_cap",
         "rawType": "float64",
         "type": "float"
        },
        {
         "name": "Ireland_gdp_per_cap",
         "rawType": "float64",
         "type": "float"
        },
        {
         "name": "Isle of Man_gdp_per_cap",
         "rawType": "float64",
         "type": "float"
        },
        {
         "name": "Israel_gdp_per_cap",
         "rawType": "float64",
         "type": "float"
        },
        {
         "name": "Italy_gdp_per_cap",
         "rawType": "float64",
         "type": "float"
        },
        {
         "name": "Jamaica_gdp_per_cap",
         "rawType": "float64",
         "type": "float"
        },
        {
         "name": "Japan_gdp_per_cap",
         "rawType": "float64",
         "type": "float"
        },
        {
         "name": "Jordan_gdp_per_cap",
         "rawType": "float64",
         "type": "float"
        },
        {
         "name": "Kazakhstan_gdp_per_cap",
         "rawType": "float64",
         "type": "float"
        },
        {
         "name": "Kenya_gdp_per_cap",
         "rawType": "float64",
         "type": "float"
        },
        {
         "name": "Kiribati_gdp_per_cap",
         "rawType": "float64",
         "type": "float"
        },
        {
         "name": "Korea, Dem. People's Rep._gdp_per_cap",
         "rawType": "int64",
         "type": "integer"
        },
        {
         "name": "Korea, Rep._gdp_per_cap",
         "rawType": "float64",
         "type": "float"
        },
        {
         "name": "Kosovo_gdp_per_cap",
         "rawType": "float64",
         "type": "float"
        },
        {
         "name": "Kuwait_gdp_per_cap",
         "rawType": "float64",
         "type": "float"
        },
        {
         "name": "Kyrgyz Republic_gdp_per_cap",
         "rawType": "float64",
         "type": "float"
        },
        {
         "name": "Lao PDR_gdp_per_cap",
         "rawType": "float64",
         "type": "float"
        },
        {
         "name": "Latvia_gdp_per_cap",
         "rawType": "float64",
         "type": "float"
        },
        {
         "name": "Lebanon_gdp_per_cap",
         "rawType": "float64",
         "type": "float"
        },
        {
         "name": "Lesotho_gdp_per_cap",
         "rawType": "float64",
         "type": "float"
        },
        {
         "name": "Liberia_gdp_per_cap",
         "rawType": "float64",
         "type": "float"
        },
        {
         "name": "Libya_gdp_per_cap",
         "rawType": "float64",
         "type": "float"
        },
        {
         "name": "Liechtenstein_gdp_per_cap",
         "rawType": "float64",
         "type": "float"
        },
        {
         "name": "Lithuania_gdp_per_cap",
         "rawType": "float64",
         "type": "float"
        },
        {
         "name": "Luxembourg_gdp_per_cap",
         "rawType": "float64",
         "type": "float"
        },
        {
         "name": "Macao SAR, China_gdp_per_cap",
         "rawType": "float64",
         "type": "float"
        },
        {
         "name": "Madagascar_gdp_per_cap",
         "rawType": "float64",
         "type": "float"
        },
        {
         "name": "Malawi_gdp_per_cap",
         "rawType": "float64",
         "type": "float"
        },
        {
         "name": "Malaysia_gdp_per_cap",
         "rawType": "float64",
         "type": "float"
        },
        {
         "name": "Maldives_gdp_per_cap",
         "rawType": "float64",
         "type": "float"
        },
        {
         "name": "Mali_gdp_per_cap",
         "rawType": "float64",
         "type": "float"
        },
        {
         "name": "Malta_gdp_per_cap",
         "rawType": "float64",
         "type": "float"
        },
        {
         "name": "Marshall Islands_gdp_per_cap",
         "rawType": "float64",
         "type": "float"
        },
        {
         "name": "Mauritania_gdp_per_cap",
         "rawType": "float64",
         "type": "float"
        },
        {
         "name": "Mauritius_gdp_per_cap",
         "rawType": "float64",
         "type": "float"
        },
        {
         "name": "Mexico_gdp_per_cap",
         "rawType": "float64",
         "type": "float"
        },
        {
         "name": "Micronesia, Fed. Sts._gdp_per_cap",
         "rawType": "float64",
         "type": "float"
        },
        {
         "name": "Moldova_gdp_per_cap",
         "rawType": "float64",
         "type": "float"
        },
        {
         "name": "Monaco_gdp_per_cap",
         "rawType": "float64",
         "type": "float"
        },
        {
         "name": "Mongolia_gdp_per_cap",
         "rawType": "float64",
         "type": "float"
        },
        {
         "name": "Montenegro_gdp_per_cap",
         "rawType": "float64",
         "type": "float"
        },
        {
         "name": "Morocco_gdp_per_cap",
         "rawType": "float64",
         "type": "float"
        },
        {
         "name": "Mozambique_gdp_per_cap",
         "rawType": "float64",
         "type": "float"
        },
        {
         "name": "Myanmar_gdp_per_cap",
         "rawType": "float64",
         "type": "float"
        },
        {
         "name": "Namibia_gdp_per_cap",
         "rawType": "float64",
         "type": "float"
        },
        {
         "name": "Nauru_gdp_per_cap",
         "rawType": "float64",
         "type": "float"
        },
        {
         "name": "Nepal_gdp_per_cap",
         "rawType": "float64",
         "type": "float"
        },
        {
         "name": "Netherlands_gdp_per_cap",
         "rawType": "float64",
         "type": "float"
        },
        {
         "name": "New Caledonia_gdp_per_cap",
         "rawType": "float64",
         "type": "float"
        },
        {
         "name": "New Zealand_gdp_per_cap",
         "rawType": "float64",
         "type": "float"
        },
        {
         "name": "Nicaragua_gdp_per_cap",
         "rawType": "float64",
         "type": "float"
        },
        {
         "name": "Niger_gdp_per_cap",
         "rawType": "float64",
         "type": "float"
        },
        {
         "name": "Nigeria_gdp_per_cap",
         "rawType": "float64",
         "type": "float"
        },
        {
         "name": "North Macedonia_gdp_per_cap",
         "rawType": "float64",
         "type": "float"
        },
        {
         "name": "Northern Mariana Islands_gdp_per_cap",
         "rawType": "float64",
         "type": "float"
        },
        {
         "name": "Norway_gdp_per_cap",
         "rawType": "float64",
         "type": "float"
        },
        {
         "name": "Oman_gdp_per_cap",
         "rawType": "float64",
         "type": "float"
        },
        {
         "name": "Pakistan_gdp_per_cap",
         "rawType": "float64",
         "type": "float"
        },
        {
         "name": "Palau_gdp_per_cap",
         "rawType": "float64",
         "type": "float"
        },
        {
         "name": "Panama_gdp_per_cap",
         "rawType": "float64",
         "type": "float"
        },
        {
         "name": "Papua New Guinea_gdp_per_cap",
         "rawType": "float64",
         "type": "float"
        },
        {
         "name": "Paraguay_gdp_per_cap",
         "rawType": "float64",
         "type": "float"
        },
        {
         "name": "Peru_gdp_per_cap",
         "rawType": "float64",
         "type": "float"
        },
        {
         "name": "Philippines_gdp_per_cap",
         "rawType": "float64",
         "type": "float"
        },
        {
         "name": "Poland_gdp_per_cap",
         "rawType": "float64",
         "type": "float"
        },
        {
         "name": "Portugal_gdp_per_cap",
         "rawType": "float64",
         "type": "float"
        },
        {
         "name": "Puerto Rico_gdp_per_cap",
         "rawType": "float64",
         "type": "float"
        },
        {
         "name": "Qatar_gdp_per_cap",
         "rawType": "float64",
         "type": "float"
        },
        {
         "name": "Romania_gdp_per_cap",
         "rawType": "float64",
         "type": "float"
        },
        {
         "name": "Russian Federation_gdp_per_cap",
         "rawType": "float64",
         "type": "float"
        },
        {
         "name": "Rwanda_gdp_per_cap",
         "rawType": "float64",
         "type": "float"
        },
        {
         "name": "Samoa_gdp_per_cap",
         "rawType": "float64",
         "type": "float"
        },
        {
         "name": "San Marino_gdp_per_cap",
         "rawType": "float64",
         "type": "float"
        },
        {
         "name": "Sao Tome and Principe_gdp_per_cap",
         "rawType": "float64",
         "type": "float"
        },
        {
         "name": "Saudi Arabia_gdp_per_cap",
         "rawType": "float64",
         "type": "float"
        },
        {
         "name": "Senegal_gdp_per_cap",
         "rawType": "float64",
         "type": "float"
        },
        {
         "name": "Serbia_gdp_per_cap",
         "rawType": "float64",
         "type": "float"
        },
        {
         "name": "Seychelles_gdp_per_cap",
         "rawType": "float64",
         "type": "float"
        },
        {
         "name": "Sierra Leone_gdp_per_cap",
         "rawType": "float64",
         "type": "float"
        },
        {
         "name": "Singapore_gdp_per_cap",
         "rawType": "float64",
         "type": "float"
        },
        {
         "name": "Sint Maarten (Dutch part)_gdp_per_cap",
         "rawType": "float64",
         "type": "float"
        },
        {
         "name": "Slovak Republic_gdp_per_cap",
         "rawType": "float64",
         "type": "float"
        },
        {
         "name": "Slovenia_gdp_per_cap",
         "rawType": "float64",
         "type": "float"
        },
        {
         "name": "Solomon Islands_gdp_per_cap",
         "rawType": "float64",
         "type": "float"
        },
        {
         "name": "Somalia_gdp_per_cap",
         "rawType": "float64",
         "type": "float"
        },
        {
         "name": "South Africa_gdp_per_cap",
         "rawType": "float64",
         "type": "float"
        },
        {
         "name": "South Sudan_gdp_per_cap",
         "rawType": "float64",
         "type": "float"
        },
        {
         "name": "Spain_gdp_per_cap",
         "rawType": "float64",
         "type": "float"
        },
        {
         "name": "Sri Lanka_gdp_per_cap",
         "rawType": "float64",
         "type": "float"
        },
        {
         "name": "St. Kitts and Nevis_gdp_per_cap",
         "rawType": "float64",
         "type": "float"
        },
        {
         "name": "St. Lucia_gdp_per_cap",
         "rawType": "float64",
         "type": "float"
        },
        {
         "name": "St. Martin (French part)_gdp_per_cap",
         "rawType": "float64",
         "type": "float"
        },
        {
         "name": "St. Vincent and the Grenadines_gdp_per_cap",
         "rawType": "float64",
         "type": "float"
        },
        {
         "name": "Sudan_gdp_per_cap",
         "rawType": "float64",
         "type": "float"
        },
        {
         "name": "Suriname_gdp_per_cap",
         "rawType": "float64",
         "type": "float"
        },
        {
         "name": "Sweden_gdp_per_cap",
         "rawType": "float64",
         "type": "float"
        },
        {
         "name": "Switzerland_gdp_per_cap",
         "rawType": "float64",
         "type": "float"
        },
        {
         "name": "Syrian Arab Republic_gdp_per_cap",
         "rawType": "float64",
         "type": "float"
        },
        {
         "name": "Tajikistan_gdp_per_cap",
         "rawType": "float64",
         "type": "float"
        },
        {
         "name": "Tanzania_gdp_per_cap",
         "rawType": "float64",
         "type": "float"
        },
        {
         "name": "Thailand_gdp_per_cap",
         "rawType": "float64",
         "type": "float"
        },
        {
         "name": "Timor-Leste_gdp_per_cap",
         "rawType": "float64",
         "type": "float"
        },
        {
         "name": "Togo_gdp_per_cap",
         "rawType": "float64",
         "type": "float"
        },
        {
         "name": "Tonga_gdp_per_cap",
         "rawType": "float64",
         "type": "float"
        },
        {
         "name": "Trinidad and Tobago_gdp_per_cap",
         "rawType": "float64",
         "type": "float"
        },
        {
         "name": "Tunisia_gdp_per_cap",
         "rawType": "float64",
         "type": "float"
        },
        {
         "name": "Turkiye_gdp_per_cap",
         "rawType": "float64",
         "type": "float"
        },
        {
         "name": "Turkmenistan_gdp_per_cap",
         "rawType": "float64",
         "type": "float"
        },
        {
         "name": "Turks and Caicos Islands_gdp_per_cap",
         "rawType": "float64",
         "type": "float"
        },
        {
         "name": "Tuvalu_gdp_per_cap",
         "rawType": "float64",
         "type": "float"
        },
        {
         "name": "Uganda_gdp_per_cap",
         "rawType": "float64",
         "type": "float"
        },
        {
         "name": "Ukraine_gdp_per_cap",
         "rawType": "float64",
         "type": "float"
        },
        {
         "name": "United Arab Emirates_gdp_per_cap",
         "rawType": "float64",
         "type": "float"
        },
        {
         "name": "United Kingdom_gdp_per_cap",
         "rawType": "float64",
         "type": "float"
        },
        {
         "name": "United States_gdp_per_cap",
         "rawType": "float64",
         "type": "float"
        },
        {
         "name": "Uruguay_gdp_per_cap",
         "rawType": "float64",
         "type": "float"
        },
        {
         "name": "Uzbekistan_gdp_per_cap",
         "rawType": "float64",
         "type": "float"
        },
        {
         "name": "Vanuatu_gdp_per_cap",
         "rawType": "float64",
         "type": "float"
        },
        {
         "name": "Venezuela, RB_gdp_per_cap",
         "rawType": "float64",
         "type": "float"
        },
        {
         "name": "Vietnam_gdp_per_cap",
         "rawType": "float64",
         "type": "float"
        },
        {
         "name": "Virgin Islands (U.S.)_gdp_per_cap",
         "rawType": "float64",
         "type": "float"
        },
        {
         "name": "West Bank and Gaza_gdp_per_cap",
         "rawType": "float64",
         "type": "float"
        },
        {
         "name": "Yemen, Rep._gdp_per_cap",
         "rawType": "float64",
         "type": "float"
        },
        {
         "name": "Zambia_gdp_per_cap",
         "rawType": "float64",
         "type": "float"
        },
        {
         "name": "Zimbabwe_gdp_per_cap",
         "rawType": "float64",
         "type": "float"
        }
       ],
       "ref": "8500339e-03cb-45a4-8eff-695cb76dbcfd",
       "rows": [
        [
         "0",
         "1960",
         "537777811.1",
         null,
         "2723593385.0",
         null,
         null,
         null,
         null,
         null,
         null,
         null,
         "18606786874.0",
         "6592693841.0",
         null,
         "169803921.6",
         null,
         "4274893913.0",
         null,
         null,
         "11658722591.0",
         "28071888.56",
         "226195579.4",
         "84466654.08",
         null,
         "373879363.6",
         null,
         "30412308.99",
         "17030465539.0",
         null,
         null,
         null,
         "330442817.2",
         "195999990.0",
         null,
         "637142865.7",
         "614206071.0",
         "40461721693.0",
         null,
         "112155598.9",
         "313582729.4",
         null,
         "4110000000.0",
         "59716467625.0",
         "4031152977.0",
         null,
         "3359404118",
         "131731862.6",
         "507513830.0",
         "546203561.6",
         null,
         null,
         null,
         null,
         null,
         null,
         null,
         null,
         "672399700",
         "2069465326.0",
         null,
         null,
         null,
         null,
         null,
         "35076158.48",
         null,
         null,
         "112328422.1",
         "5224102196.0",
         "62225478001.0",
         null,
         "141468978.4",
         null,
         null,
         null,
         "1217086835",
         null,
         "4335186017.0",
         null,
         null,
         null,
         "1043599900",
         null,
         null,
         "170215248.2",
         "273187200",
         "335650000",
         "1320796652.0",
         null,
         "248434097.0",
         "37029883876.0",
         null,
         "4199134390.0",
         "1684121535.0",
         "1939329775.0",
         null,
         "2598500000.0",
         "40385288344.0",
         "699050679.0",
         "44307342950.0",
         null,
         null,
         "791265458.8",
         null,
         null,
         "3958190759.0",
         null,
         null,
         null,
         null,
         null,
         null,
         "34579308.41",
         null,
         null,
         null,
         null,
         "703925705.9",
         null,
         "673081724.1",
         "162956740.9",
         "1916241997.0",
         null,
         null,
         null,
         null,
         null,
         null,
         "13040000000.0",
         null,
         null,
         null,
         null,
         null,
         "2037150716.0",
         null,
         null,
         null,
         null,
         "508334414.0",
         "12276734172.0",
         null,
         "5485854792.0",
         "223854666.7",
         "449526872.6",
         "4196092258.0",
         null,
         null,
         "5163271598.0",
         null,
         "3749265015.0",
         null,
         "537147100",
         "230496033.0",
         null,
         "2571908062.0",
         "7515886651.0",
         null,
         "3193200404.0",
         "1691900000.0",
         null,
         null,
         null,
         "119000024.0",
         null,
         null,
         null,
         null,
         "1003692375",
         null,
         "12012012.01",
         "322009471.6",
         "704756304.7",
         null,
         null,
         null,
         null,
         "180459936.8",
         "8748596504.0",
         null,
         "12072126075.0",
         "1409873950",
         "12366563.61",
         null,
         null,
         "13066557.78",
         "1307333333.0",
         "99650000.0",
         "15822585034.0",
         "9522746719.0",
         "857704413.4",
         null,
         null,
         "2760747472.0",
         null,
         "121128073.1",
         null,
         "535670127.7",
         null,
         "13983572895.0",
         null,
         null,
         null,
         "423008385.7",
         null,
         null,
         "73233967692.0",
         "543300000000.0",
         "1242289239",
         null,
         null,
         "7779090909.0",
         null,
         null,
         null,
         null,
         "713000000.0",
         "1052990400",
         "8996967",
         "1608800",
         "11057864",
         "20127",
         "13410",
         "5454938",
         "54132",
         "20481781",
         "1874119",
         "54208",
         "10276477",
         "7047539",
         "3895398",
         "109532",
         "162429",
         "48013505",
         "230985",
         "8198000",
         "9153489",
         "92068",
         "2431617",
         "44400",
         "223284",
         "3656961",
         "3225664",
         "502733",
         "72179235",
         "8053",
         "81707",
         "7867374",
         "4829289",
         "2797925",
         "201770",
         "5722372",
         "5176920",
         "17909009",
         "7870",
         "1501668",
         "3001604",
         "109419",
         "8132988",
         "667070000",
         "16057714",
         "191122",
         "15248256",
         "1018254",
         "1330787",
         "3503559",
         "4140181",
         "7141241",
         "124826",
         "572933",
         "9602006",
         "4579603",
         "83634",
         "60020",
         "3294222",
         "4543658",
         "26632891",
         "2766319",
         "255338",
         "1007586.0",
         "1211537",
         "336578",
         "22151284",
         "34624",
         "393480",
         "4429634",
         "46621688",
         "78080",
         "500922",
         "365049",
         "3645600",
         "72814900",
         "6635229",
         "23420",
         "8331725",
         "32500",
         "89927",
         "66733",
         "4128880",
         "3494164",
         "616140",
         "571813",
         "3866162",
         "2038636",
         "3075605",
         "9983967",
         "175574",
         "450547675",
         "87751066",
         "21906909",
         "7289753",
         "2828600",
         "48444",
         "2114020",
         "50199700",
         "1628524",
         "93216000",
         "933102",
         "9934564",
         "8120082",
         "41196",
         "11424189",
         "25012374",
         "947000",
         "269026.0",
         "2172300",
         "2120892",
         "2120979",
         "1804935",
         "837264",
         "1118655",
         "1448416",
         "16501",
         "2778550",
         "313970",
         "167795",
         "5099368",
         "3659980",
         "8156342",
         "89873",
         "5263727",
         "326550",
         "14674",
         "850377",
         "659351",
         "37771861",
         "44510",
         "2043664",
         "22461",
         "955514",
         "480579",
         "12328532",
         "7184870",
         "21736947",
         "634138",
         "4377",
         "10105060",
         "11486631",
         "79000",
         "2371800",
         "1773132",
         "3388774",
         "45138460",
         "1488670",
         "9980",
         "3581239",
         "551735",
         "44988690",
         "9769",
         "1133005",
         "2255858",
         "1903990",
         "10155011",
         "26269741",
         "29637450",
         "8857716",
         "2358000",
         "47383",
         "18406905",
         "119897000",
         "2935575",
         "108627",
         "15440",
         "64294",
         "4086534",
         "3206757",
         "6608000",
         "41700",
         "2317638",
         "1646400",
         "2833",
         "4068095",
         "1584720",
         "117847",
         "2755967",
         "17099836",
         "2842718",
         "30455000",
         "9874476",
         "51199",
         "89698",
         "3898",
         "80970",
         "7544498",
         "287870",
         "7484656",
         "5327827",
         "4573514",
         "2087053",
         "10052151",
         "27397208",
         "474535",
         "1580508",
         "61574",
         "847973",
         "4178235",
         "27472339",
         "1603254",
         "5825",
         "5321",
         "6767092",
         "42664646",
         "92417",
         "52400000",
         "180671000",
         "2538648",
         "8526299",
         "63689",
         "8141839",
         "32670048",
         "32500",
         null,
         "5315351",
         "3070780",
         "3776679",
         "22222233.33",
         null,
         "1063377266.0",
         null,
         null,
         null,
         null,
         null,
         null,
         null,
         "2413484153.0",
         null,
         null,
         null,
         null,
         "427347691.4",
         null,
         null,
         null,
         null,
         "13852022.33",
         null,
         null,
         "60602013.39",
         null,
         "7991027.618",
         "1069822094.0",
         null,
         null,
         null,
         "16066015.59",
         "24499998.0",
         null,
         "88571428.57",
         null,
         null,
         null,
         "26101663.53",
         "41987616.39",
         null,
         "536608944.1",
         "2571289301.0",
         "632672494.3",
         null,
         null,
         "26943546.43",
         "107517342.9",
         "187017625.6",
         null,
         null,
         null,
         null,
         null,
         null,
         null,
         null,
         "172100000.0",
         "197583745.9",
         null,
         null,
         null,
         null,
         null,
         "16939661.21",
         null,
         null,
         null,
         null,
         "9218097245.0",
         null,
         "48341345.73",
         null,
         null,
         null,
         "343137254.9",
         null,
         "429350661.4",
         null,
         null,
         null,
         "131900000",
         null,
         null,
         "82949308.76",
         null,
         "71800000.0",
         null,
         null,
         null,
         "1652701653.0",
         null,
         "581541416.3",
         null,
         null,
         null,
         null,
         null,
         "232379252.4",
         null,
         null,
         null,
         "246049901.4",
         null,
         null,
         "103762705.0",
         null,
         null,
         null,
         null,
         null,
         null,
         "4059918.802",
         null,
         null,
         null,
         null,
         null,
         null,
         "67511336.64",
         null,
         "1016921469.0",
         null,
         null,
         null,
         null,
         null,
         null,
         "1109120000.0",
         null,
         null,
         null,
         null,
         null,
         "480189724.3",
         null,
         null,
         null,
         null,
         null,
         null,
         null,
         null,
         "52948278.33",
         "31918254.3",
         "387783144.3",
         null,
         null,
         null,
         null,
         "269004619.9",
         null,
         "245950200",
         null,
         null,
         "519800925.4",
         null,
         null,
         null,
         null,
         null,
         null,
         null,
         "14800000.0",
         null,
         null,
         null,
         null,
         "115539820.2",
         null,
         null,
         null,
         "1147523847.0",
         null,
         null,
         null,
         null,
         "22945943.78",
         "2238599106.0",
         null,
         null,
         "422303067.2",
         null,
         null,
         null,
         null,
         "190333333.3",
         null,
         "3310997354.0",
         null,
         "183179972.1",
         null,
         null,
         "445712828.9",
         null,
         "37708626.31",
         null,
         null,
         null,
         "287474332.6",
         null,
         null,
         null,
         "115605870.0",
         null,
         null,
         null,
         null,
         "171350239.9",
         null,
         null,
         "2367454545.0",
         null,
         null,
         null,
         null,
         null,
         null,
         "37777780.0",
         null,
         "1828719511.0",
         null,
         null,
         null,
         null,
         null,
         null,
         null,
         "2611714638.0",
         null,
         null,
         null,
         null,
         "397875421.7",
         null,
         null,
         null,
         null,
         "27392931.59",
         null,
         null,
         "89483964.67",
         null,
         "12056638.16",
         "1078651437.0",
         null,
         null,
         null,
         "52340174.82",
         "26250000.0",
         null,
         "139999991.4",
         null,
         null,
         null,
         "38336816.27",
         "53426872.72",
         null,
         "650749016.1",
         "2644406532.0",
         "594894694.8",
         null,
         null,
         "112771915.3",
         "132338590.9",
         "125105306.8",
         null,
         null,
         null,
         null,
         null,
         null,
         null,
         null,
         "126500000",
         "214480876.3",
         null,
         null,
         null,
         null,
         null,
         "12039759.2",
         null,
         null,
         null,
         null,
         "7703448807.0",
         null,
         "46157379.98",
         null,
         null,
         null,
         "431372549.0",
         null,
         "631632347.3",
         null,
         null,
         null,
         "151700000",
         null,
         null,
         "96949192.09",
         null,
         "77300000",
         null,
         null,
         null,
         "2530502531.0",
         null,
         "730164938.5",
         null,
         null,
         null,
         null,
         null,
         "265994680.1",
         null,
         null,
         null,
         "266419907.2",
         null,
         null,
         "474140116.1",
         null,
         null,
         null,
         null,
         null,
         null,
         "13299734.01",
         null,
         null,
         null,
         null,
         null,
         null,
         "111896638.8",
         null,
         "752319351.9",
         null,
         null,
         null,
         null,
         null,
         null,
         "1520944000.0",
         null,
         null,
         null,
         null,
         null,
         "462404900.7",
         null,
         null,
         null,
         null,
         null,
         null,
         null,
         null,
         "58580562.48",
         "33289006.81",
         "710187876.2",
         null,
         null,
         null,
         null,
         "495590088.2",
         null,
         "292100100",
         null,
         null,
         "521341086.3",
         null,
         null,
         null,
         "905500000.0",
         null,
         null,
         null,
         "12000000.0",
         null,
         null,
         null,
         null,
         "126271877.3",
         null,
         null,
         null,
         "1243760617.0",
         null,
         null,
         null,
         null,
         "30939958.5",
         "1860599257.0",
         null,
         null,
         "464026785.7",
         null,
         null,
         null,
         null,
         "170000000.0",
         null,
         "3412118648.0",
         null,
         "238438296.1",
         null,
         null,
         "480790112.3",
         null,
         "38214643.77",
         null,
         null,
         null,
         "513347022.6",
         null,
         null,
         null,
         "92285115.3",
         null,
         null,
         null,
         null,
         "231322823.9",
         null,
         null,
         "1411787879.0",
         null,
         null,
         null,
         null,
         null,
         null,
         null,
         null,
         null,
         null,
         null,
         null,
         null,
         null,
         null,
         null,
         "7.960457856",
         "17.82416674",
         null,
         null,
         null,
         null,
         null,
         null,
         "15.59608125",
         null,
         null,
         null,
         null,
         "2.24e-05",
         null,
         null,
         null,
         null,
         null,
         null,
         "10.71330051",
         null,
         null,
         null,
         null,
         "13.34430452",
         null,
         null,
         null,
         null,
         null,
         null,
         "0.057595104",
         null,
         null,
         null,
         "0.249178864",
         "5.558836943",
         null,
         null,
         null,
         "13.94161183",
         null,
         "8.245702104",
         null,
         null,
         "0.454580671",
         "0.011758973",
         "1.208720709",
         "1.927769934",
         null,
         null,
         null,
         null,
         null,
         null,
         null,
         "8.136875458",
         "10.43359341",
         null,
         null,
         null,
         null,
         "24.64607426",
         null,
         null,
         "1.121349544",
         null,
         null,
         null,
         "1.755258964",
         null,
         null,
         null,
         "0.85297117",
         "1.561930288",
         null,
         null,
         "0.041528891",
         "2.527486689",
         "0.000277684",
         "0.141434222",
         "59.05985099",
         "5.073265379",
         null,
         "0.000888597",
         "4.147835617",
         "0.11311686",
         "18.9725686",
         null,
         null,
         "0.741244284",
         null,
         null,
         "1.47695384",
         null,
         null,
         null,
         null,
         null,
         null,
         null,
         null,
         null,
         null,
         null,
         "17.08905724",
         null,
         null,
         null,
         "21.30924128",
         null,
         null,
         "20.9007827",
         null,
         null,
         null,
         "0.012904548",
         null,
         null,
         null,
         null,
         null,
         "9.942806072",
         null,
         "0.155438057",
         null,
         null,
         null,
         "16.843093",
         null,
         "4.9921648",
         null,
         null,
         "0.065887434",
         null,
         null,
         "9.027832051",
         null,
         "2.072064778",
         null,
         "25.70696894",
         null,
         "0.410927393",
         "4.08e-08",
         "1.128957074",
         null,
         "1.182810075",
         null,
         null,
         null,
         null,
         null,
         null,
         null,
         null,
         null,
         null,
         null,
         null,
         null,
         "27.51917493",
         null,
         null,
         null,
         null,
         null,
         "1.772459625",
         null,
         "2.858817264",
         "1.487669034",
         null,
         null,
         null,
         null,
         "0.001025752",
         "0.008153684",
         "9.210913389",
         "24.04119116",
         "1.453447332",
         null,
         null,
         "10.21121022",
         null,
         null,
         null,
         "2.296992316",
         null,
         "5.4e-05",
         null,
         null,
         null,
         null,
         null,
         null,
         "6.273283799",
         "13.56306078",
         "3.75e-06",
         null,
         null,
         null,
         null,
         null,
         null,
         null,
         null,
         null,
         "59.7732337",
         "0.0",
         "246.3037513",
         "0.0",
         "0.0",
         "0.0",
         "0.0",
         "0.0",
         "0.0",
         "0.0",
         "1810.61923",
         "935.4604269",
         "0.0",
         "1550.267699",
         "0.0",
         "89.03523943",
         "0.0",
         "0.0",
         "1273.691659",
         "304.9038598",
         "93.02270027",
         "1902.402119",
         "0.0",
         "102.2377224",
         "0.0",
         "60.493958",
         "235.9468833",
         "0",
         "0.0",
         "0.0",
         "68.4247344",
         "70.0519099",
         "0.0",
         "111.3424408",
         "118.6431452",
         "2259.294285",
         "0.0",
         "74.68734697",
         "104.4717189",
         "0.0",
         "505.3493255",
         "89.52054151",
         "251.0415229",
         "0.0",
         "220.3139899",
         "129.3703364",
         "381.3636818",
         "155.8996328",
         "0.0",
         "0.0",
         "0.0",
         "0.0",
         "0.0",
         "0.0",
         "0.0",
         "0.0",
         "204.1148714",
         "455.4623888",
         "0.0",
         "0.0",
         "0.0",
         "0.0",
         "0.0",
         "104.2140558",
         "0.0",
         "0.0",
         "285.4742861",
         "1179.353011",
         "1334.689512",
         "0.0",
         "282.4171795",
         "0.0",
         "0.0",
         "0.0",
         "183.4280075",
         "0",
         "520.3227443",
         "0.0",
         "0.0",
         "0.0",
         "252.7561712",
         "0.0",
         "0.0",
         "297.6764225",
         "70.66108456",
         "164.6443995",
         "429.4428744",
         "0.0",
         "1414.982269",
         "82.18860274",
         "0.0",
         "191.680825",
         "231.0258708",
         "685.6147124",
         "0.0",
         "1229.174748",
         "804.4926233",
         "429.2541461",
         "475.3190756",
         "0.0",
         "0.0",
         "97.44550102",
         "0.0",
         "0",
         "158.2493033",
         "0.0",
         "0.0",
         "0.0",
         "0.0",
         "0.0",
         "0.0",
         "41.30036454",
         "0.0",
         "0.0",
         "0.0",
         "0.0",
         "2242.015817",
         "0.0",
         "131.9931654",
         "44.52394299",
         "234.9388974",
         "0.0",
         "0.0",
         "0.0",
         "0.0",
         "0.0",
         "0.0",
         "345.2305408",
         "0.0",
         "0.0",
         "0.0",
         "0.0",
         "0.0",
         "165.2387094",
         "0.0",
         "0.0",
         "0.0",
         "0.0",
         "50.30493772",
         "1068.784587",
         "0.0",
         "2312.949992",
         "126.248168",
         "132.651771",
         "92.9604656",
         "0.0",
         "0.0",
         "1441.75566",
         "0.0",
         "83.33794593",
         "0.0",
         "474.0906704",
         "102.1766587",
         "0.0",
         "253.2649213",
         "286.1043301",
         "0.0",
         "360.4992985",
         "717.5148431",
         "0.0",
         "0.0",
         "0.0",
         "40.53721128",
         "0.0",
         "0.0",
         "0.0",
         "0.0",
         "312.9929628",
         "0.0",
         "288.057842",
         "138.9386399",
         "428.05898",
         "0.0",
         "0.0",
         "0.0",
         "0.0",
         "65.47971611",
         "511.6187374",
         "0.0",
         "396.3922533",
         "142.7796219",
         "241.5391631",
         "0.0",
         "0.0",
         "161.3752968",
         "173.2830115",
         "346.1631987",
         "2114.002973",
         "1787.360348",
         "187.5372883",
         "0.0",
         "0.0",
         "100.767475",
         "0.0",
         "76.63869662",
         "0.0",
         "631.7065847",
         "0.0",
         "509.0055454",
         "0.0",
         "0.0",
         "0.0",
         "62.50962537",
         "0.0",
         "0.0",
         "1397.594803",
         "3007.123445",
         "489.350725",
         "0.0",
         "0.0",
         "955.4464181",
         "0.0",
         "0.0",
         "0.0",
         "0.0",
         "232.1885645",
         "278.8138468"
        ],
        [
         "1",
         "1961",
         "548888895.6",
         null,
         "2434727330.0",
         null,
         null,
         null,
         null,
         null,
         null,
         null,
         "19683055213.0",
         "7311749633.0",
         null,
         "190098039.2",
         null,
         "4817580184.0",
         null,
         null,
         "12400145222.0",
         "29964370.71",
         "235668222.4",
         "89249986.7",
         null,
         "406684585.7",
         null,
         "32902336.64",
         "17275940449.0",
         null,
         null,
         null,
         "350247237.1",
         "202999992.0",
         null,
         "642857134.3",
         "652777613.6",
         "40934952064.0",
         null,
         "123134584.5",
         "333975338.8",
         null,
         "4609727273.0",
         "50056868958.0",
         "4540447761.0",
         null,
         "3086746857",
         "151675739.2",
         "490325181.6",
         "618245639.2",
         null,
         null,
         null,
         null,
         null,
         null,
         null,
         null,
         "654100200",
         "1753850417.0",
         null,
         null,
         null,
         null,
         null,
         "43025199.5",
         null,
         null,
         "116987784.9",
         "5921659485.0",
         "67461644222.0",
         null,
         "167637908.5",
         null,
         null,
         null,
         "1302521008",
         null,
         "4961400439.0",
         null,
         null,
         null,
         "1076699900",
         null,
         null,
         "185848451.3",
         "271066000",
         "356200000",
         "1383681651.0",
         null,
         "253885656.3",
         "39232435784.0",
         null,
         "4426949095.0",
         "1831700364.0",
         "2088012282.0",
         null,
         "3138500000.0",
         "44842760293.0",
         "748028839.4",
         "53508617739.0",
         null,
         null,
         "792959472.1",
         null,
         null,
         "2417558289.0",
         null,
         null,
         null,
         null,
         null,
         null,
         "35699286.01",
         null,
         null,
         null,
         null,
         "704145671.4",
         null,
         "699161943.9",
         "174576508.5",
         "1901868548.0",
         null,
         null,
         null,
         null,
         "159213140.0",
         null,
         "14160000000.0",
         null,
         null,
         null,
         null,
         null,
         "2025689537.0",
         null,
         "584351384.5",
         null,
         null,
         "531959561.6",
         "13493833740.0",
         null,
         "5670064168.0",
         "240524723.4",
         "485785234.9",
         "4467200336.0",
         null,
         null,
         "5632460937.0",
         null,
         "4118647627.0",
         null,
         "599026300",
         "244832035.0",
         null,
         "2899654840.0",
         "8171186335.0",
         null,
         "3417516639.0",
         "1865100000.0",
         null,
         null,
         null,
         "122000016.0",
         null,
         null,
         null,
         null,
         "1058975266",
         null,
         "11592011.59",
         "327834680.6",
         "764634783.7",
         null,
         null,
         null,
         null,
         "191659914.4",
         "9225996313.0",
         null,
         "13834300571.0",
         "1444327731",
         "12483229.31",
         null,
         null,
         "13999883.33",
         "1419333333.0",
         "107700000.0",
         "17212686615.0",
         "10712712465.0",
         "945244972.1",
         null,
         null,
         "3034043574.0",
         null,
         "126396469.7",
         null,
         "584961208.7",
         null,
         "7988888889.0",
         null,
         null,
         null,
         "441524109.0",
         null,
         null,
         "77741965703.0",
         "563300000000.0",
         "1547388781",
         null,
         null,
         "8189090909.0",
         null,
         null,
         null,
         null,
         "696285714.3",
         "1096646600",
         "9169406",
         "1659800",
         "11336336",
         "20605",
         "14378",
         "5531451",
         "55005",
         "20817270",
         "1941498",
         "55434",
         "10483000",
         "7086299",
         "4030325",
         "115119",
         "167899",
         "49362834",
         "231718",
         "8271216",
         "9183948",
         "94700",
         "2465865",
         "45500",
         "228849",
         "3728954",
         "3288604",
         "512688",
         "74311338",
         "8164",
         "85560",
         "7943118",
         "4894580",
         "2852438",
         "205321",
         "5872968",
         "5285015",
         "18271000",
         "8024",
         "1526057",
         "3060365",
         "110398",
         "8303804",
         "660330000",
         "16567817",
         "194149",
         "15637700",
         "1043119",
         "1381187",
         "3631547",
         "4167292",
         "7291201",
         "126125",
         "576402",
         "9586651",
         "4611687",
         "88503",
         "61036",
         "3406282",
         "4674176",
         "27366239",
         "2846601",
         "258786",
         "1033320.0",
         "1225077",
         "343346",
         "22671193",
         "35074",
         "407244",
         "4461005",
         "47240526",
         "80705",
         "505793",
         "372436",
         "3703600",
         "73377632",
         "6848291",
         "23808",
         "8398050",
         "33700",
         "91324",
         "68065",
         "4251911",
         "3552068",
         "622754",
         "589274",
         "3941956",
         "2096407",
         "3168100",
         "10029321",
         "179029",
         "459642166",
         "90098396",
         "22480371",
         "7475349",
         "2824400",
         "48286",
         "2185000",
         "50536350",
         "1651067",
         "94055000",
         "973983",
         "10349422",
         "8377693",
         "42234",
         "11665592",
         "25765673",
         "966000",
         "300581.0",
         "2255900",
         "2170340",
         "2152681",
         "1864613",
         "852892",
         "1142304",
         "1498076",
         "16894",
         "2823550",
         "316845",
         "170466",
         "5223561",
         "3747758",
         "8417821",
         "92328",
         "5322269",
         "325250",
         "15056",
         "875586",
         "680757",
         "38966049",
         "45939",
         "2092667",
         "22813",
         "982181",
         "491140",
         "12710587",
         "7342117",
         "22211626",
         "649274",
         "4627",
         "10267260",
         "11638712",
         "81200",
         "2419700",
         "1829772",
         "3486322",
         "46063570",
         "1507647",
         "10243",
         "3609800",
         "564891",
         "46065229",
         "10046",
         "1167120",
         "2297052",
         "1954552",
         "10446618",
         "27161052",
         "29964000",
         "8929316",
         "2399722",
         "51427",
         "18555250",
         "121236000",
         "2998334",
         "112112",
         "15836",
         "64597",
         "4218852",
         "3295280",
         "6655000",
         "42889",
         "2352370",
         "1702400",
         "3077",
         "4191667",
         "1594131",
         "121385",
         "2814125",
         "17524533",
         "2895609",
         "30739250",
         "10111639",
         "51196",
         "90718",
         "3996",
         "82168",
         "7769475",
         "295913",
         "7519998",
         "5434294",
         "4721893",
         "2159134",
         "10346695",
         "28224186",
         "482852",
         "1597523",
         "63721",
         "864814",
         "4238141",
         "28146909",
         "1658364",
         "5867",
         "5330",
         "6983824",
         "43206353",
         "100801",
         "52800000",
         "183691000",
         "2571682",
         "8813619",
         "65700",
         "8439261",
         "33666111",
         "34300",
         null,
         "5393034",
         "3164330",
         "3905038",
         "24444455.56",
         null,
         "1125928865.0",
         null,
         null,
         null,
         null,
         null,
         null,
         null,
         "2437003024.0",
         null,
         null,
         null,
         null,
         "519448521.0",
         null,
         null,
         null,
         null,
         "10801828.34",
         null,
         null,
         "66695604.27",
         null,
         "8954806.212",
         "1109152823.0",
         null,
         null,
         null,
         "19014523.36",
         "26250000.0",
         null,
         "82857142.86",
         null,
         "7215712237.0",
         null,
         "32618432.43",
         "46459419.61",
         null,
         "525717060.8",
         "1937606629.0",
         "589865537.3",
         null,
         null,
         "29515424.45",
         "102289846.3",
         "218194462.1",
         null,
         null,
         null,
         null,
         null,
         null,
         null,
         null,
         "152100000.0",
         "157101028.7",
         null,
         null,
         null,
         null,
         null,
         "18059638.81",
         null,
         null,
         null,
         null,
         "9721651418.0",
         null,
         "52322629.32",
         null,
         null,
         null,
         "340336134.5",
         null,
         "470520074.7",
         null,
         null,
         null,
         "128700000",
         null,
         null,
         "96774193.55",
         null,
         "79500000.0",
         "1149077546.0",
         null,
         null,
         "1688401688.0",
         null,
         "607915176.7",
         null,
         null,
         null,
         null,
         null,
         "249069438.6",
         null,
         null,
         null,
         "259433896.0",
         null,
         null,
         "97683169.97",
         null,
         null,
         null,
         null,
         null,
         null,
         "4479910.402",
         null,
         null,
         null,
         null,
         null,
         null,
         "102110849.3",
         null,
         "921860708.2",
         null,
         null,
         null,
         null,
         "18098328.74",
         null,
         "1191208000.0",
         null,
         null,
         null,
         null,
         null,
         "440667938.0",
         null,
         null,
         null,
         null,
         null,
         null,
         null,
         null,
         "56287344.71",
         "39451761.21",
         "410318073.6",
         null,
         null,
         null,
         null,
         "255984880.3",
         null,
         "282659200",
         "39424005.64",
         null,
         "603360551.0",
         null,
         null,
         null,
         null,
         null,
         null,
         null,
         "14000000.0",
         null,
         null,
         null,
         null,
         "153701752.6",
         null,
         null,
         null,
         "1089017379.0",
         null,
         null,
         null,
         null,
         "30659933.98",
         "2337999066.0",
         null,
         null,
         "397732379.9",
         null,
         null,
         null,
         null,
         "189000000.0",
         null,
         "3497752265.0",
         null,
         "166354553.1",
         null,
         null,
         "525965885.3",
         null,
         "49603527.44",
         null,
         null,
         null,
         "411111111.1",
         null,
         null,
         null,
         "107812369.0",
         null,
         null,
         null,
         null,
         "219799542.8",
         null,
         null,
         "2597212121.0",
         null,
         null,
         null,
         null,
         null,
         null,
         "44444446.67",
         null,
         "1643532762.0",
         null,
         null,
         null,
         null,
         null,
         null,
         null,
         "2952178295.0",
         null,
         null,
         null,
         null,
         "563656831.8",
         null,
         null,
         null,
         null,
         "22470098.07",
         null,
         null,
         "94909764.77",
         null,
         "13991884.71",
         "1118302726.0",
         null,
         null,
         null,
         "55303956.09",
         "29750000.0",
         null,
         "120000000.0",
         null,
         "7480255449.0",
         null,
         "44034883.78",
         "61975055.05",
         null,
         "715645411.3",
         "1746689414.0",
         "627934716.4",
         null,
         null,
         "126893746.7",
         "122861638.4",
         "173748889.0",
         null,
         null,
         null,
         null,
         null,
         null,
         null,
         null,
         "106900000",
         "178045025.4",
         null,
         null,
         null,
         null,
         null,
         "14979700.41",
         null,
         null,
         null,
         null,
         "8273434930.0",
         null,
         "53078875.85",
         null,
         null,
         null,
         "474789916.0",
         null,
         "700605823.6",
         null,
         null,
         null,
         "145300000",
         null,
         null,
         "98465846.12",
         null,
         "78100000",
         "1254129700.0",
         null,
         null,
         "2337302337.0",
         null,
         "702251188.4",
         null,
         null,
         null,
         null,
         null,
         "261794764.1",
         null,
         null,
         null,
         "246847901.1",
         null,
         null,
         "337523799.8",
         null,
         null,
         null,
         null,
         null,
         null,
         "16239675.21",
         null,
         null,
         null,
         null,
         null,
         null,
         "136359934.7",
         null,
         "790866326.9",
         null,
         null,
         null,
         null,
         "29741422.17",
         null,
         "1503120000.0",
         null,
         null,
         null,
         null,
         null,
         "501926687.1",
         null,
         null,
         null,
         null,
         null,
         null,
         null,
         null,
         "59056821.33",
         "47147122.59",
         "728148397.0",
         null,
         null,
         null,
         null,
         "577278454.4",
         null,
         "321486400",
         "68880009.86",
         null,
         "643728455.5",
         null,
         null,
         null,
         null,
         null,
         null,
         null,
         "12000000.0",
         null,
         null,
         null,
         null,
         "174678732.0",
         null,
         null,
         null,
         "1200313603.0",
         null,
         null,
         null,
         null,
         "44239946.46",
         "1698199321.0",
         null,
         null,
         "411422958.1",
         null,
         null,
         null,
         null,
         "203666666.7",
         null,
         "3435935929.0",
         null,
         "211572011.2",
         null,
         null,
         "519127759.0",
         null,
         "38204515.94",
         null,
         null,
         null,
         "544444444.4",
         null,
         null,
         null,
         "95562893.08",
         null,
         null,
         null,
         null,
         "228591524.5",
         null,
         null,
         "1387242424.0",
         null,
         null,
         null,
         null,
         null,
         null,
         null,
         null,
         null,
         null,
         null,
         null,
         null,
         null,
         null,
         null,
         "8.142559834",
         "18.45554148",
         null,
         null,
         null,
         null,
         null,
         null,
         "15.75089984",
         null,
         null,
         null,
         null,
         "2.41e-05",
         null,
         null,
         null,
         null,
         null,
         null,
         "12.70191821",
         null,
         null,
         null,
         null,
         "13.48025186",
         null,
         null,
         null,
         null,
         null,
         null,
         "0.062365816",
         null,
         null,
         null,
         "0.255235888",
         "6.2045788",
         null,
         null,
         null,
         "13.8558173",
         null,
         "8.530313115",
         null,
         null,
         "0.436852025",
         "0.012227641",
         "1.217104477",
         "1.876058077",
         null,
         null,
         null,
         null,
         null,
         null,
         null,
         "8.274470178",
         "10.68404776",
         null,
         null,
         "2.2768878",
         null,
         "25.2113753",
         null,
         null,
         "1.144938021",
         null,
         null,
         null,
         "1.745546496",
         null,
         null,
         null,
         "0.885210976",
         "1.586343139",
         null,
         null,
         "0.043485572",
         "2.57033297",
         "0.000315704",
         "0.145907171",
         "59.60099304",
         "5.213135273",
         null,
         "0.000948931",
         "4.23289517",
         "0.120693937",
         "19.9911037",
         null,
         null,
         "0.759456674",
         null,
         null,
         "1.597999849",
         null,
         null,
         null,
         null,
         null,
         null,
         null,
         null,
         null,
         null,
         null,
         "17.17150059",
         null,
         null,
         null,
         "21.27079776",
         null,
         null,
         "21.42566855",
         null,
         null,
         null,
         "0.013112151",
         null,
         null,
         null,
         null,
         null,
         "10.11811013",
         null,
         "0.155210476",
         null,
         null,
         null,
         "17.06333991",
         null,
         "5.081909161",
         null,
         null,
         "0.070024603",
         null,
         null,
         "9.22239743",
         null,
         "2.106055342",
         null,
         "25.86476108",
         null,
         "0.486897163",
         "4.32e-08",
         "1.146971086",
         null,
         "1.201131768",
         null,
         null,
         null,
         null,
         null,
         "3.628394884",
         null,
         null,
         null,
         null,
         null,
         null,
         null,
         "27.62925163",
         null,
         null,
         null,
         null,
         null,
         "1.809723354",
         null,
         "2.881952325",
         "1.504545801",
         null,
         null,
         null,
         null,
         "0.001115613",
         "0.008293064",
         "9.409682423",
         "24.4848468",
         "1.481918779",
         null,
         null,
         "10.96551131",
         null,
         null,
         null,
         "2.331969943",
         null,
         "5.57e-05",
         null,
         null,
         null,
         null,
         null,
         null,
         "6.489555021",
         "13.70828375",
         "4.6e-06",
         null,
         null,
         null,
         null,
         null,
         null,
         null,
         null,
         null,
         "59.86089999",
         "0.0",
         "214.7719801",
         "0.0",
         "0.0",
         "0.0",
         "0.0",
         "0.0",
         "0.0",
         "0.0",
         "1877.616638",
         "1031.815004",
         "0.0",
         "1651.317673",
         "0.0",
         "97.5952917",
         "0.0",
         "0.0",
         "1350.197673",
         "316.4136295",
         "95.57223223",
         "1961.538169",
         "0.0",
         "109.061304",
         "0.0",
         "64.17613957",
         "232.4805462",
         "0",
         "0.0",
         "0.0",
         "71.55818009",
         "71.16718821",
         "0.0",
         "109.4603502",
         "123.5148081",
         "2240.433039",
         "0.0",
         "80.68806373",
         "109.1292505",
         "0.0",
         "555.1344026",
         "75.80583793",
         "274.0522642",
         "0.0",
         "197.3913592",
         "145.4059788",
         "355.0027488",
         "170.2430505",
         "0.0",
         "0.0",
         "0.0",
         "0.0",
         "0.0",
         "0.0",
         "0.0",
         "0.0",
         "192.0276125",
         "375.2213046",
         "0.0",
         "0.0",
         "0.0",
         "0.0",
         "0.0",
         "125.3114919",
         "0.0",
         "0.0",
         "287.2670559",
         "1327.427224",
         "1428.046001",
         "0.0",
         "331.4358018",
         "0.0",
         "0.0",
         "0.0",
         "190.1965043",
         "0",
         "590.7800548",
         "0.0",
         "0.0",
         "0.0",
         "253.22729",
         "0.0",
         "0.0",
         "315.3854595",
         "68.76433933",
         "169.9097551",
         "436.7544115",
         "0.0",
         "1418.12587",
         "85.35430099",
         "0.0",
         "196.9250906",
         "245.0320867",
         "739.2764064",
         "0.0",
         "1436.384439",
         "887.3367446",
         "453.0578344",
         "568.9077427",
         "0.0",
         "0.0",
         "94.65129268",
         "0.0",
         "0",
         "93.82864905",
         "0.0",
         "0.0",
         "0.0",
         "0.0",
         "0.0",
         "0.0",
         "41.85674859",
         "0.0",
         "0.0",
         "0.0",
         "0.0",
         "2222.366366",
         "0.0",
         "133.8477609",
         "46.58158517",
         "225.9335935",
         "0.0",
         "0.0",
         "0.0",
         "0.0",
         "181.8360961",
         "0.0",
         "363.3932709",
         "0.0",
         "0.0",
         "0.0",
         "0.0",
         "0.0",
         "159.3702586",
         "0.0",
         "26.30835691",
         "0.0",
         "0.0",
         "51.81124873",
         "1159.392357",
         "0.0",
         "2343.292213",
         "131.4506526",
         "139.3403234",
         "96.97902998",
         "0.0",
         "0.0",
         "1560.324931",
         "0.0",
         "89.40903403",
         "0.0",
         "513.2516793",
         "106.5853255",
         "0.0",
         "277.5687634",
         "300.8420416",
         "0.0",
         "382.729947",
         "777.2150274",
         "0.0",
         "0.0",
         "0.0",
         "40.68926811",
         "0.0",
         "0.0",
         "0.0",
         "0.0",
         "321.3612396",
         "0.0",
         "270.2793628",
         "139.3635697",
         "449.1510713",
         "0.0",
         "0.0",
         "0.0",
         "0.0",
         "68.10639697",
         "526.4617501",
         "0.0",
         "450.0532892",
         "142.8381424",
         "243.8321218",
         "0.0",
         "0.0",
         "170.3812109",
         "182.680726",
         "363.9583256",
         "2288.921701",
         "1971.316323",
         "200.1834798",
         "0.0",
         "0.0",
         "107.498001",
         "0.0",
         "79.12028165",
         "0.0",
         "676.4011784",
         "0.0",
         "283.8282843",
         "0.0",
         "0.0",
         "0.0",
         "63.22096734",
         "0.0",
         "0.0",
         "1472.385714",
         "3066.562869",
         "601.7030027",
         "0.0",
         "0.0",
         "970.3563984",
         "0.0",
         "0.0",
         "0.0",
         "0.0",
         "220.0420671",
         "280.8286629"
        ],
        [
         "2",
         "1962",
         "546666677.8",
         null,
         "2001428328.0",
         null,
         null,
         null,
         null,
         "24450604877.0",
         null,
         null,
         "19922723709.0",
         "7756110210.0",
         null,
         "212254902.0",
         null,
         "5081413340.0",
         null,
         null,
         "13264015675.0",
         "31856922.86",
         "236434906.8",
         "94149985.97",
         null,
         "444665186.4",
         null,
         "35643207.63",
         "19231747852.0",
         null,
         null,
         null,
         "379567023.3",
         "213500006.0",
         null,
         "660000008.6",
         "694247725.5",
         "42227447632.0",
         null,
         "124482748.9",
         "357635713.9",
         null,
         "5416272727.0",
         "47209359006.0",
         "4955543963.0",
         null,
         "3779841429",
         "166521239.9",
         "479180824.3",
         "645284344.7",
         null,
         null,
         null,
         null,
         null,
         null,
         null,
         null,
         "824100000",
         "1518208221.0",
         null,
         null,
         "9122751.453",
         null,
         null,
         "45927061.46",
         null,
         null,
         "122906435.0",
         "6340580854.0",
         "75607529810.0",
         null,
         "182796536.5",
         null,
         null,
         null,
         "1382352941",
         null,
         "5213047711.0",
         null,
         null,
         null,
         "1143600000",
         null,
         null,
         "194948375.4",
         "281896800",
         "387750000",
         "1612346412.0",
         null,
         "284916516.2",
         "42161481858.0",
         null,
         "4693566416.0",
         "1954634836.0",
         "2260349684.0",
         null,
         "2510000000.0",
         "50383891899.0",
         "777712445.8",
         "60723018684.0",
         null,
         null,
         "868111400.0",
         null,
         null,
         "2814318517.0",
         null,
         null,
         null,
         null,
         null,
         null,
         "41859162.82",
         null,
         null,
         null,
         null,
         "741509480.8",
         null,
         "739286906.9",
         "183116337.7",
         "2001502679.0",
         null,
         null,
         null,
         null,
         "164271590.8",
         null,
         "15200000000.0",
         null,
         null,
         null,
         null,
         null,
         "2379606422.0",
         null,
         "612517344.8",
         null,
         null,
         "574091101.2",
         "14647057370.0",
         null,
         "6077496268.0",
         "265291588.7",
         "531736492.9",
         "4909302954.0",
         null,
         null,
         "6066976683.0",
         null,
         "4310163797.0",
         null,
         "652120900",
         "261184037.4",
         null,
         "3286773188.0",
         "4954529277.0",
         null,
         "3668222358.0",
         "2094400000.0",
         null,
         null,
         null,
         "125000008.0",
         null,
         null,
         null,
         null,
         "1085475574",
         null,
         "12642026.57",
         "342721579.8",
         "826244610.0",
         null,
         null,
         null,
         null,
         "203531927.5",
         "9813996079.0",
         null,
         "16138545209.0",
         "1434156379",
         "12541562.15",
         null,
         null,
         "14524878.96",
         "1541666667.0",
         "116150000.0",
         "18667251380.0",
         "11879982759.0",
         "1110565881.0",
         null,
         null,
         "3308912797.0",
         null,
         "132237441.6",
         null,
         "619319197.3",
         null,
         "8922222222.0",
         null,
         null,
         null,
         "449012578.6",
         null,
         null,
         "81247564157.0",
         "605100000000.0",
         "1710004407",
         null,
         null,
         "8946969697.0",
         null,
         null,
         null,
         null,
         "693142857.1",
         "1117601600",
         "9351442",
         "1711319",
         "11619828",
         "21246",
         "15379",
         "5608499",
         "55849",
         "21153042",
         "2009524",
         "56234",
         "10742000",
         "7129864",
         "4171428",
         "121092",
         "173140",
         "50752150",
         "232623",
         "8351928",
         "9220578",
         "97392",
         "2502897",
         "46600",
         "234552",
         "3802996",
         "3353228",
         "523777",
         "76514329",
         "8319",
         "89484",
         "8012946",
         "4960328",
         "2907320",
         "210141",
         "6028434",
         "5398730",
         "18614000",
         "8141",
         "1551908",
         "3121226",
         "111464",
         "8476895",
         "665770000",
         "17092919",
         "197202",
         "16041187",
         "1069236",
         "1433346",
         "3770756",
         "4196712",
         "7453535",
         "128414",
         "577696",
         "9624660",
         "4647727",
         "94203",
         "61978",
         "3521018",
         "4809194",
         "28112258",
         "2931187",
         "262219",
         "1060489.0",
         "1241623",
         "350155",
         "23221385",
         "35521",
         "421673",
         "4491443",
         "47904879",
         "83652",
         "511285",
         "379886",
         "3760300",
         "74025784",
         "7071966",
         "24307",
         "8448233",
         "35000",
         "92481",
         "69605",
         "4378604",
         "3611428",
         "628877",
         "606286",
         "4019171",
         "2155648",
         "3305200",
         "10061734",
         "182378",
         "469077191",
         "92518373",
         "23071309",
         "7674217",
         "2836050",
         "48421",
         "2293000",
         "50879450",
         "1676500",
         "94933000",
         "1010647",
         "10756931",
         "8647002",
         "43283",
         "11871726",
         "26513030",
         "994000",
         "337346.0",
         "2333400",
         "2221123",
         "2181586",
         "1925295",
         "869132",
         "1166651",
         "1550815",
         "17300",
         "2863350",
         "320750",
         "176188",
         "5352497",
         "3839047",
         "8692337",
         "94902",
         "5381367",
         "323900",
         "15547",
         "901690",
         "700349",
         "40195318",
         "47372",
         "2140063",
         "23043",
         "1011327",
         "502558",
         "13094890",
         "7507309",
         "22697664",
         "665119",
         "4942",
         "10433147",
         "11805689",
         "83400",
         "2482000",
         "1887426",
         "3588228",
         "47029818",
         "1527109",
         "10438",
         "3638918",
         "578827",
         "47198886",
         "10329",
         "1202447",
         "2340349",
         "2006675",
         "10749463",
         "28077345",
         "30308500",
         "8993985",
         "2450322",
         "56266",
         "18676550",
         "122591000",
         "3052937",
         "115768",
         "16255",
         "64478",
         "4362788",
         "3386803",
         "6696000",
         "44042",
         "2388759",
         "1750200",
         "3367",
         "4238188",
         "1603649",
         "125040",
         "2874215",
         "17965733",
         "2951041",
         "31023366",
         "10352180",
         "50961",
         "91892",
         "4078",
         "83239",
         "8004122",
         "303894",
         "7561588",
         "5573815",
         "4875429",
         "2236564",
         "10651954",
         "29080945",
         "491575",
         "1612761",
         "66233",
         "879436",
         "4305477",
         "28832831",
         "1715408",
         "5884",
         "5340",
         "7215799",
         "43752227",
         "112112",
         "53250000",
         "186538000",
         "2603883",
         "9113629",
         "67793",
         "8742780",
         "34683410",
         "35000",
         null,
         "5473671",
         "3260645",
         "4039209",
         "26666680.0",
         null,
         "396160175.0",
         null,
         null,
         null,
         null,
         "1147183934.0",
         null,
         null,
         "2772986897.0",
         null,
         null,
         null,
         null,
         "546086853.3",
         null,
         null,
         null,
         null,
         "8317361.995",
         null,
         null,
         "67363395.05",
         null,
         "9953736.156",
         "770900519.7",
         null,
         null,
         null,
         "20997585.85",
         "28000000.0",
         null,
         "91428571.43",
         null,
         "7439414166.0",
         null,
         "30610513.53",
         "50177660.43",
         null,
         "614812442.9",
         "1913234219.0",
         "605741204.4",
         null,
         null,
         "50771655.42",
         "108885580.7",
         "221930221.9",
         null,
         null,
         null,
         null,
         null,
         null,
         null,
         null,
         "196700000.0",
         "155487287.0",
         null,
         null,
         null,
         null,
         null,
         "21979560.41",
         null,
         null,
         null,
         null,
         "9960806435.0",
         null,
         "57972564.24",
         null,
         null,
         null,
         "334733893.6",
         null,
         "435291069.5",
         null,
         null,
         null,
         "134800000",
         null,
         null,
         "110424079.8",
         null,
         "87200000.0",
         "1263224322.0",
         null,
         null,
         "1757701758.0",
         null,
         "680443017.7",
         null,
         null,
         null,
         null,
         null,
         "256772644.5",
         null,
         null,
         null,
         "278123874.5",
         null,
         null,
         "109000419.2",
         null,
         null,
         null,
         null,
         null,
         null,
         "6019879.602",
         null,
         null,
         null,
         null,
         null,
         null,
         "101689130.7",
         null,
         "921534038.9",
         null,
         null,
         null,
         null,
         "18926393.57",
         null,
         "1302504000.0",
         null,
         null,
         null,
         null,
         null,
         "428811402.0",
         null,
         null,
         null,
         null,
         null,
         null,
         null,
         null,
         "70120699.33",
         "49364155.67",
         "405957160.9",
         null,
         null,
         null,
         null,
         "288744225.1",
         null,
         "346803300",
         "42336006.06",
         null,
         "656247003.6",
         null,
         null,
         null,
         null,
         null,
         null,
         null,
         "11600000.0",
         null,
         null,
         null,
         null,
         "151058815.9",
         null,
         null,
         null,
         "1141219130.0",
         null,
         null,
         null,
         null,
         "26039938.06",
         "2498999001.0",
         null,
         null,
         "398590401.8",
         null,
         null,
         null,
         null,
         "225333333.3",
         null,
         "3718924259.0",
         null,
         "232483197.8",
         null,
         null,
         "519061302.7",
         null,
         "46343063.39",
         null,
         null,
         null,
         "500000000.0",
         null,
         null,
         null,
         "108245283.0",
         null,
         null,
         null,
         null,
         "193918025.6",
         null,
         null,
         "2923454545.0",
         null,
         null,
         null,
         null,
         null,
         null,
         "51111111.11",
         null,
         "416670292.3",
         null,
         null,
         null,
         null,
         "2294367226.0",
         null,
         null,
         "2512039422.0",
         null,
         null,
         null,
         null,
         "549204082.3",
         null,
         null,
         null,
         null,
         "23547272.22",
         null,
         null,
         "113858328.2",
         null,
         "15982055.24",
         "1033970196.0",
         null,
         null,
         null,
         "59614662.68",
         "35000000.0",
         null,
         "151428562.9",
         null,
         "7594733340.0",
         null,
         "46936105.26",
         "70200150.53",
         null,
         "693171652.5",
         "1372979121.0",
         "605929809.3",
         null,
         null,
         "104827975.3",
         "124825190.6",
         "166140901.8",
         null,
         null,
         null,
         null,
         null,
         null,
         null,
         null,
         "199300000",
         "163881310.7",
         null,
         null,
         null,
         null,
         null,
         "20999580.01",
         null,
         null,
         null,
         null,
         "9042716900.0",
         null,
         "56243568.93",
         null,
         null,
         null,
         "393557423.0",
         null,
         "769366899.1",
         null,
         null,
         null,
         "153500000",
         null,
         null,
         "87499270.84",
         null,
         "85600000",
         "1397230781.0",
         null,
         null,
         "2543102543.0",
         null,
         "642016253.8",
         null,
         null,
         null,
         null,
         null,
         "271594568.1",
         null,
         null,
         null,
         "261519895.2",
         null,
         null,
         "438924765.1",
         null,
         null,
         null,
         null,
         null,
         null,
         "20019599.61",
         null,
         null,
         null,
         null,
         null,
         null,
         "135907021.5",
         null,
         "863386907.1",
         null,
         null,
         null,
         null,
         "35270349.64",
         null,
         "1536528000.0",
         null,
         null,
         null,
         null,
         null,
         "501926687.1",
         null,
         null,
         null,
         null,
         null,
         null,
         null,
         null,
         "76678615.24",
         "68848135.96",
         "665719165.6",
         null,
         null,
         null,
         null,
         "620327593.4",
         null,
         "372814600",
         "72912010.43",
         null,
         "721773033.7",
         null,
         null,
         null,
         null,
         null,
         null,
         null,
         "16000000.0",
         null,
         null,
         null,
         null,
         "173017545.5",
         null,
         null,
         null,
         "1227165817.0",
         null,
         null,
         null,
         null,
         "55999932.8",
         "1755599298.0",
         null,
         null,
         "418792243.7",
         null,
         null,
         null,
         null,
         "232000000.0",
         null,
         "3674889647.0",
         null,
         "239475799.5",
         null,
         null,
         "584003831.4",
         null,
         "40229565.75",
         null,
         null,
         null,
         "711111111.1",
         null,
         null,
         null,
         "96302935.01",
         null,
         null,
         null,
         null,
         "246804759.8",
         null,
         null,
         "1512393939.0",
         null,
         null,
         null,
         null,
         null,
         null,
         null,
         null,
         null,
         null,
         null,
         null,
         null,
         null,
         null,
         null,
         "8.116545265",
         "19.26422615",
         null,
         null,
         null,
         null,
         null,
         null,
         "15.97213809",
         null,
         null,
         null,
         null,
         "2.55e-05",
         null,
         null,
         null,
         null,
         null,
         null,
         "12.91479087",
         null,
         null,
         null,
         null,
         "13.62335432",
         null,
         null,
         null,
         null,
         null,
         null,
         "0.065295197",
         null,
         null,
         null,
         "0.262070747",
         "6.121359955",
         null,
         null,
         null,
         "13.87011639",
         null,
         "9.159664223",
         null,
         null,
         "0.476855124",
         "0.012578683",
         "1.180553898",
         "1.877861979",
         null,
         null,
         null,
         null,
         null,
         null,
         null,
         "8.637221526",
         "11.25364427",
         null,
         "9.317640118",
         "2.317589853",
         null,
         "25.92820531",
         null,
         null,
         "1.139494662",
         null,
         null,
         null,
         "1.781374714",
         null,
         null,
         null,
         "0.880298902",
         "1.603668389",
         null,
         null,
         "0.04827607",
         "2.663692989",
         "0.000730532",
         "0.146959629",
         "60.37125372",
         "5.435409136",
         null,
         "0.001038208",
         "4.431466362",
         "0.122392712",
         "21.35758367",
         null,
         null,
         "0.783132781",
         null,
         null,
         "1.703760449",
         null,
         null,
         null,
         null,
         null,
         null,
         null,
         null,
         null,
         null,
         null,
         "17.32534808",
         null,
         null,
         null,
         "21.29386387",
         null,
         null,
         "21.46180823",
         null,
         null,
         null,
         "0.013269364",
         null,
         null,
         null,
         null,
         null,
         "10.63380279",
         null,
         "0.152707081",
         null,
         null,
         null,
         "17.47817064",
         null,
         "5.218147725",
         null,
         null,
         "0.073711841",
         null,
         null,
         "9.708810605",
         null,
         "2.095178361",
         null,
         "26.06857592",
         null,
         "0.493803506",
         "4.61e-08",
         "1.213457011",
         null,
         "1.233106666",
         null,
         null,
         null,
         null,
         null,
         "3.724723952",
         null,
         null,
         null,
         null,
         null,
         null,
         null,
         "27.74517856",
         null,
         null,
         null,
         null,
         null,
         "1.832277672",
         null,
         "3.046410277",
         "1.52716785",
         null,
         null,
         null,
         null,
         "0.001134164",
         "0.008467288",
         "9.858166445",
         "25.54161104",
         "1.424921903",
         null,
         null,
         "11.37080742",
         null,
         null,
         null,
         "2.401540828",
         null,
         "5.78e-05",
         null,
         null,
         null,
         null,
         null,
         null,
         "6.761889125",
         "13.872615",
         "5.11e-06",
         null,
         null,
         null,
         null,
         null,
         null,
         null,
         null,
         null,
         "58.4580087",
         "0.0",
         "172.242509",
         "0.0",
         "0.0",
         "0.0",
         "0.0",
         "1155.890717",
         "0.0",
         "0.0",
         "1854.656834",
         "1087.834243",
         "0.0",
         "1752.840006",
         "0.0",
         "100.1221296",
         "0.0",
         "0.0",
         "1438.523233",
         "327.0999965",
         "94.46449724",
         "2020.385965",
         "0.0",
         "116.9249682",
         "0.0",
         "68.05034896",
         "251.3483174",
         "0",
         "0.0",
         "0.0",
         "76.52054931",
         "73.43533082",
         "0.0",
         "109.4811702",
         "128.5946372",
         "2268.585346",
         "0.0",
         "80.21271167",
         "114.5818066",
         "0.0",
         "638.94536",
         "70.90941167",
         "289.9179458",
         "0.0",
         "235.6335244",
         "155.7385272",
         "334.3092487",
         "171.1286396",
         "0.0",
         "0.0",
         "0.0",
         "0.0",
         "0.0",
         "0.0",
         "0.0",
         "0.0",
         "234.0516294",
         "315.688704",
         "0.0",
         "0.0",
         "34.79058136",
         "0.0",
         "0.0",
         "131.1620895",
         "0.0",
         "0.0",
         "291.4733335",
         "1411.702398",
         "1578.284538",
         "0.0",
         "357.5237617",
         "0.0",
         "0.0",
         "0.0",
         "195.4693986",
         "0",
         "617.0577577",
         "0.0",
         "0.0",
         "0.0",
         "261.1791338",
         "0.0",
         "0.0",
         "321.5452368",
         "70.13804588",
         "179.8763063",
         "487.8211341",
         "0.0",
         "1562.23073",
         "89.88175649",
         "0.0",
         "203.4373696",
         "254.7015332",
         "797.0062884",
         "0.0",
         "1094.635848",
         "990.2601522",
         "463.8905134",
         "639.6407854",
         "0.0",
         "0.0",
         "100.3944951",
         "0.0",
         "0",
         "106.1485057",
         "0.0",
         "0.0",
         "0.0",
         "0.0",
         "0.0",
         "0.0",
         "48.16203156",
         "0.0",
         "0.0",
         "0.0",
         "0.0",
         "2311.798849",
         "0.0",
         "138.120004",
         "47.69838391",
         "230.2605937",
         "0.0",
         "0.0",
         "0.0",
         "0.0",
         "182.1818927",
         "0.0",
         "378.1534954",
         "0.0",
         "0.0",
         "0.0",
         "0.0",
         "0.0",
         "181.72023",
         "0.0",
         "26.98591999",
         "0.0",
         "0.0",
         "55.02568891",
         "1240.677894",
         "0.0",
         "2448.628633",
         "140.5573456",
         "148.1891599",
         "104.3870285",
         "0.0",
         "0.0",
         "1667.24743",
         "0.0",
         "91.31918488",
         "0.0",
         "542.3281858",
         "111.6004653",
         "0.0",
         "305.7616169",
         "176.4600348",
         "0.0",
         "407.8528436",
         "854.744805",
         "0.0",
         "0.0",
         "0.0",
         "40.94418195",
         "0.0",
         "0.0",
         "0.0",
         "0.0",
         "320.5015389",
         "0.0",
         "287.0447884",
         "143.4726483",
         "472.0858245",
         "0.0",
         "0.0",
         "0.0",
         "0.0",
         "70.81304897",
         "546.2619353",
         "0.0",
         "520.2061314",
         "138.536654",
         "246.1011784",
         "0.0",
         "0.0",
         "174.4960771",
         "192.6090915",
         "382.2056375",
         "2468.694589",
         "2131.391652",
         "227.7883404",
         "0.0",
         "0.0",
         "113.7828498",
         "0.0",
         "81.99444408",
         "0.0",
         "704.2231582",
         "0.0",
         "309.4466243",
         "0.0",
         "0.0",
         "0.0",
         "62.22631459",
         "0.0",
         "0.0",
         "1525.775853",
         "3243.843078",
         "656.7132268",
         "0.0",
         "0.0",
         "1023.355237",
         "0.0",
         "0.0",
         "0.0",
         "0.0",
         "212.5784491",
         "276.6882328"
        ],
        [
         "3",
         "1963",
         "751111191.1",
         null,
         "2702960118.0",
         null,
         null,
         null,
         null,
         "18272123664.0",
         null,
         null,
         "21539926084.0",
         "8374175258.0",
         null,
         "237745098.0",
         null,
         "5319458351.0",
         null,
         null,
         "14260017387.0",
         "33749405.01",
         "253927646.5",
         "96366652.3",
         null,
         "478805990.1",
         null,
         "38091150.57",
         "23287712878.0",
         null,
         null,
         null,
         "394040588.3",
         "232749998.0",
         null,
         "728571437.1",
         "718320701.4",
         "45029988561.0",
         null,
         "129379097.9",
         "371767002.7",
         null,
         "5668187500.0",
         "50706799903.0",
         "4836166667.0",
         null,
         "6213185743",
         "172233430.9",
         "511902136.8",
         "761047045.8",
         null,
         null,
         null,
         null,
         null,
         null,
         null,
         null,
         "940799900",
         "1824344492.0",
         null,
         null,
         "10840095.13",
         null,
         null,
         "54128377.43",
         null,
         null,
         "129454728.6",
         "6885920329.0",
         "84759195106.0",
         null,
         "154480244.2",
         null,
         null,
         null,
         "1540616246",
         null,
         "5895278024.0",
         null,
         null,
         null,
         "1262800000",
         null,
         null,
         "175756868.7",
         "294883400",
         "410200000",
         "1935298266.0",
         null,
         "340061650.1",
         "48421923459.0",
         null,
         "4928628018.0",
         "1978437693.0",
         "2430843768.0",
         null,
         "2992333333.0",
         "57710743060.0",
         "826690466.2",
         "69498131797.0",
         null,
         null,
         "926589348.6",
         null,
         null,
         "3988784572.0",
         null,
         null,
         null,
         null,
         null,
         null,
         "47039059.22",
         null,
         null,
         null,
         null,
         "791140595.8",
         null,
         "759345863.0",
         "190816183.7",
         "2510126748.0",
         null,
         null,
         null,
         null,
         "168186331.3",
         null,
         "16960000000.0",
         null,
         null,
         null,
         null,
         null,
         "2657247327.0",
         null,
         "659976659.6",
         null,
         null,
         "496947904.4",
         "15891241386.0",
         null,
         "6638937283.0",
         "292916241.1",
         "586294761.5",
         "5165489010.0",
         null,
         null,
         "6510239503.0",
         null,
         "4630827383.0",
         null,
         "722784500",
         "275968039.5",
         null,
         "3600957771.0",
         "5505055618.0",
         null,
         "3905734460.0",
         "2333600000.0",
         null,
         null,
         null,
         "128000000.0",
         null,
         null,
         null,
         null,
         "1122139637",
         null,
         "13923029.26",
         "348546952.1",
         "917614007.6",
         null,
         null,
         null,
         null,
         "216145935.9",
         "10854195663.0",
         null,
         "19074913948.0",
         "1240672269",
         "12833226.39",
         null,
         null,
         "13708219.1",
         "1568333333.0",
         "125950000.0",
         "20204870630.0",
         "13063643796.0",
         "1200447408.0",
         null,
         null,
         "3540403457.0",
         null,
         "143255784.5",
         null,
         "678235373.0",
         null,
         "10355555556.0",
         null,
         null,
         null,
         "516147798.7",
         null,
         null,
         "86561961812.0",
         "638600000000.0",
         "1539681491",
         null,
         null,
         "9753333333.0",
         null,
         null,
         null,
         null,
         "718714285.7",
         "1159511700",
         "9543200",
         "1762621",
         "11912800",
         "22029",
         "16407",
         "5679409",
         "56701",
         "21488916",
         "2077584",
         "56699",
         "10950000",
         "7175811",
         "4315127",
         "127340",
         "178142",
         "52202008",
         "233632",
         "8437232",
         "9289770",
         "100165",
         "2542864",
         "47700",
         "240529",
         "3879191",
         "3417573",
         "535692",
         "78772647",
         "8469",
         "93540",
         "8078145",
         "5027811",
         "2964416",
         "216087",
         "6183586",
         "5518104",
         "18964000",
         "8219",
         "1579375",
         "3183576",
         "112591",
         "8650390",
         "682335000",
         "17629978",
         "200371",
         "16461828",
         "1096638",
         "1486555",
         "3918630",
         "4225675",
         "7623300",
         "130860",
         "577918",
         "9670685",
         "4684483",
         "100618",
         "62917",
         "3638110",
         "4948991",
         "28871383",
         "3019224",
         "266005",
         "1088859.0",
         "1258857",
         "357279",
         "23798418",
         "35965",
         "436303",
         "4523309",
         "48582624",
         "86847",
         "517573",
         "387635",
         "3816100",
         "74714353",
         "7300124",
         "24889",
         "8479625",
         "36400",
         "93409",
         "71289",
         "4508444",
         "3672560",
         "635008",
         "622580",
         "4097755",
         "2216712",
         "3420900",
         "10087947",
         "185653",
         "478825602",
         "95015295",
         "23680246",
         "7888910",
         "2852650",
         "48800",
         "2379000",
         "51252000",
         "1703660",
         "95900000",
         "1050212",
         "11147860",
         "8928510",
         "44342",
         "12065468",
         "27261747",
         "1022000",
         "378756.0",
         "2413700",
         "2273352",
         "2210919",
         "1984999",
         "886061",
         "1191796",
         "1607168",
         "17724",
         "2898950",
         "324100",
         "184245",
         "5486319",
         "3933914",
         "8973791",
         "97540",
         "5441618",
         "322550",
         "16111",
         "928742",
         "718861",
         "41462373",
         "48856",
         "2185050",
         "23165",
         "1042387",
         "513409",
         "13478425",
         "7679465",
         "23198238",
         "681633",
         "5270",
         "10604620",
         "11965966",
         "85700",
         "2531800",
         "1946240",
         "3693985",
         "48032932",
         "1547449",
         "10591",
         "3666537",
         "593498",
         "48387293",
         "10566",
         "1238893",
         "2385943",
         "2060340",
         "11062295",
         "29012630",
         "30712000",
         "9030355",
         "2504530",
         "61721",
         "18797850",
         "123960000",
         "3105417",
         "119552",
         "16669",
         "64237",
         "4516540",
         "3481654",
         "6732000",
         "45176",
         "2426864",
         "1795000",
         "3703",
         "4282017",
         "1616971",
         "128838",
         "2936478",
         "18423157",
         "3009061",
         "31296651",
         "10597516",
         "50529",
         "93214",
         "4179",
         "84200",
         "8248818",
         "311945",
         "7604328",
         "5694247",
         "5034639",
         "2318252",
         "10968196",
         "29966873",
         "500652",
         "1631758",
         "68975",
         "891948",
         "4380074",
         "29531362",
         "1773854",
         "5870",
         "5341",
         "7461636",
         "44288607",
         "125130",
         "53650000",
         "189242000",
         "2635125",
         "9428906",
         "69944",
         "9052632",
         "35721213",
         "39800",
         null,
         "5556767",
         "3360099",
         "4178726",
         "68888922.22",
         null,
         "667217111.3",
         null,
         null,
         null,
         null,
         "1441753550.0",
         null,
         null,
         "2796505768.0",
         null,
         null,
         null,
         null,
         "531067333.1",
         null,
         null,
         null,
         null,
         "9703490.052",
         null,
         null,
         "81303527.6",
         null,
         "11044317.07",
         "2080325262.0",
         null,
         null,
         null,
         "21985463.42",
         "17500000.0",
         null,
         "125714285.7",
         null,
         "8094515611.0",
         null,
         "32650875.61",
         "48137413.96",
         null,
         "697065976.8",
         "2031034203.0",
         "579510844.4",
         null,
         null,
         "62818525.2",
         "113065968.9",
         "258264752.5",
         null,
         null,
         null,
         null,
         null,
         null,
         null,
         null,
         "195000000.0",
         "168447595.4",
         null,
         null,
         null,
         null,
         null,
         "32059358.81",
         null,
         null,
         null,
         null,
         "10957285670.0",
         null,
         "72764821.81",
         null,
         null,
         null,
         "326330532.2",
         null,
         "534783250.4",
         null,
         null,
         null,
         "180400000",
         null,
         null,
         "110599078.3",
         null,
         "90600000.0",
         "1414306396.0",
         null,
         null,
         "2072702073.0",
         null,
         "755608234.8",
         null,
         null,
         null,
         null,
         null,
         "282449951.0",
         null,
         null,
         null,
         "296813881.0",
         null,
         null,
         "157385220.7",
         null,
         null,
         null,
         null,
         null,
         null,
         "6999860.003",
         null,
         null,
         null,
         null,
         null,
         null,
         "97047803.66",
         null,
         "1147589181.0",
         null,
         null,
         null,
         null,
         "33594349.06",
         null,
         "1411096000.0",
         null,
         null,
         null,
         null,
         null,
         "476237545.7",
         null,
         null,
         null,
         null,
         null,
         null,
         null,
         null,
         "84431029.52",
         "54590784.54",
         "453486910.3",
         null,
         null,
         null,
         null,
         "378622427.6",
         null,
         "380614200",
         "48048006.88",
         null,
         "664271400.9",
         null,
         null,
         null,
         null,
         null,
         null,
         null,
         "7600000.0",
         null,
         null,
         null,
         null,
         "135516409.4",
         null,
         null,
         null,
         "1295243695.0",
         null,
         null,
         null,
         null,
         "34299919.08",
         "2696398923.0",
         null,
         null,
         "319557568.5",
         null,
         null,
         null,
         null,
         "262000000.0",
         null,
         "4032439321.0",
         null,
         "233218638.7",
         null,
         null,
         "535813730.2",
         null,
         "36412064.25",
         null,
         null,
         null,
         "433333333.3",
         null,
         null,
         null,
         "146023060.8",
         null,
         null,
         null,
         null,
         "185026101.9",
         null,
         null,
         "3125151515.0",
         null,
         null,
         null,
         null,
         null,
         null,
         "126666717.8",
         null,
         "995378987.7",
         null,
         null,
         null,
         null,
         "1441753153.0",
         null,
         null,
         "2974577220.0",
         null,
         null,
         null,
         null,
         "620050850.4",
         null,
         null,
         null,
         null,
         "29521371.22",
         null,
         null,
         "126128983.8",
         null,
         "18034391.16",
         "2097486801.0",
         null,
         null,
         null,
         "61742256.03",
         "33250000.0",
         null,
         "151428562.9",
         null,
         "7854369043.0",
         null,
         "49792587.35",
         "71423855.8",
         null,
         "837155008.1",
         "1450158421.0",
         "597285655.6",
         null,
         null,
         "99632771.98",
         "138870092.2",
         "178997244.7",
         null,
         null,
         null,
         null,
         null,
         null,
         null,
         null,
         "244400000",
         "181649533.1",
         null,
         null,
         null,
         null,
         null,
         "28979420.41",
         null,
         null,
         null,
         null,
         "10367369963.0",
         null,
         "70124240.08",
         null,
         null,
         null,
         "422969187.7",
         null,
         "900360280.3",
         null,
         null,
         null,
         "201200000",
         null,
         null,
         "81082657.64",
         null,
         "101400000",
         "1552024945.0",
         null,
         null,
         "2860202860.0",
         null,
         "614102503.6",
         null,
         null,
         null,
         null,
         null,
         "281394372.1",
         null,
         null,
         null,
         "268365892.4",
         null,
         null,
         "584540709.8",
         null,
         null,
         null,
         null,
         null,
         null,
         "23939521.21",
         null,
         null,
         null,
         null,
         null,
         null,
         "151309643.6",
         null,
         "1104142166.0",
         null,
         null,
         null,
         null,
         "34317095.89",
         null,
         "1688128000.0",
         null,
         null,
         null,
         null,
         null,
         "533544116.2",
         null,
         null,
         null,
         null,
         null,
         null,
         null,
         null,
         "88585217.81",
         "60518929.75",
         "699267534.6",
         null,
         null,
         null,
         null,
         "732255354.9",
         null,
         "434329900",
         "85456012.23",
         null,
         "777062373.4",
         null,
         null,
         null,
         "1146900000.0",
         null,
         null,
         null,
         "16200002.0",
         null,
         null,
         null,
         null,
         "177791175.9",
         null,
         null,
         null,
         "1428982099.0",
         null,
         null,
         null,
         null,
         "56139923.78",
         "2185399127.0",
         null,
         null,
         "341092712.8",
         null,
         null,
         null,
         null,
         "283000000.0",
         null,
         "4001303567.0",
         null,
         "254143979.1",
         null,
         null,
         "650552088.3",
         null,
         "42712464.96",
         null,
         null,
         null,
         "722222222.2",
         null,
         null,
         null,
         "123258909.9",
         null,
         null,
         null,
         null,
         "185026101.9",
         null,
         null,
         "1480818182.0",
         null,
         null,
         null,
         null,
         null,
         null,
         null,
         null,
         null,
         null,
         null,
         null,
         null,
         null,
         null,
         null,
         "8.168574402",
         "19.78604915",
         null,
         null,
         null,
         null,
         null,
         null,
         "16.31522016",
         null,
         null,
         null,
         null,
         "2.54e-05",
         null,
         null,
         null,
         null,
         null,
         null,
         "13.63468751",
         null,
         null,
         null,
         null,
         "13.84516314",
         null,
         null,
         null,
         null,
         null,
         null,
         "0.082504031",
         null,
         "3.55e-14",
         null,
         "0.269753662",
         "6.179112924",
         null,
         null,
         null,
         "14.14179908",
         null,
         "9.718864731",
         null,
         null,
         "0.517767384",
         "0.013325795",
         "1.189368453",
         "1.907325711",
         null,
         null,
         null,
         null,
         null,
         null,
         null,
         "9.068770098",
         "11.81623115",
         null,
         "9.984627856",
         "2.424572773",
         null,
         "26.69748502",
         null,
         null,
         "1.175783724",
         null,
         null,
         null,
         "1.784072622",
         null,
         null,
         null,
         "0.918211807",
         "1.653084725",
         null,
         null,
         "0.054517212",
         "2.742169683",
         "0.001796458",
         "0.147506098",
         "62.75891111",
         "5.568773453",
         null,
         "0.001106534",
         "4.761819692",
         "0.124549887",
         "22.79001663",
         null,
         null,
         "0.788596499",
         null,
         null,
         "2.056296552",
         null,
         null,
         null,
         null,
         null,
         null,
         null,
         null,
         null,
         null,
         null,
         "17.82368095",
         null,
         null,
         null,
         "21.95509236",
         null,
         null,
         "21.86450755",
         null,
         null,
         "2.913207627",
         "0.013348191",
         null,
         null,
         null,
         null,
         null,
         "11.23989889",
         null,
         "0.148610617",
         null,
         null,
         null,
         "18.04510086",
         null,
         "5.320866885",
         null,
         "11.66688483",
         "0.071725561",
         null,
         null,
         "9.948774591",
         null,
         "2.125694392",
         null,
         "26.18585519",
         null,
         "0.50416302",
         "4.88e-08",
         "1.281720634",
         null,
         "1.258034938",
         null,
         null,
         null,
         null,
         null,
         "3.750411704",
         null,
         null,
         "19.94371178",
         null,
         null,
         null,
         null,
         "28.35701514",
         null,
         null,
         null,
         null,
         null,
         "1.856792992",
         null,
         "3.312779181",
         "1.561878931",
         null,
         null,
         null,
         null,
         "0.001187336",
         "0.008641512",
         "10.14126739",
         "26.42029683",
         "1.452232906",
         null,
         null,
         "11.37080742",
         null,
         null,
         null,
         "2.491867668",
         null,
         "6.15e-05",
         null,
         null,
         null,
         null,
         null,
         null,
         "6.898380803",
         "14.04458957",
         "6.19e-06",
         null,
         null,
         null,
         null,
         null,
         null,
         null,
         null,
         null,
         "78.70642878",
         "0.0",
         "226.8954501",
         "0.0",
         "0.0",
         "0.0",
         "0.0",
         "850.3045786",
         "0.0",
         "0.0",
         "1967.116537",
         "1167.000532",
         "0.0",
         "1867.010351",
         "0.0",
         "101.9014125",
         "0.0",
         "0.0",
         "1535.023729",
         "336.9381023",
         "99.85891753",
         "2020.265247",
         "0.0",
         "123.4293413",
         "0.0",
         "71.10643908",
         "295.6319708",
         "0",
         "0.0",
         "0.0",
         "78.37219583",
         "78.51462075",
         "0.0",
         "117.8234502",
         "130.1752742",
         "2374.498448",
         "0.0",
         "81.91790923",
         "116.7765439",
         "0.0",
         "655.2522487",
         "74.31364345",
         "274.3149575",
         "0.0",
         "377.4298785",
         "157.0558661",
         "344.3546568",
         "194.2125298",
         "0.0",
         "0.0",
         "0.0",
         "0.0",
         "0.0",
         "0.0",
         "0.0",
         "0.0",
         "258.5957819",
         "368.6295837",
         "0.0",
         "0.0",
         "40.75147132",
         "0.0",
         "0.0",
         "151.5017044",
         "0.0",
         "0.0",
         "296.7083165",
         "1522.319242",
         "1744.640123",
         "0.0",
         "298.4704462",
         "0.0",
         "0.0",
         "0.0",
         "211.0397367",
         "0",
         "695.2286244",
         "0.0",
         "0.0",
         "0.0",
         "280.0966364",
         "0.0",
         "0.0",
         "282.3040713",
         "71.96218417",
         "185.0488471",
         "565.7278104",
         "0.0",
         "1831.705656",
         "101.1264294",
         "0.0",
         "208.132467",
         "250.7872054",
         "852.1353017",
         "0.0",
         "1257.811405",
         "1126.019337",
         "485.2438081",
         "724.6937622",
         "0.0",
         "0.0",
         "103.778721",
         "0.0",
         "0",
         "146.3143419",
         "0.0",
         "0.0",
         "0.0",
         "0.0",
         "0.0",
         "0.0",
         "53.08783393",
         "0.0",
         "0.0",
         "0.0",
         "0.0",
         "2441.038555",
         "0.0",
         "138.4071657",
         "48.50542835",
         "279.7175405",
         "0.0",
         "0.0",
         "0.0",
         "0.0",
         "181.0904764",
         "0.0",
         "409.0455701",
         "0.0",
         "0.0",
         "0.0",
         "0.0",
         "0.0",
         "197.1482074",
         "0.0",
         "28.4494305",
         "0.0",
         "0.0",
         "46.86145326",
         "1328.036649",
         "0.0",
         "2622.220271",
         "150.5036589",
         "158.7160645",
         "107.5405726",
         "0.0",
         "0.0",
         "1775.582655",
         "0.0",
         "95.70337782",
         "0.0",
         "583.4115618",
         "115.6641376",
         "0.0",
         "325.5163392",
         "189.746866",
         "0.0",
         "432.5117296",
         "931.751666",
         "0.0",
         "0.0",
         "0.0",
         "41.21829693",
         "0.0",
         "0.0",
         "0.0",
         "0.0",
         "322.3007333",
         "0.0",
         "308.1952644",
         "143.6203068",
         "511.2055753",
         "0.0",
         "0.0",
         "0.0",
         "0.0",
         "73.60720426",
         "589.1604605",
         "0.0",
         "609.4873841",
         "117.0719883",
         "253.9774464",
         "0.0",
         "0.0",
         "162.8054525",
         "190.1282503",
         "403.7570726",
         "2657.022505",
         "2294.182847",
         "238.4376334",
         "0.0",
         "0.0",
         "118.143907",
         "0.0",
         "87.79229795",
         "0.0",
         "760.3978853",
         "0.0",
         "350.6629852",
         "0.0",
         "0.0",
         "0.0",
         "69.17354301",
         "0.0",
         "0.0",
         "1613.456884",
         "3374.515171",
         "584.2916335",
         "0.0",
         "0.0",
         "1077.403051",
         "0.0",
         "0.0",
         "0.0",
         "0.0",
         "213.8967589",
         "277.4797151"
        ],
        [
         "4",
         "1964",
         "800000044.4",
         null,
         "2909292864.0",
         null,
         null,
         null,
         null,
         "25605249382.0",
         null,
         null,
         "23801097547.0",
         "9169983886.0",
         null,
         "266666666.7",
         null,
         "5386054619.0",
         null,
         null,
         "15960106681.0",
         "36193826.12",
         "269818988.3",
         "107566650.6",
         null,
         "539491477.3",
         null,
         "41613969.05",
         "20963733695.0",
         null,
         null,
         null,
         "410321618.2",
         "260750008.0",
         null,
         "782857128.6",
         "776650126.2",
         "49377522897.0",
         null,
         "142025069.5",
         "392247517.6",
         null,
         "5982347826.0",
         "59708343489.0",
         "5973366667.0",
         null,
         "2881545273",
         "185693724.8",
         "542578367.2",
         "921063266.4",
         null,
         null,
         null,
         null,
         null,
         null,
         null,
         null,
         "1025599900",
         "2244146868.0",
         null,
         null,
         "12712471.4",
         null,
         null,
         "64979280.41",
         null,
         null,
         "140032741.5",
         "7766655086.0",
         "94007851047.0",
         null,
         "215679855.3",
         null,
         null,
         null,
         "1731092437",
         null,
         "6669673257.0",
         null,
         null,
         null,
         "1299099900",
         null,
         null,
         "194773376.9",
         "325281200",
         "457000000",
         "2206466461.0",
         null,
         "434267936.9",
         "56480289941.0",
         null,
         "5379845648.0",
         "2340521143.0",
         "2766608946.0",
         null,
         "3405333333.0",
         "63175417019.0",
         "897931401.4",
         "81749006382.0",
         null,
         null,
         "998759333.6",
         null,
         null,
         "3458939358.0",
         null,
         null,
         null,
         null,
         null,
         null,
         "51938961.22",
         null,
         null,
         null,
         null,
         "903158753.9",
         null,
         "802482182.9",
         "194736105.3",
         "2674441396.0",
         null,
         null,
         null,
         null,
         "224495789.3",
         null,
         "20080000000.0",
         null,
         null,
         null,
         null,
         null,
         "2798339769.0",
         null,
         "475197381.9",
         null,
         null,
         "496098775.3",
         "18699380731.0",
         null,
         "7274144351.0",
         "341973758.9",
         "582816358.3",
         "5552822484.0",
         null,
         null,
         "7159202706.0",
         null,
         "5204955901.0",
         null,
         "776137500",
         "305312043.7",
         null,
         "4356913870.0",
         "5953766854.0",
         null,
         "4235608178.0",
         "2570500000.0",
         null,
         null,
         null,
         "129999994.0",
         null,
         null,
         null,
         null,
         "1188930568",
         null,
         "15393032.35",
         "371848114.7",
         "894159153.3",
         null,
         null,
         null,
         null,
         "229529912.7",
         "11955995223.0",
         null,
         "21343844644.0",
         "1309747899",
         "13416554.86",
         null,
         null,
         "14758210.35",
         "1611333333.0",
         "134400000.0",
         "22532416750.0",
         "14480556572.0",
         "1339494267.0",
         null,
         null,
         "3889129942.0",
         null,
         "166104067.6",
         null,
         "711893367.6",
         null,
         "11177777778.0",
         null,
         null,
         null,
         "589056603.8",
         null,
         null,
         "94407558351.0",
         "685800000000.0",
         "1975701816",
         null,
         null,
         "8099318182.0",
         null,
         null,
         null,
         null,
         "839428571.4",
         "1217138000",
         "9744772",
         "1814135",
         "12221675",
         "22850",
         "17466",
         "5734995",
         "57641",
         "21824427",
         "2145004",
         "57029",
         "11167000",
         "7223801",
         "4456691",
         "133705",
         "182888",
         "53741721",
         "234588",
         "8524224",
         "9378113",
         "103069",
         "2585961",
         "48900",
         "246961",
         "3957759",
         "3478999",
         "547870",
         "81064572",
         "8644",
         "97819",
         "8144340",
         "5098891",
         "3026292",
         "222949",
         "6331443",
         "5643039",
         "19325000",
         "8299",
         "1608618",
         "3246527",
         "113777",
         "8821855",
         "698355000",
         "18175187",
         "203762",
         "16903830",
         "1125354",
         "1539942",
         "4071411",
         "4252876",
         "7793258",
         "133148",
         "578628",
         "9727804",
         "4722072",
         "107582",
         "63921",
         "3757123",
         "5093848",
         "29644875",
         "3109571",
         "270616",
         "1118152.0",
         "1277086",
         "365120",
         "24397010",
         "36409",
         "450538",
         "4548543",
         "49230585",
         "90132",
         "524891",
         "396012",
         "3870300",
         "75318337",
         "7524470",
         "25478",
         "8510429",
         "37600",
         "94122",
         "73047",
         "4640795",
         "3735912",
         "641821",
         "637835",
         "4177631",
         "2280044",
         "3504600",
         "10119835",
         "188983",
         "488848139",
         "97596728",
         "24307855",
         "8122199",
         "2866550",
         "49396",
         "2475000",
         "51675350",
         "1730739",
         "96903000",
         "1102404",
         "11511856",
         "9222692",
         "45392",
         "12282417",
         "27984155",
         "1050000",
         "423900.0",
         "2495300",
         "2327137",
         "2240623",
         "2041231",
         "903757",
         "1217905",
         "1667822",
         "18170",
         "2935200",
         "327750",
         "193556",
         "5625164",
         "4032364",
         "9253827",
         "100177",
         "5503750",
         "321250",
         "16710",
         "956794",
         "736381",
         "42771077",
         "50476",
         "2228429",
         "23236",
         "1074518",
         "521753",
         "13857656",
         "7857107",
         "23717785",
         "698797",
         "5590",
         "10783958",
         "12127120",
         "88100",
         "2585400",
         "2006478",
         "3802802",
         "49066762",
         "1569139",
         "10780",
         "3694339",
         "608890",
         "49627623",
         "10792",
         "1276331",
         "2434220",
         "2115573",
         "11383364",
         "29958687",
         "31139450",
         "9035365",
         "2554066",
         "67562",
         "18919126",
         "125345000",
         "3164258",
         "123346",
         "17101",
         "64278",
         "4677304",
         "3580241",
         "6765000",
         "46322",
         "2466671",
         "1841600",
         "4063",
         "4327341",
         "1632114",
         "132766",
         "3001160",
         "18896303",
         "3069735",
         "31609195",
         "10849977",
         "49928",
         "94637",
         "4302",
         "85117",
         "8503989",
         "320267",
         "7661354",
         "5789228",
         "5200341",
         "2402473",
         "11295675",
         "30881136",
         "510035",
         "1662073",
         "71744",
         "902620",
         "4461111",
         "30244258",
         "1833065",
         "5851",
         "5354",
         "7719108",
         "44796959",
         "138049",
         "54000000",
         "191889000",
         "2665383",
         "9762819",
         "72116",
         "9369101",
         "36780001",
         "40800",
         null,
         "5641598",
         "3463211",
         "4322854",
         "71111144.44",
         null,
         "729768730.6",
         null,
         null,
         null,
         null,
         "1424603255.0",
         null,
         null,
         "3549109643.0",
         null,
         null,
         null,
         null,
         "540135770.2",
         null,
         null,
         null,
         null,
         "13861514.15",
         null,
         null,
         "109517688.1",
         null,
         "11989404.71",
         "1354466135.0",
         null,
         null,
         null,
         "11484229.91",
         "36750000.0",
         null,
         "117142857.1",
         null,
         "9398224064.0",
         null,
         "40403674.37",
         "53846256.49",
         null,
         "732786384.7",
         "2250385896.0",
         "714265144.4",
         null,
         null,
         "70846987.31",
         "132494248.2",
         "330533040.4",
         null,
         null,
         null,
         null,
         null,
         null,
         null,
         null,
         "202000000.0",
         "199730280.6",
         null,
         null,
         null,
         null,
         null,
         "34999300.01",
         null,
         null,
         null,
         null,
         "12309840152.0",
         null,
         "90352324.31",
         null,
         null,
         null,
         "344537815.1",
         null,
         "510005047.3",
         null,
         null,
         null,
         "199900000",
         null,
         null,
         "111240739.7",
         null,
         "102700000.0",
         "1609005531.0",
         null,
         null,
         "2104202104.0",
         null,
         "882202284.6",
         null,
         null,
         null,
         null,
         null,
         "300424051.5",
         null,
         null,
         null,
         "333479880.3",
         null,
         null,
         "171665671.4",
         null,
         null,
         null,
         null,
         null,
         null,
         "7979840.403",
         null,
         null,
         null,
         null,
         null,
         null,
         "106752579.4",
         null,
         "1178949432.0",
         null,
         null,
         null,
         null,
         "77479927.83",
         null,
         "1532720000.0",
         null,
         null,
         null,
         null,
         null,
         "545400592.8",
         null,
         null,
         null,
         null,
         null,
         null,
         null,
         null,
         "98741388.05",
         "54007613.44",
         "510977880.4",
         null,
         null,
         null,
         null,
         "401931961.4",
         null,
         "407276600",
         "55888008.0",
         null,
         "806583272.4",
         null,
         null,
         null,
         null,
         null,
         null,
         null,
         "15600000.0",
         null,
         null,
         null,
         null,
         "142348116.4",
         null,
         null,
         "108122255.1",
         "1091630733.0",
         null,
         null,
         null,
         null,
         "36679918.13",
         "2846198863.0",
         null,
         null,
         "322401283.9",
         null,
         null,
         null,
         null,
         "250333333.3",
         null,
         "4573144651.0",
         null,
         "223808507.9",
         null,
         null,
         "674951923.1",
         null,
         "58256753.94",
         null,
         null,
         null,
         "500000000.0",
         null,
         null,
         null,
         "176115304.0",
         null,
         null,
         null,
         null,
         "235904694.5",
         null,
         null,
         "2443818182.0",
         null,
         null,
         null,
         null,
         null,
         null,
         "144444451.1",
         null,
         "856488910.5",
         null,
         null,
         null,
         null,
         "1424602864.0",
         null,
         null,
         "3270243028.0",
         null,
         null,
         null,
         null,
         "760610844.8",
         null,
         null,
         null,
         null,
         "33034384.35",
         null,
         null,
         "126629826.9",
         null,
         "20214693.99",
         "1204326396.0",
         null,
         null,
         null,
         "47262647.17",
         "31500002.0",
         null,
         "122857151.4",
         null,
         "8918902585.0",
         null,
         "57952747.69",
         "83664248.02",
         null,
         "791274033.8",
         "1710130799.0",
         "755727700.0",
         null,
         null,
         "104822271.0",
         "155005187.9",
         "227712352.8",
         null,
         null,
         null,
         null,
         null,
         null,
         null,
         null,
         "287500000",
         "227656539.8",
         null,
         null,
         null,
         null,
         null,
         "29959400.81",
         null,
         null,
         null,
         null,
         "12137117085.0",
         null,
         "77540103.44",
         null,
         null,
         null,
         "413165266.1",
         null,
         "1115046401.0",
         null,
         null,
         null,
         "235000000",
         null,
         null,
         "104240798.0",
         null,
         "113100000",
         "1778091243.0",
         null,
         null,
         "3210903211.0",
         null,
         "878548557.8",
         null,
         null,
         null,
         null,
         null,
         "349993000.1",
         null,
         null,
         null,
         "291759883.0",
         null,
         null,
         "428205544.3",
         null,
         null,
         null,
         null,
         null,
         null,
         "25759484.81",
         null,
         null,
         null,
         null,
         null,
         null,
         "159917394.0",
         null,
         "1132562394.0",
         null,
         null,
         null,
         null,
         "35079696.41",
         null,
         "1978568000.0",
         null,
         null,
         null,
         null,
         null,
         "535520225.3",
         null,
         null,
         null,
         null,
         null,
         null,
         null,
         null,
         "104301947.9",
         "82169184.48",
         "855867282.7",
         null,
         null,
         null,
         null,
         "801763964.7",
         null,
         "441970400",
         "104720015.0",
         null,
         "819077847.6",
         null,
         null,
         null,
         "1341000000.0",
         null,
         null,
         null,
         "16400000.0",
         null,
         null,
         null,
         null,
         "190639562.1",
         null,
         null,
         "109755521.8",
         "1188749510.0",
         null,
         null,
         null,
         null,
         "69859927.26",
         "2647398942.0",
         null,
         null,
         "349987424.2",
         null,
         null,
         null,
         null,
         "289000000.0",
         null,
         "4539339897.0",
         null,
         "257291282.7",
         null,
         null,
         "730192307.7",
         null,
         "59099316.32",
         null,
         null,
         null,
         "611111111.1",
         null,
         null,
         null,
         "136049266.2",
         null,
         null,
         null,
         null,
         "224109459.8",
         null,
         null,
         "1456909091.0",
         null,
         null,
         null,
         null,
         null,
         null,
         null,
         null,
         null,
         null,
         null,
         null,
         null,
         null,
         null,
         null,
         "8.402705515",
         "20.55148503",
         null,
         null,
         null,
         null,
         null,
         null,
         "16.99536263",
         null,
         null,
         null,
         null,
         "2.79e-05",
         null,
         null,
         null,
         null,
         null,
         null,
         "13.88626429",
         null,
         null,
         null,
         null,
         "14.10990269",
         null,
         null,
         null,
         null,
         null,
         null,
         "0.096589478",
         null,
         "4.8e-14",
         null,
         "0.278720363",
         "6.217311738",
         null,
         null,
         null,
         "14.09890181",
         null,
         "10.01944818",
         null,
         "7.977512378",
         "0.52867732",
         "0.013863385",
         "1.232911029",
         "1.940848224",
         null,
         null,
         null,
         null,
         null,
         null,
         null,
         "10.00066428",
         "12.19567298",
         null,
         "10.31695702",
         "2.314602546",
         null,
         "27.32106568",
         "0.001140246",
         null,
         "1.183041872",
         null,
         null,
         null,
         "1.7806193",
         null,
         null,
         null,
         "1.002339712",
         "1.727012351",
         null,
         null,
         "0.065009079",
         "3.108393605",
         "0.003754502",
         "0.153132703",
         "62.70234241",
         "5.9428441",
         null,
         "0.001163772",
         "5.043353831",
         "0.127057603",
         "23.65612602",
         null,
         null,
         "0.787813384",
         null,
         null,
         "2.662139739",
         null,
         null,
         null,
         null,
         null,
         null,
         null,
         null,
         "10.78198571",
         null,
         null,
         "18.37557012",
         null,
         "0.566257492",
         null,
         "21.86667227",
         null,
         null,
         "22.34120716",
         null,
         null,
         "2.968429638",
         "0.013660259",
         null,
         null,
         null,
         null,
         null,
         "11.69191609",
         null,
         "0.147927873",
         null,
         null,
         "2.969465233",
         "19.09600571",
         null,
         "5.505761979",
         null,
         "11.78402223",
         "0.072340101",
         null,
         null,
         "10.53247073",
         null,
         "2.214539636",
         null,
         "26.81786016",
         null,
         "0.511069363",
         "5.36e-08",
         "1.386604847",
         null,
         "1.301372964",
         null,
         null,
         null,
         null,
         null,
         "3.949491777",
         null,
         null,
         "20.50213571",
         null,
         null,
         null,
         null,
         "28.8464844",
         null,
         null,
         null,
         null,
         null,
         "1.90386219",
         null,
         "3.543986214",
         "1.611791071",
         null,
         null,
         null,
         null,
         "0.001234246",
         "0.009007382",
         "10.48481928",
         "27.2341891",
         "1.53060361",
         null,
         null,
         "11.28074161",
         null,
         null,
         null,
         "2.513392362",
         null,
         "6.22e-05",
         null,
         null,
         null,
         null,
         null,
         null,
         "7.124757167",
         "14.22420745",
         "8.81e-06",
         null,
         null,
         null,
         null,
         null,
         null,
         null,
         null,
         null,
         "82.09530653",
         "0.0",
         "238.0437104",
         "0.0",
         "0.0",
         "0.0",
         "0.0",
         "1173.238105",
         "0.0",
         "0.0",
         "2131.377948",
         "1269.412583",
         "0.0",
         "1994.440497",
         "0.0",
         "100.2211042",
         "0.0",
         "0.0",
         "1701.846276",
         "351.1611263",
         "104.3399294",
         "2199.727007",
         "0.0",
         "136.312362",
         "0.0",
         "75.95591847",
         "258.6053707",
         "0",
         "0.0",
         "0.0",
         "80.47271812",
         "86.16154951",
         "0.0",
         "123.6459254",
         "137.6297641",
         "2555.111146",
         "0.0",
         "88.29011578",
         "120.8206547",
         "0.0",
         "678.1281064",
         "85.49855516",
         "328.6550321",
         "0.0",
         "170.467005",
         "165.0091659",
         "352.3368849",
         "226.2270418",
         "0.0",
         "0.0",
         "0.0",
         "0.0",
         "0.0",
         "0.0",
         "0.0",
         "0.0",
         "272.9748001",
         "440.5602342",
         "0.0",
         "0.0",
         "46.9760524",
         "0.0",
         "0.0",
         "177.9669161",
         "0.0",
         "0.0",
         "310.8122766",
         "1707.503938",
         "1909.54162",
         "0.0",
         "410.9040835",
         "0.0",
         "0.0",
         "0.0",
         "230.0617103",
         "0",
         "783.705881",
         "0.0",
         "0.0",
         "0.0",
         "279.9304645",
         "0.0",
         "0.0",
         "305.3663987",
         "77.86259725",
         "200.4347285",
         "629.5915258",
         "0.0",
         "2297.920643",
         "115.5374961",
         "0.0",
         "221.3212827",
         "288.1634817",
         "965.1354227",
         "0.0",
         "1375.892256",
         "1222.54454",
         "518.8138716",
         "843.6168785",
         "0.0",
         "0.0",
         "108.2936884",
         "0.0",
         "0",
         "123.6034948",
         "0.0",
         "0.0",
         "0.0",
         "0.0",
         "0.0",
         "0.0",
         "57.47005138",
         "0.0",
         "0.0",
         "0.0",
         "0.0",
         "2755.633117",
         "0.0",
         "142.6593399",
         "48.29328535",
         "289.0092278",
         "0.0",
         "0.0",
         "0.0",
         "0.0",
         "234.6333581",
         "0.0",
         "469.4761369",
         "0.0",
         "0.0",
         "0.0",
         "0.0",
         "0.0",
         "201.9345673",
         "0.0",
         "20.03548737",
         "0.0",
         "0.0",
         "46.00340388",
         "1541.947365",
         "0.0",
         "2813.546976",
         "170.434841",
         "153.259717",
         "113.1687166",
         "0.0",
         "0.0",
         "1937.884614",
         "0.0",
         "104.8802176",
         "0.0",
         "608.1004849",
         "125.4250001",
         "0.0",
         "382.7439648",
         "198.7325697",
         "0.0",
         "468.7810816",
         "1006.434446",
         "0.0",
         "0.0",
         "0.0",
         "41.08387938",
         "0.0",
         "0.0",
         "0.0",
         "0.0",
         "332.0811553",
         "0.0",
         "332.3050031",
         "150.7489709",
         "485.5338582",
         "0.0",
         "0.0",
         "0.0",
         "0.0",
         "76.48039847",
         "632.7161044",
         "0.0",
         "675.2416391",
         "120.714348",
         "268.7180512",
         "0.0",
         "0.0",
         "173.3873415",
         "189.4797057",
         "419.6498547",
         "2941.048899",
         "2501.29319",
         "257.5781602",
         "0.0",
         "0.0",
         "125.9386942",
         "0.0",
         "99.93788939",
         "0.0",
         "788.696647",
         "0.0",
         "369.5834686",
         "0.0",
         "0.0",
         "0.0",
         "76.31148622",
         "0.0",
         "0.0",
         "1748.288118",
         "3573.941185",
         "741.244998",
         "0.0",
         "0.0",
         "864.4712211",
         "0.0",
         "0.0",
         "0.0",
         "0.0",
         "242.3844725",
         "281.558896"
        ]
       ],
       "shape": {
        "columns": 1303,
        "rows": 5
       }
      },
      "text/html": [
       "<div>\n",
       "<style scoped>\n",
       "    .dataframe tbody tr th:only-of-type {\n",
       "        vertical-align: middle;\n",
       "    }\n",
       "\n",
       "    .dataframe tbody tr th {\n",
       "        vertical-align: top;\n",
       "    }\n",
       "\n",
       "    .dataframe thead th {\n",
       "        text-align: right;\n",
       "    }\n",
       "</style>\n",
       "<table border=\"1\" class=\"dataframe\">\n",
       "  <thead>\n",
       "    <tr style=\"text-align: right;\">\n",
       "      <th></th>\n",
       "      <th>Year</th>\n",
       "      <th>Afghanistan_gdp</th>\n",
       "      <th>Albania_gdp</th>\n",
       "      <th>Algeria_gdp</th>\n",
       "      <th>American Samoa_gdp</th>\n",
       "      <th>Andorra_gdp</th>\n",
       "      <th>Angola_gdp</th>\n",
       "      <th>Antigua and Barbuda_gdp</th>\n",
       "      <th>Argentina_gdp</th>\n",
       "      <th>Armenia_gdp</th>\n",
       "      <th>...</th>\n",
       "      <th>Uruguay_gdp_per_cap</th>\n",
       "      <th>Uzbekistan_gdp_per_cap</th>\n",
       "      <th>Vanuatu_gdp_per_cap</th>\n",
       "      <th>Venezuela, RB_gdp_per_cap</th>\n",
       "      <th>Vietnam_gdp_per_cap</th>\n",
       "      <th>Virgin Islands (U.S.)_gdp_per_cap</th>\n",
       "      <th>West Bank and Gaza_gdp_per_cap</th>\n",
       "      <th>Yemen, Rep._gdp_per_cap</th>\n",
       "      <th>Zambia_gdp_per_cap</th>\n",
       "      <th>Zimbabwe_gdp_per_cap</th>\n",
       "    </tr>\n",
       "  </thead>\n",
       "  <tbody>\n",
       "    <tr>\n",
       "      <th>0</th>\n",
       "      <td>1960</td>\n",
       "      <td>537777811.1</td>\n",
       "      <td>NaN</td>\n",
       "      <td>2.723593e+09</td>\n",
       "      <td>NaN</td>\n",
       "      <td>NaN</td>\n",
       "      <td>NaN</td>\n",
       "      <td>NaN</td>\n",
       "      <td>NaN</td>\n",
       "      <td>NaN</td>\n",
       "      <td>...</td>\n",
       "      <td>489.350725</td>\n",
       "      <td>0.0</td>\n",
       "      <td>0.0</td>\n",
       "      <td>955.446418</td>\n",
       "      <td>0.0</td>\n",
       "      <td>0.0</td>\n",
       "      <td>0.0</td>\n",
       "      <td>0.0</td>\n",
       "      <td>232.188565</td>\n",
       "      <td>278.813847</td>\n",
       "    </tr>\n",
       "    <tr>\n",
       "      <th>1</th>\n",
       "      <td>1961</td>\n",
       "      <td>548888895.6</td>\n",
       "      <td>NaN</td>\n",
       "      <td>2.434727e+09</td>\n",
       "      <td>NaN</td>\n",
       "      <td>NaN</td>\n",
       "      <td>NaN</td>\n",
       "      <td>NaN</td>\n",
       "      <td>NaN</td>\n",
       "      <td>NaN</td>\n",
       "      <td>...</td>\n",
       "      <td>601.703003</td>\n",
       "      <td>0.0</td>\n",
       "      <td>0.0</td>\n",
       "      <td>970.356398</td>\n",
       "      <td>0.0</td>\n",
       "      <td>0.0</td>\n",
       "      <td>0.0</td>\n",
       "      <td>0.0</td>\n",
       "      <td>220.042067</td>\n",
       "      <td>280.828663</td>\n",
       "    </tr>\n",
       "    <tr>\n",
       "      <th>2</th>\n",
       "      <td>1962</td>\n",
       "      <td>546666677.8</td>\n",
       "      <td>NaN</td>\n",
       "      <td>2.001428e+09</td>\n",
       "      <td>NaN</td>\n",
       "      <td>NaN</td>\n",
       "      <td>NaN</td>\n",
       "      <td>NaN</td>\n",
       "      <td>2.445060e+10</td>\n",
       "      <td>NaN</td>\n",
       "      <td>...</td>\n",
       "      <td>656.713227</td>\n",
       "      <td>0.0</td>\n",
       "      <td>0.0</td>\n",
       "      <td>1023.355237</td>\n",
       "      <td>0.0</td>\n",
       "      <td>0.0</td>\n",
       "      <td>0.0</td>\n",
       "      <td>0.0</td>\n",
       "      <td>212.578449</td>\n",
       "      <td>276.688233</td>\n",
       "    </tr>\n",
       "    <tr>\n",
       "      <th>3</th>\n",
       "      <td>1963</td>\n",
       "      <td>751111191.1</td>\n",
       "      <td>NaN</td>\n",
       "      <td>2.702960e+09</td>\n",
       "      <td>NaN</td>\n",
       "      <td>NaN</td>\n",
       "      <td>NaN</td>\n",
       "      <td>NaN</td>\n",
       "      <td>1.827212e+10</td>\n",
       "      <td>NaN</td>\n",
       "      <td>...</td>\n",
       "      <td>584.291633</td>\n",
       "      <td>0.0</td>\n",
       "      <td>0.0</td>\n",
       "      <td>1077.403051</td>\n",
       "      <td>0.0</td>\n",
       "      <td>0.0</td>\n",
       "      <td>0.0</td>\n",
       "      <td>0.0</td>\n",
       "      <td>213.896759</td>\n",
       "      <td>277.479715</td>\n",
       "    </tr>\n",
       "    <tr>\n",
       "      <th>4</th>\n",
       "      <td>1964</td>\n",
       "      <td>800000044.4</td>\n",
       "      <td>NaN</td>\n",
       "      <td>2.909293e+09</td>\n",
       "      <td>NaN</td>\n",
       "      <td>NaN</td>\n",
       "      <td>NaN</td>\n",
       "      <td>NaN</td>\n",
       "      <td>2.560525e+10</td>\n",
       "      <td>NaN</td>\n",
       "      <td>...</td>\n",
       "      <td>741.244998</td>\n",
       "      <td>0.0</td>\n",
       "      <td>0.0</td>\n",
       "      <td>864.471221</td>\n",
       "      <td>0.0</td>\n",
       "      <td>0.0</td>\n",
       "      <td>0.0</td>\n",
       "      <td>0.0</td>\n",
       "      <td>242.384472</td>\n",
       "      <td>281.558896</td>\n",
       "    </tr>\n",
       "  </tbody>\n",
       "</table>\n",
       "<p>5 rows × 1303 columns</p>\n",
       "</div>"
      ],
      "text/plain": [
       "   Year  Afghanistan_gdp  Albania_gdp   Algeria_gdp  American Samoa_gdp  \\\n",
       "0  1960      537777811.1          NaN  2.723593e+09                 NaN   \n",
       "1  1961      548888895.6          NaN  2.434727e+09                 NaN   \n",
       "2  1962      546666677.8          NaN  2.001428e+09                 NaN   \n",
       "3  1963      751111191.1          NaN  2.702960e+09                 NaN   \n",
       "4  1964      800000044.4          NaN  2.909293e+09                 NaN   \n",
       "\n",
       "   Andorra_gdp  Angola_gdp  Antigua and Barbuda_gdp  Argentina_gdp  \\\n",
       "0          NaN         NaN                      NaN            NaN   \n",
       "1          NaN         NaN                      NaN            NaN   \n",
       "2          NaN         NaN                      NaN   2.445060e+10   \n",
       "3          NaN         NaN                      NaN   1.827212e+10   \n",
       "4          NaN         NaN                      NaN   2.560525e+10   \n",
       "\n",
       "   Armenia_gdp  ...  Uruguay_gdp_per_cap  Uzbekistan_gdp_per_cap  \\\n",
       "0          NaN  ...           489.350725                     0.0   \n",
       "1          NaN  ...           601.703003                     0.0   \n",
       "2          NaN  ...           656.713227                     0.0   \n",
       "3          NaN  ...           584.291633                     0.0   \n",
       "4          NaN  ...           741.244998                     0.0   \n",
       "\n",
       "   Vanuatu_gdp_per_cap  Venezuela, RB_gdp_per_cap  Vietnam_gdp_per_cap  \\\n",
       "0                  0.0                 955.446418                  0.0   \n",
       "1                  0.0                 970.356398                  0.0   \n",
       "2                  0.0                1023.355237                  0.0   \n",
       "3                  0.0                1077.403051                  0.0   \n",
       "4                  0.0                 864.471221                  0.0   \n",
       "\n",
       "   Virgin Islands (U.S.)_gdp_per_cap  West Bank and Gaza_gdp_per_cap  \\\n",
       "0                                0.0                             0.0   \n",
       "1                                0.0                             0.0   \n",
       "2                                0.0                             0.0   \n",
       "3                                0.0                             0.0   \n",
       "4                                0.0                             0.0   \n",
       "\n",
       "   Yemen, Rep._gdp_per_cap  Zambia_gdp_per_cap  Zimbabwe_gdp_per_cap  \n",
       "0                      0.0          232.188565            278.813847  \n",
       "1                      0.0          220.042067            280.828663  \n",
       "2                      0.0          212.578449            276.688233  \n",
       "3                      0.0          213.896759            277.479715  \n",
       "4                      0.0          242.384472            281.558896  \n",
       "\n",
       "[5 rows x 1303 columns]"
      ]
     },
     "execution_count": 2,
     "metadata": {},
     "output_type": "execute_result"
    }
   ],
   "source": [
    "# Create a dataframe from a csv file\n",
    "df = pd.read_csv(\"Assets/global_economy_data.csv\", delimiter=\";\")\n",
    "\n",
    "df.head()"
   ]
  },
  {
   "cell_type": "markdown",
   "metadata": {},
   "source": [
    "## Plot the data (visualise)\n",
    "\n",
    "As we have seen in Chapter 2, visualisation is an essential step in understanding the data. Looking at your data allows you to identify common patterns, and subsequently specify an appropriate model.\n",
    "\n",
    "The data for one country in our example are plotted the next Figure:"
   ]
  },
  {
   "cell_type": "code",
   "execution_count": 3,
   "metadata": {},
   "outputs": [
    {
     "data": {
      "text/plain": [
       "[<matplotlib.lines.Line2D at 0x7a16b96a38e0>]"
      ]
     },
     "execution_count": 3,
     "metadata": {},
     "output_type": "execute_result"
    },
    {
     "data": {
      "image/png": "[encoded data removed]",
      "text/plain": [
       "<Figure size 2000x800 with 1 Axes>"
      ]
     },
     "metadata": {},
     "output_type": "display_data"
    }
   ],
   "source": [
    "fig = plt.figure(figsize=(20, 8))\n",
    "ax = plt.axes()\n",
    "\n",
    "# Specify graph features\n",
    "plt.title(\"GDP per capita for Sweden\")\n",
    "plt.xlabel(\"Year [1Y]\")\n",
    "plt.ylabel(\"$US\")\n",
    "\n",
    "ax.plot(df[\"Year\"], df[\"Sweden_gdp_per_cap\"])"
   ]
  },
  {
   "cell_type": "markdown",
   "metadata": {},
   "source": [
    "<p style=\"text-align: center;\">\n",
    "Figure 1: GDP per capita data for Sweden from 1960 to 2017.\n",
    "</p>"
   ]
  },
  {
   "cell_type": "markdown",
   "metadata": {},
   "source": [
    "## Define a model (specify)\n",
    "\n",
    "There are many different time series models that can be used for forecasting, and much of this book is dedicated to describing various models. Specifying an appropriate model for the data is essential for producing appropriate forecasts.\n",
    "\n",
    "*For example, it´s possible to use an `ETS model` to study the time series of GDP per capita.*\n",
    "\n",
    "*The exponential smoothing (ETS) algorithm is especially suited for data with seasonality and trend. ETS computes a weighted average over all observations in the input time series dataset as its prediction. In contrast to moving average methods with constant weights, ETS weights exponentially decrease over time, capturing long term dependencies while prioritizing new observations.*"
   ]
  },
  {
   "cell_type": "code",
   "execution_count": null,
   "metadata": {},
   "outputs": [],
   "source": [
    "# Import the model that we are going to use:\n",
    "from statsforecast import StatsForecast\n",
    "\n",
    "# from statsforecast.models import ETS # deprecated?\n",
    "from statsforecast.models import AutoETS"
   ]
  },
  {
   "cell_type": "markdown",
   "metadata": {},
   "source": [
    "*AutoETS model Automatically selects the best ETS (Error, Trend, Seasonality) model using an information criterion. Default is Akaike Information Criterion (AICc), while particular models are estimated using maximum likelihood. The state-space equations can be determined based on their `M` multiplicative, `A` additive, `Z` optimized or `N` ommited components. The model string parameter defines the ETS equations: E in `[M A Z]`, T in `[N A M Z]`, and S in `[N A M Z]`.*\n",
    "\n",
    "*For example when model=‘ANN’ (additive error, no trend, and no seasonality), ETS will explore only a simple exponential smoothing.*\n",
    "\n",
    "*If the component is selected as ‘Z’, it operates as a placeholder to ask the AutoETS model to figure out the best parameter.*"
   ]
  },
  {
   "cell_type": "markdown",
   "metadata": {},
   "source": [
    "## Train the model (estimate)\n",
    "\n",
    "Once an appropriate model is specified, we next train the model on some data. To estimate the model in our example, we use:"
   ]
  },
  {
   "cell_type": "code",
   "execution_count": 6,
   "metadata": {},
   "outputs": [],
   "source": [
    "# Create an array with the observed values in Sweden_gdp_per_cap:\n",
    "y_sweden_gdp_per_cap = df[\"Sweden_gdp_per_cap\"].values\n",
    "\n",
    "# Create a dataframe with the observed values in Sweden_gdp_per_cap and date index:\n",
    "Y_df = df[[\"Year\", \"Sweden_gdp_per_cap\"]]\n",
    "Y_df.columns = [\"ds\", \"y\"]"
   ]
  },
  {
   "cell_type": "code",
   "execution_count": 7,
   "metadata": {},
   "outputs": [],
   "source": [
    "# for ets we pass a ZMZ model (Multiplicative trend, optimal error and seasonality) which stands for error selected optimally:\n",
    "ets = AutoETS(model=\"ZMZ\", season_length=4)\n",
    "ets = ets.fit(y=y_sweden_gdp_per_cap)"
   ]
  },
  {
   "cell_type": "markdown",
   "metadata": {},
   "source": [
    "This fits a ETS model to the GDP per capita data for Sweden "
   ]
  },
  {
   "cell_type": "markdown",
   "metadata": {},
   "source": [
    "## Check model performance (evaluate)\n",
    "\n",
    "Once a model has been fitted, it is important to check how well it has performed on the data. There are several diagnostic tools available to check model behaviour, and also accuracy measures that allow one model to be compared against another. Sections 8 and 9 go into further details.\n",
    "\n",
    "## Produce forecasts (forecast)\n",
    "\n",
    "With an appropriate model specified, estimated and checked, it is time to produce the forecasts using `.predict()`. The easiest way to use this function is by specifying the number of future observations to forecast. For example, forecasts for the next 10 observations can be generated using `h = 10`. We can also use natural language; e.g., `h = \"2 years\"` can be used to predict two years into the future.\n",
    "\n",
    "In other situations, it may be more convenient to provide a dataset of future time periods to forecast. This is commonly required when your model uses additional information from the data, such as exogenous regressors. Additional data required by the model can be included in the dataset of observations to forecast."
   ]
  },
  {
   "cell_type": "code",
   "execution_count": 12,
   "metadata": {},
   "outputs": [
    {
     "data": {
      "text/plain": [
       "{'mean': array([55573.24697785, 57414.00914268, 59276.49991915])}"
      ]
     },
     "execution_count": 12,
     "metadata": {},
     "output_type": "execute_result"
    }
   ],
   "source": [
    "# Make predictions with ETS model:\n",
    "horizon = 3\n",
    "y_hat_dict = ets.predict(h=horizon)\n",
    "y_hat_dict"
   ]
  },
  {
   "cell_type": "code",
   "execution_count": 14,
   "metadata": {},
   "outputs": [
    {
     "data": {
      "application/vnd.microsoft.datawrangler.viewer.v0+json": {
       "columns": [
        {
         "name": "index",
         "rawType": "int64",
         "type": "integer"
        },
        {
         "name": "ds",
         "rawType": "int64",
         "type": "integer"
        },
        {
         "name": "ETS",
         "rawType": "float64",
         "type": "float"
        }
       ],
       "ref": "4b7af9f6-4aa6-4eed-a4ea-059ca1abe292",
       "rows": [
        [
         "0",
         "2018",
         "55573.246977847106"
        ],
        [
         "1",
         "2019",
         "57414.009142679184"
        ],
        [
         "2",
         "2020",
         "59276.49991914817"
        ]
       ],
       "shape": {
        "columns": 2,
        "rows": 3
       }
      },
      "text/html": [
       "<div>\n",
       "<style scoped>\n",
       "    .dataframe tbody tr th:only-of-type {\n",
       "        vertical-align: middle;\n",
       "    }\n",
       "\n",
       "    .dataframe tbody tr th {\n",
       "        vertical-align: top;\n",
       "    }\n",
       "\n",
       "    .dataframe thead th {\n",
       "        text-align: right;\n",
       "    }\n",
       "</style>\n",
       "<table border=\"1\" class=\"dataframe\">\n",
       "  <thead>\n",
       "    <tr style=\"text-align: right;\">\n",
       "      <th></th>\n",
       "      <th>ds</th>\n",
       "      <th>ETS</th>\n",
       "    </tr>\n",
       "  </thead>\n",
       "  <tbody>\n",
       "    <tr>\n",
       "      <th>0</th>\n",
       "      <td>2018</td>\n",
       "      <td>55573.246978</td>\n",
       "    </tr>\n",
       "    <tr>\n",
       "      <th>1</th>\n",
       "      <td>2019</td>\n",
       "      <td>57414.009143</td>\n",
       "    </tr>\n",
       "    <tr>\n",
       "      <th>2</th>\n",
       "      <td>2020</td>\n",
       "      <td>59276.499919</td>\n",
       "    </tr>\n",
       "  </tbody>\n",
       "</table>\n",
       "</div>"
      ],
      "text/plain": [
       "     ds           ETS\n",
       "0  2018  55573.246978\n",
       "1  2019  57414.009143\n",
       "2  2020  59276.499919"
      ]
     },
     "execution_count": 14,
     "metadata": {},
     "output_type": "execute_result"
    }
   ],
   "source": [
    "# Specify the years predicted\n",
    "years_pred = [2018, 2019, 2020]\n",
    "\n",
    "# Create a dataframe with the years and values predicted\n",
    "Y_pred_df = pd.DataFrame({\"ds\": years_pred, \"ETS\": y_hat_dict[\"mean\"]})\n",
    "\n",
    "Y_pred_df"
   ]
  },
  {
   "cell_type": "markdown",
   "metadata": {},
   "source": [
    "The forecasts can be plotted along with the historical data using matplotlib as follows:"
   ]
  },
  {
   "cell_type": "code",
   "execution_count": 15,
   "metadata": {},
   "outputs": [
    {
     "data": {
      "image/png": "[encoded data removed]",
      "text/plain": [
       "<Figure size 2000x800 with 1 Axes>"
      ]
     },
     "metadata": {},
     "output_type": "display_data"
    }
   ],
   "source": [
    "fig, ax = plt.subplots(1, 1, figsize=(20, 8))\n",
    "\n",
    "# Concatenate the dataframe of predicted values with the dataframe of observed values\n",
    "plot_df = pd.concat([Y_df, Y_pred_df]).set_index(\"ds\")\n",
    "plot_df[[\"y\", \"ETS\"]].plot(ax=ax, linewidth=2)\n",
    "\n",
    "# Specify graph features\n",
    "ax.set_title(\"GDP per capita for Sweden\", fontsize=22)\n",
    "ax.set_ylabel(\"$US\", fontsize=20)\n",
    "ax.set_xlabel(\"Year\", fontsize=20)\n",
    "ax.legend(prop={\"size\": 15})\n",
    "ax.grid()"
   ]
  },
  {
   "cell_type": "markdown",
   "metadata": {},
   "source": [
    "<p style=\"text-align: center;\">\n",
    "Figure 2: Forecasts of GDP per capita for Sweden using a simple trend model.\n",
    "</p>"
   ]
  }
 ],
 "metadata": {
  "kernelspec": {
   "display_name": "Python 3",
   "language": "python",
   "name": "python3"
  },
  "language_info": {
   "codemirror_mode": {
    "name": "ipython",
    "version": 3
   },
   "file_extension": ".py",
   "mimetype": "text/x-python",
   "name": "python",
   "nbconvert_exporter": "python",
   "pygments_lexer": "ipython3",
   "version": "3.10.12"
  },
  "orig_nbformat": 4
 },
 "nbformat": 4,
 "nbformat_minor": 2
}
